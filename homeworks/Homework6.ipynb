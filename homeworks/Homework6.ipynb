{
 "cells": [
  {
   "cell_type": "code",
   "outputs": [],
   "source": [
    "import numpy as np\n",
    "import pandas as pd\n",
    "import requests\n",
    "from matplotlib import pyplot as plt\n",
    "from sklearn.ensemble import RandomForestRegressor, RandomForestClassifier\n",
    "from sklearn.feature_extraction import DictVectorizer\n",
    "from sklearn.model_selection import train_test_split\n",
    "from sklearn.tree import DecisionTreeRegressor, export_text"
   ],
   "metadata": {
    "collapsed": false,
    "ExecuteTime": {
     "end_time": "2025-02-18T03:54:00.116495Z",
     "start_time": "2025-02-18T03:54:00.109656Z"
    }
   },
   "id": "85a7eaaac0cc0a9c",
   "execution_count": 11
  },
  {
   "cell_type": "code",
   "outputs": [],
   "source": [
    "# Getting the data 1\n",
    "url = 'https://github.com/alexeygrigorev/datasets/raw/refs/heads/master/jamb_exam_results.csv'\n",
    "dataset_path = '../datasets/'\n",
    "response = requests.get(url)\n",
    "with open(f'{dataset_path}jamb_exam_results.csv', 'wb') as file:\n",
    "    for chunk in response.iter_content(chunk_size=1024):\n",
    "        file.write(chunk)"
   ],
   "metadata": {
    "collapsed": true,
    "ExecuteTime": {
     "end_time": "2025-02-18T03:54:02.497842Z",
     "start_time": "2025-02-18T03:54:00.970788Z"
    }
   },
   "id": "initial_id",
   "execution_count": 12
  },
  {
   "cell_type": "code",
   "outputs": [],
   "source": [
    "# Preparing the dataset\n",
    "df = pd.read_csv(f'{dataset_path}jamb_exam_results.csv')\n",
    "# First, let's make the names lowercase:\n",
    "df.columns = df.columns.str.lower().str.replace(' ', '_')\n",
    "# Remove the student_id column.\n",
    "del df['student_id']\n",
    "# Fill missing values with zeros.\n",
    "df = df.fillna(0)"
   ],
   "metadata": {
    "collapsed": false,
    "ExecuteTime": {
     "end_time": "2025-02-18T03:54:03.121441Z",
     "start_time": "2025-02-18T03:54:03.103113Z"
    }
   },
   "id": "5410798f58c9a2a",
   "execution_count": 13
  },
  {
   "cell_type": "code",
   "outputs": [
    {
     "data": {
      "text/plain": "(5000, 4000, 3000, 1000, 1000)"
     },
     "execution_count": 14,
     "metadata": {},
     "output_type": "execute_result"
    }
   ],
   "source": [
    "# Use the train_test_split function and set the random_state parameter to 1.\n",
    "df_full_train, df_test = train_test_split(df, test_size=0.2, random_state=1)\n",
    "df_train, df_val = train_test_split(df_full_train, test_size=0.25, random_state=1)\n",
    "len(df), len(df_full_train), len(df_train), len(df_test), len(df_val)"
   ],
   "metadata": {
    "collapsed": false,
    "ExecuteTime": {
     "end_time": "2025-02-18T03:54:03.738755Z",
     "start_time": "2025-02-18T03:54:03.723702Z"
    }
   },
   "id": "bcb679abda091297",
   "execution_count": 14
  },
  {
   "cell_type": "code",
   "outputs": [],
   "source": [
    "df_train = df_train.reset_index(drop=True)\n",
    "df_val = df_val.reset_index(drop=True)\n",
    "df_test = df_test.reset_index(drop=True)\n",
    "\n",
    "y_train = df_train.jamb_score.astype('int').values\n",
    "y_val = df_val.jamb_score.astype('int').values\n",
    "y_test = df_test.jamb_score.astype('int').values\n",
    "\n",
    "del df_train['jamb_score']\n",
    "del df_val['jamb_score']\n",
    "del df_test['jamb_score']"
   ],
   "metadata": {
    "collapsed": false,
    "ExecuteTime": {
     "end_time": "2025-02-18T03:54:04.369092Z",
     "start_time": "2025-02-18T03:54:04.359645Z"
    }
   },
   "id": "21d26df0f1b5125",
   "execution_count": 15
  },
  {
   "cell_type": "code",
   "outputs": [],
   "source": [
    "# Use DictVectorizer(sparse=True) to turn the dataframes into matrices.\n",
    "dv = DictVectorizer(sparse=True)"
   ],
   "metadata": {
    "collapsed": false,
    "ExecuteTime": {
     "end_time": "2025-02-18T03:54:04.969098Z",
     "start_time": "2025-02-18T03:54:04.958531Z"
    }
   },
   "id": "c105999d0312745d",
   "execution_count": 16
  },
  {
   "cell_type": "code",
   "outputs": [],
   "source": [
    "# Question 1\n",
    "# Let's train a decision tree regressor to predict the jamb_score variable.\n",
    "# \n",
    "# Train a model with max_depth=1.\n",
    "# Which feature is used for splitting the data?\n",
    "# \n",
    "# study_hours_per_week\n",
    "# attendance_rate\n",
    "# teacher_quality\n",
    "# distance_to_school"
   ],
   "metadata": {
    "collapsed": false,
    "ExecuteTime": {
     "end_time": "2025-02-18T03:54:05.622186Z",
     "start_time": "2025-02-18T03:54:05.612834Z"
    }
   },
   "id": "ca7801ab385901f9",
   "execution_count": 17
  },
  {
   "cell_type": "code",
   "outputs": [],
   "source": [
    "train_dicts = df_train.to_dict(orient='records')\n",
    "X_train = dv.fit_transform(train_dicts)"
   ],
   "metadata": {
    "collapsed": false,
    "ExecuteTime": {
     "end_time": "2025-02-18T03:54:06.374328Z",
     "start_time": "2025-02-18T03:54:06.298147Z"
    }
   },
   "id": "4e324633e056a0b7",
   "execution_count": 18
  },
  {
   "cell_type": "code",
   "outputs": [],
   "source": [
    "val_dicts = df_val.fillna(0).to_dict(orient='records')\n",
    "X_val = dv.transform(val_dicts)"
   ],
   "metadata": {
    "collapsed": false,
    "ExecuteTime": {
     "end_time": "2025-02-18T03:54:06.835071Z",
     "start_time": "2025-02-18T03:54:06.821784Z"
    }
   },
   "id": "67a2a8f10f7e96ae",
   "execution_count": 19
  },
  {
   "cell_type": "code",
   "outputs": [
    {
     "data": {
      "text/plain": "DecisionTreeRegressor(max_depth=1)",
      "text/html": "<style>#sk-container-id-2 {\n  /* Definition of color scheme common for light and dark mode */\n  --sklearn-color-text: black;\n  --sklearn-color-line: gray;\n  /* Definition of color scheme for unfitted estimators */\n  --sklearn-color-unfitted-level-0: #fff5e6;\n  --sklearn-color-unfitted-level-1: #f6e4d2;\n  --sklearn-color-unfitted-level-2: #ffe0b3;\n  --sklearn-color-unfitted-level-3: chocolate;\n  /* Definition of color scheme for fitted estimators */\n  --sklearn-color-fitted-level-0: #f0f8ff;\n  --sklearn-color-fitted-level-1: #d4ebff;\n  --sklearn-color-fitted-level-2: #b3dbfd;\n  --sklearn-color-fitted-level-3: cornflowerblue;\n\n  /* Specific color for light theme */\n  --sklearn-color-text-on-default-background: var(--sg-text-color, var(--theme-code-foreground, var(--jp-content-font-color1, black)));\n  --sklearn-color-background: var(--sg-background-color, var(--theme-background, var(--jp-layout-color0, white)));\n  --sklearn-color-border-box: var(--sg-text-color, var(--theme-code-foreground, var(--jp-content-font-color1, black)));\n  --sklearn-color-icon: #696969;\n\n  @media (prefers-color-scheme: dark) {\n    /* Redefinition of color scheme for dark theme */\n    --sklearn-color-text-on-default-background: var(--sg-text-color, var(--theme-code-foreground, var(--jp-content-font-color1, white)));\n    --sklearn-color-background: var(--sg-background-color, var(--theme-background, var(--jp-layout-color0, #111)));\n    --sklearn-color-border-box: var(--sg-text-color, var(--theme-code-foreground, var(--jp-content-font-color1, white)));\n    --sklearn-color-icon: #878787;\n  }\n}\n\n#sk-container-id-2 {\n  color: var(--sklearn-color-text);\n}\n\n#sk-container-id-2 pre {\n  padding: 0;\n}\n\n#sk-container-id-2 input.sk-hidden--visually {\n  border: 0;\n  clip: rect(1px 1px 1px 1px);\n  clip: rect(1px, 1px, 1px, 1px);\n  height: 1px;\n  margin: -1px;\n  overflow: hidden;\n  padding: 0;\n  position: absolute;\n  width: 1px;\n}\n\n#sk-container-id-2 div.sk-dashed-wrapped {\n  border: 1px dashed var(--sklearn-color-line);\n  margin: 0 0.4em 0.5em 0.4em;\n  box-sizing: border-box;\n  padding-bottom: 0.4em;\n  background-color: var(--sklearn-color-background);\n}\n\n#sk-container-id-2 div.sk-container {\n  /* jupyter's `normalize.less` sets `[hidden] { display: none; }`\n     but bootstrap.min.css set `[hidden] { display: none !important; }`\n     so we also need the `!important` here to be able to override the\n     default hidden behavior on the sphinx rendered scikit-learn.org.\n     See: https://github.com/scikit-learn/scikit-learn/issues/21755 */\n  display: inline-block !important;\n  position: relative;\n}\n\n#sk-container-id-2 div.sk-text-repr-fallback {\n  display: none;\n}\n\ndiv.sk-parallel-item,\ndiv.sk-serial,\ndiv.sk-item {\n  /* draw centered vertical line to link estimators */\n  background-image: linear-gradient(var(--sklearn-color-text-on-default-background), var(--sklearn-color-text-on-default-background));\n  background-size: 2px 100%;\n  background-repeat: no-repeat;\n  background-position: center center;\n}\n\n/* Parallel-specific style estimator block */\n\n#sk-container-id-2 div.sk-parallel-item::after {\n  content: \"\";\n  width: 100%;\n  border-bottom: 2px solid var(--sklearn-color-text-on-default-background);\n  flex-grow: 1;\n}\n\n#sk-container-id-2 div.sk-parallel {\n  display: flex;\n  align-items: stretch;\n  justify-content: center;\n  background-color: var(--sklearn-color-background);\n  position: relative;\n}\n\n#sk-container-id-2 div.sk-parallel-item {\n  display: flex;\n  flex-direction: column;\n}\n\n#sk-container-id-2 div.sk-parallel-item:first-child::after {\n  align-self: flex-end;\n  width: 50%;\n}\n\n#sk-container-id-2 div.sk-parallel-item:last-child::after {\n  align-self: flex-start;\n  width: 50%;\n}\n\n#sk-container-id-2 div.sk-parallel-item:only-child::after {\n  width: 0;\n}\n\n/* Serial-specific style estimator block */\n\n#sk-container-id-2 div.sk-serial {\n  display: flex;\n  flex-direction: column;\n  align-items: center;\n  background-color: var(--sklearn-color-background);\n  padding-right: 1em;\n  padding-left: 1em;\n}\n\n\n/* Toggleable style: style used for estimator/Pipeline/ColumnTransformer box that is\nclickable and can be expanded/collapsed.\n- Pipeline and ColumnTransformer use this feature and define the default style\n- Estimators will overwrite some part of the style using the `sk-estimator` class\n*/\n\n/* Pipeline and ColumnTransformer style (default) */\n\n#sk-container-id-2 div.sk-toggleable {\n  /* Default theme specific background. It is overwritten whether we have a\n  specific estimator or a Pipeline/ColumnTransformer */\n  background-color: var(--sklearn-color-background);\n}\n\n/* Toggleable label */\n#sk-container-id-2 label.sk-toggleable__label {\n  cursor: pointer;\n  display: block;\n  width: 100%;\n  margin-bottom: 0;\n  padding: 0.5em;\n  box-sizing: border-box;\n  text-align: center;\n}\n\n#sk-container-id-2 label.sk-toggleable__label-arrow:before {\n  /* Arrow on the left of the label */\n  content: \"▸\";\n  float: left;\n  margin-right: 0.25em;\n  color: var(--sklearn-color-icon);\n}\n\n#sk-container-id-2 label.sk-toggleable__label-arrow:hover:before {\n  color: var(--sklearn-color-text);\n}\n\n/* Toggleable content - dropdown */\n\n#sk-container-id-2 div.sk-toggleable__content {\n  max-height: 0;\n  max-width: 0;\n  overflow: hidden;\n  text-align: left;\n  /* unfitted */\n  background-color: var(--sklearn-color-unfitted-level-0);\n}\n\n#sk-container-id-2 div.sk-toggleable__content.fitted {\n  /* fitted */\n  background-color: var(--sklearn-color-fitted-level-0);\n}\n\n#sk-container-id-2 div.sk-toggleable__content pre {\n  margin: 0.2em;\n  border-radius: 0.25em;\n  color: var(--sklearn-color-text);\n  /* unfitted */\n  background-color: var(--sklearn-color-unfitted-level-0);\n}\n\n#sk-container-id-2 div.sk-toggleable__content.fitted pre {\n  /* unfitted */\n  background-color: var(--sklearn-color-fitted-level-0);\n}\n\n#sk-container-id-2 input.sk-toggleable__control:checked~div.sk-toggleable__content {\n  /* Expand drop-down */\n  max-height: 200px;\n  max-width: 100%;\n  overflow: auto;\n}\n\n#sk-container-id-2 input.sk-toggleable__control:checked~label.sk-toggleable__label-arrow:before {\n  content: \"▾\";\n}\n\n/* Pipeline/ColumnTransformer-specific style */\n\n#sk-container-id-2 div.sk-label input.sk-toggleable__control:checked~label.sk-toggleable__label {\n  color: var(--sklearn-color-text);\n  background-color: var(--sklearn-color-unfitted-level-2);\n}\n\n#sk-container-id-2 div.sk-label.fitted input.sk-toggleable__control:checked~label.sk-toggleable__label {\n  background-color: var(--sklearn-color-fitted-level-2);\n}\n\n/* Estimator-specific style */\n\n/* Colorize estimator box */\n#sk-container-id-2 div.sk-estimator input.sk-toggleable__control:checked~label.sk-toggleable__label {\n  /* unfitted */\n  background-color: var(--sklearn-color-unfitted-level-2);\n}\n\n#sk-container-id-2 div.sk-estimator.fitted input.sk-toggleable__control:checked~label.sk-toggleable__label {\n  /* fitted */\n  background-color: var(--sklearn-color-fitted-level-2);\n}\n\n#sk-container-id-2 div.sk-label label.sk-toggleable__label,\n#sk-container-id-2 div.sk-label label {\n  /* The background is the default theme color */\n  color: var(--sklearn-color-text-on-default-background);\n}\n\n/* On hover, darken the color of the background */\n#sk-container-id-2 div.sk-label:hover label.sk-toggleable__label {\n  color: var(--sklearn-color-text);\n  background-color: var(--sklearn-color-unfitted-level-2);\n}\n\n/* Label box, darken color on hover, fitted */\n#sk-container-id-2 div.sk-label.fitted:hover label.sk-toggleable__label.fitted {\n  color: var(--sklearn-color-text);\n  background-color: var(--sklearn-color-fitted-level-2);\n}\n\n/* Estimator label */\n\n#sk-container-id-2 div.sk-label label {\n  font-family: monospace;\n  font-weight: bold;\n  display: inline-block;\n  line-height: 1.2em;\n}\n\n#sk-container-id-2 div.sk-label-container {\n  text-align: center;\n}\n\n/* Estimator-specific */\n#sk-container-id-2 div.sk-estimator {\n  font-family: monospace;\n  border: 1px dotted var(--sklearn-color-border-box);\n  border-radius: 0.25em;\n  box-sizing: border-box;\n  margin-bottom: 0.5em;\n  /* unfitted */\n  background-color: var(--sklearn-color-unfitted-level-0);\n}\n\n#sk-container-id-2 div.sk-estimator.fitted {\n  /* fitted */\n  background-color: var(--sklearn-color-fitted-level-0);\n}\n\n/* on hover */\n#sk-container-id-2 div.sk-estimator:hover {\n  /* unfitted */\n  background-color: var(--sklearn-color-unfitted-level-2);\n}\n\n#sk-container-id-2 div.sk-estimator.fitted:hover {\n  /* fitted */\n  background-color: var(--sklearn-color-fitted-level-2);\n}\n\n/* Specification for estimator info (e.g. \"i\" and \"?\") */\n\n/* Common style for \"i\" and \"?\" */\n\n.sk-estimator-doc-link,\na:link.sk-estimator-doc-link,\na:visited.sk-estimator-doc-link {\n  float: right;\n  font-size: smaller;\n  line-height: 1em;\n  font-family: monospace;\n  background-color: var(--sklearn-color-background);\n  border-radius: 1em;\n  height: 1em;\n  width: 1em;\n  text-decoration: none !important;\n  margin-left: 1ex;\n  /* unfitted */\n  border: var(--sklearn-color-unfitted-level-1) 1pt solid;\n  color: var(--sklearn-color-unfitted-level-1);\n}\n\n.sk-estimator-doc-link.fitted,\na:link.sk-estimator-doc-link.fitted,\na:visited.sk-estimator-doc-link.fitted {\n  /* fitted */\n  border: var(--sklearn-color-fitted-level-1) 1pt solid;\n  color: var(--sklearn-color-fitted-level-1);\n}\n\n/* On hover */\ndiv.sk-estimator:hover .sk-estimator-doc-link:hover,\n.sk-estimator-doc-link:hover,\ndiv.sk-label-container:hover .sk-estimator-doc-link:hover,\n.sk-estimator-doc-link:hover {\n  /* unfitted */\n  background-color: var(--sklearn-color-unfitted-level-3);\n  color: var(--sklearn-color-background);\n  text-decoration: none;\n}\n\ndiv.sk-estimator.fitted:hover .sk-estimator-doc-link.fitted:hover,\n.sk-estimator-doc-link.fitted:hover,\ndiv.sk-label-container:hover .sk-estimator-doc-link.fitted:hover,\n.sk-estimator-doc-link.fitted:hover {\n  /* fitted */\n  background-color: var(--sklearn-color-fitted-level-3);\n  color: var(--sklearn-color-background);\n  text-decoration: none;\n}\n\n/* Span, style for the box shown on hovering the info icon */\n.sk-estimator-doc-link span {\n  display: none;\n  z-index: 9999;\n  position: relative;\n  font-weight: normal;\n  right: .2ex;\n  padding: .5ex;\n  margin: .5ex;\n  width: min-content;\n  min-width: 20ex;\n  max-width: 50ex;\n  color: var(--sklearn-color-text);\n  box-shadow: 2pt 2pt 4pt #999;\n  /* unfitted */\n  background: var(--sklearn-color-unfitted-level-0);\n  border: .5pt solid var(--sklearn-color-unfitted-level-3);\n}\n\n.sk-estimator-doc-link.fitted span {\n  /* fitted */\n  background: var(--sklearn-color-fitted-level-0);\n  border: var(--sklearn-color-fitted-level-3);\n}\n\n.sk-estimator-doc-link:hover span {\n  display: block;\n}\n\n/* \"?\"-specific style due to the `<a>` HTML tag */\n\n#sk-container-id-2 a.estimator_doc_link {\n  float: right;\n  font-size: 1rem;\n  line-height: 1em;\n  font-family: monospace;\n  background-color: var(--sklearn-color-background);\n  border-radius: 1rem;\n  height: 1rem;\n  width: 1rem;\n  text-decoration: none;\n  /* unfitted */\n  color: var(--sklearn-color-unfitted-level-1);\n  border: var(--sklearn-color-unfitted-level-1) 1pt solid;\n}\n\n#sk-container-id-2 a.estimator_doc_link.fitted {\n  /* fitted */\n  border: var(--sklearn-color-fitted-level-1) 1pt solid;\n  color: var(--sklearn-color-fitted-level-1);\n}\n\n/* On hover */\n#sk-container-id-2 a.estimator_doc_link:hover {\n  /* unfitted */\n  background-color: var(--sklearn-color-unfitted-level-3);\n  color: var(--sklearn-color-background);\n  text-decoration: none;\n}\n\n#sk-container-id-2 a.estimator_doc_link.fitted:hover {\n  /* fitted */\n  background-color: var(--sklearn-color-fitted-level-3);\n}\n</style><div id=\"sk-container-id-2\" class=\"sk-top-container\"><div class=\"sk-text-repr-fallback\"><pre>DecisionTreeRegressor(max_depth=1)</pre><b>In a Jupyter environment, please rerun this cell to show the HTML representation or trust the notebook. <br />On GitHub, the HTML representation is unable to render, please try loading this page with nbviewer.org.</b></div><div class=\"sk-container\" hidden><div class=\"sk-item\"><div class=\"sk-estimator fitted sk-toggleable\"><input class=\"sk-toggleable__control sk-hidden--visually\" id=\"sk-estimator-id-2\" type=\"checkbox\" checked><label for=\"sk-estimator-id-2\" class=\"sk-toggleable__label fitted sk-toggleable__label-arrow fitted\">&nbsp;&nbsp;DecisionTreeRegressor<a class=\"sk-estimator-doc-link fitted\" rel=\"noreferrer\" target=\"_blank\" href=\"https://scikit-learn.org/1.5/modules/generated/sklearn.tree.DecisionTreeRegressor.html\">?<span>Documentation for DecisionTreeRegressor</span></a><span class=\"sk-estimator-doc-link fitted\">i<span>Fitted</span></span></label><div class=\"sk-toggleable__content fitted\"><pre>DecisionTreeRegressor(max_depth=1)</pre></div> </div></div></div></div>"
     },
     "execution_count": 20,
     "metadata": {},
     "output_type": "execute_result"
    }
   ],
   "source": [
    "dt = DecisionTreeRegressor(max_depth=1)\n",
    "dt.fit(X_train, y_train)"
   ],
   "metadata": {
    "collapsed": false,
    "ExecuteTime": {
     "end_time": "2025-02-18T03:54:07.416767Z",
     "start_time": "2025-02-18T03:54:07.405167Z"
    }
   },
   "id": "632db35b1886ec9c",
   "execution_count": 20
  },
  {
   "cell_type": "code",
   "outputs": [
    {
     "data": {
      "text/plain": "array([188.59301587, 155.24421053, 188.59301587, 155.24421053,\n       188.59301587, 188.59301587, 188.59301587, 155.24421053,\n       155.24421053, 188.59301587, 188.59301587, 188.59301587,\n       155.24421053, 188.59301587, 155.24421053, 155.24421053,\n       155.24421053, 155.24421053, 188.59301587, 155.24421053,\n       188.59301587, 155.24421053, 188.59301587, 188.59301587,\n       188.59301587, 188.59301587, 155.24421053, 155.24421053,\n       155.24421053, 188.59301587, 188.59301587, 188.59301587,\n       155.24421053, 188.59301587, 188.59301587, 155.24421053,\n       155.24421053, 188.59301587, 155.24421053, 155.24421053,\n       155.24421053, 155.24421053, 188.59301587, 155.24421053,\n       155.24421053, 188.59301587, 188.59301587, 188.59301587,\n       155.24421053, 188.59301587, 155.24421053, 155.24421053,\n       155.24421053, 188.59301587, 188.59301587, 188.59301587,\n       188.59301587, 155.24421053, 188.59301587, 155.24421053,\n       188.59301587, 188.59301587, 155.24421053, 155.24421053,\n       155.24421053, 188.59301587, 188.59301587, 188.59301587,\n       188.59301587, 188.59301587, 188.59301587, 155.24421053,\n       188.59301587, 155.24421053, 188.59301587, 188.59301587,\n       188.59301587, 155.24421053, 155.24421053, 155.24421053,\n       155.24421053, 155.24421053, 155.24421053, 188.59301587,\n       155.24421053, 188.59301587, 188.59301587, 155.24421053,\n       155.24421053, 155.24421053, 155.24421053, 155.24421053,\n       188.59301587, 155.24421053, 155.24421053, 155.24421053,\n       155.24421053, 188.59301587, 155.24421053, 188.59301587,\n       155.24421053, 188.59301587, 188.59301587, 188.59301587,\n       155.24421053, 188.59301587, 188.59301587, 155.24421053,\n       188.59301587, 155.24421053, 188.59301587, 188.59301587,\n       188.59301587, 155.24421053, 188.59301587, 155.24421053,\n       188.59301587, 188.59301587, 188.59301587, 188.59301587,\n       155.24421053, 155.24421053, 188.59301587, 155.24421053,\n       188.59301587, 188.59301587, 155.24421053, 188.59301587,\n       155.24421053, 155.24421053, 155.24421053, 155.24421053,\n       155.24421053, 155.24421053, 155.24421053, 188.59301587,\n       155.24421053, 188.59301587, 155.24421053, 188.59301587,\n       188.59301587, 188.59301587, 155.24421053, 188.59301587,\n       188.59301587, 188.59301587, 188.59301587, 155.24421053,\n       188.59301587, 155.24421053, 188.59301587, 188.59301587,\n       155.24421053, 155.24421053, 155.24421053, 188.59301587,\n       188.59301587, 188.59301587, 188.59301587, 155.24421053,\n       188.59301587, 188.59301587, 188.59301587, 155.24421053,\n       155.24421053, 188.59301587, 155.24421053, 155.24421053,\n       155.24421053, 188.59301587, 188.59301587, 155.24421053,\n       188.59301587, 188.59301587, 188.59301587, 155.24421053,\n       188.59301587, 155.24421053, 155.24421053, 188.59301587,\n       188.59301587, 188.59301587, 188.59301587, 155.24421053,\n       155.24421053, 188.59301587, 188.59301587, 188.59301587,\n       155.24421053, 188.59301587, 188.59301587, 155.24421053,\n       188.59301587, 155.24421053, 155.24421053, 155.24421053,\n       188.59301587, 155.24421053, 155.24421053, 188.59301587,\n       155.24421053, 188.59301587, 188.59301587, 188.59301587,\n       155.24421053, 188.59301587, 155.24421053, 155.24421053,\n       155.24421053, 188.59301587, 188.59301587, 188.59301587,\n       188.59301587, 155.24421053, 188.59301587, 188.59301587,\n       155.24421053, 155.24421053, 155.24421053, 188.59301587,\n       188.59301587, 188.59301587, 155.24421053, 188.59301587,\n       155.24421053, 188.59301587, 155.24421053, 155.24421053,\n       188.59301587, 188.59301587, 188.59301587, 188.59301587,\n       155.24421053, 188.59301587, 155.24421053, 155.24421053,\n       155.24421053, 188.59301587, 188.59301587, 155.24421053,\n       188.59301587, 188.59301587, 155.24421053, 155.24421053,\n       188.59301587, 188.59301587, 155.24421053, 155.24421053,\n       188.59301587, 155.24421053, 188.59301587, 155.24421053,\n       188.59301587, 155.24421053, 155.24421053, 188.59301587,\n       188.59301587, 188.59301587, 155.24421053, 188.59301587,\n       188.59301587, 188.59301587, 188.59301587, 188.59301587,\n       188.59301587, 155.24421053, 188.59301587, 188.59301587,\n       155.24421053, 188.59301587, 188.59301587, 155.24421053,\n       155.24421053, 155.24421053, 188.59301587, 188.59301587,\n       188.59301587, 155.24421053, 188.59301587, 188.59301587,\n       155.24421053, 188.59301587, 155.24421053, 188.59301587,\n       155.24421053, 155.24421053, 188.59301587, 155.24421053,\n       188.59301587, 188.59301587, 155.24421053, 155.24421053,\n       188.59301587, 188.59301587, 188.59301587, 155.24421053,\n       155.24421053, 155.24421053, 188.59301587, 188.59301587,\n       155.24421053, 155.24421053, 188.59301587, 155.24421053,\n       155.24421053, 155.24421053, 188.59301587, 188.59301587,\n       188.59301587, 155.24421053, 155.24421053, 188.59301587,\n       155.24421053, 155.24421053, 188.59301587, 155.24421053,\n       155.24421053, 188.59301587, 155.24421053, 188.59301587,\n       188.59301587, 188.59301587, 155.24421053, 188.59301587,\n       155.24421053, 188.59301587, 155.24421053, 188.59301587,\n       155.24421053, 155.24421053, 188.59301587, 155.24421053,\n       188.59301587, 155.24421053, 155.24421053, 155.24421053,\n       188.59301587, 155.24421053, 188.59301587, 188.59301587,\n       155.24421053, 155.24421053, 188.59301587, 188.59301587,\n       188.59301587, 155.24421053, 188.59301587, 188.59301587,\n       188.59301587, 188.59301587, 188.59301587, 188.59301587,\n       155.24421053, 155.24421053, 188.59301587, 188.59301587,\n       188.59301587, 188.59301587, 188.59301587, 188.59301587,\n       188.59301587, 188.59301587, 188.59301587, 188.59301587,\n       155.24421053, 155.24421053, 188.59301587, 155.24421053,\n       155.24421053, 188.59301587, 188.59301587, 188.59301587,\n       188.59301587, 155.24421053, 188.59301587, 188.59301587,\n       155.24421053, 155.24421053, 188.59301587, 188.59301587,\n       155.24421053, 188.59301587, 155.24421053, 155.24421053,\n       188.59301587, 155.24421053, 188.59301587, 188.59301587,\n       188.59301587, 155.24421053, 188.59301587, 188.59301587,\n       155.24421053, 188.59301587, 188.59301587, 155.24421053,\n       155.24421053, 188.59301587, 155.24421053, 188.59301587,\n       155.24421053, 188.59301587, 155.24421053, 155.24421053,\n       155.24421053, 188.59301587, 155.24421053, 188.59301587,\n       155.24421053, 155.24421053, 188.59301587, 155.24421053,\n       188.59301587, 155.24421053, 155.24421053, 188.59301587,\n       155.24421053, 155.24421053, 188.59301587, 188.59301587,\n       155.24421053, 155.24421053, 188.59301587, 155.24421053,\n       188.59301587, 188.59301587, 155.24421053, 188.59301587,\n       188.59301587, 188.59301587, 188.59301587, 155.24421053,\n       188.59301587, 155.24421053, 155.24421053, 188.59301587,\n       155.24421053, 155.24421053, 155.24421053, 155.24421053,\n       188.59301587, 155.24421053, 155.24421053, 155.24421053,\n       188.59301587, 188.59301587, 188.59301587, 155.24421053,\n       188.59301587, 155.24421053, 188.59301587, 155.24421053,\n       188.59301587, 155.24421053, 188.59301587, 155.24421053,\n       188.59301587, 188.59301587, 155.24421053, 155.24421053,\n       188.59301587, 155.24421053, 188.59301587, 188.59301587,\n       188.59301587, 155.24421053, 188.59301587, 188.59301587,\n       188.59301587, 188.59301587, 188.59301587, 155.24421053,\n       188.59301587, 188.59301587, 188.59301587, 188.59301587,\n       188.59301587, 155.24421053, 188.59301587, 188.59301587,\n       188.59301587, 188.59301587, 155.24421053, 155.24421053,\n       155.24421053, 188.59301587, 155.24421053, 155.24421053,\n       155.24421053, 155.24421053, 155.24421053, 188.59301587,\n       188.59301587, 188.59301587, 188.59301587, 188.59301587,\n       155.24421053, 188.59301587, 155.24421053, 155.24421053,\n       155.24421053, 155.24421053, 155.24421053, 188.59301587,\n       155.24421053, 155.24421053, 155.24421053, 155.24421053,\n       188.59301587, 155.24421053, 188.59301587, 188.59301587,\n       188.59301587, 155.24421053, 188.59301587, 155.24421053,\n       155.24421053, 188.59301587, 155.24421053, 155.24421053,\n       155.24421053, 188.59301587, 188.59301587, 155.24421053,\n       155.24421053, 155.24421053, 188.59301587, 155.24421053,\n       155.24421053, 188.59301587, 188.59301587, 155.24421053,\n       155.24421053, 155.24421053, 155.24421053, 188.59301587,\n       155.24421053, 155.24421053, 188.59301587, 188.59301587,\n       188.59301587, 188.59301587, 155.24421053, 155.24421053,\n       155.24421053, 155.24421053, 188.59301587, 188.59301587,\n       155.24421053, 188.59301587, 188.59301587, 188.59301587,\n       155.24421053, 188.59301587, 188.59301587, 155.24421053,\n       155.24421053, 188.59301587, 155.24421053, 188.59301587,\n       188.59301587, 155.24421053, 188.59301587, 188.59301587,\n       188.59301587, 155.24421053, 188.59301587, 155.24421053,\n       155.24421053, 155.24421053, 155.24421053, 188.59301587,\n       188.59301587, 188.59301587, 155.24421053, 155.24421053,\n       155.24421053, 188.59301587, 188.59301587, 155.24421053,\n       188.59301587, 155.24421053, 188.59301587, 188.59301587,\n       155.24421053, 188.59301587, 188.59301587, 155.24421053,\n       155.24421053, 155.24421053, 188.59301587, 155.24421053,\n       188.59301587, 155.24421053, 155.24421053, 188.59301587,\n       188.59301587, 188.59301587, 155.24421053, 155.24421053,\n       155.24421053, 188.59301587, 155.24421053, 188.59301587,\n       188.59301587, 188.59301587, 188.59301587, 155.24421053,\n       155.24421053, 188.59301587, 188.59301587, 188.59301587,\n       155.24421053, 188.59301587, 188.59301587, 155.24421053,\n       155.24421053, 188.59301587, 188.59301587, 155.24421053,\n       188.59301587, 188.59301587, 188.59301587, 188.59301587,\n       155.24421053, 155.24421053, 155.24421053, 188.59301587,\n       188.59301587, 188.59301587, 188.59301587, 155.24421053,\n       188.59301587, 188.59301587, 155.24421053, 155.24421053,\n       155.24421053, 155.24421053, 155.24421053, 188.59301587,\n       155.24421053, 155.24421053, 188.59301587, 155.24421053,\n       155.24421053, 155.24421053, 155.24421053, 155.24421053,\n       188.59301587, 188.59301587, 188.59301587, 188.59301587,\n       188.59301587, 188.59301587, 155.24421053, 188.59301587,\n       155.24421053, 155.24421053, 188.59301587, 155.24421053,\n       188.59301587, 155.24421053, 155.24421053, 155.24421053,\n       155.24421053, 155.24421053, 188.59301587, 155.24421053,\n       188.59301587, 188.59301587, 188.59301587, 155.24421053,\n       188.59301587, 155.24421053, 155.24421053, 188.59301587,\n       188.59301587, 188.59301587, 155.24421053, 188.59301587,\n       188.59301587, 155.24421053, 188.59301587, 155.24421053,\n       155.24421053, 155.24421053, 188.59301587, 188.59301587,\n       188.59301587, 155.24421053, 155.24421053, 188.59301587,\n       188.59301587, 155.24421053, 188.59301587, 155.24421053,\n       188.59301587, 155.24421053, 188.59301587, 155.24421053,\n       155.24421053, 188.59301587, 188.59301587, 188.59301587,\n       155.24421053, 155.24421053, 155.24421053, 155.24421053,\n       188.59301587, 188.59301587, 188.59301587, 188.59301587,\n       188.59301587, 188.59301587, 155.24421053, 188.59301587,\n       188.59301587, 188.59301587, 188.59301587, 155.24421053,\n       188.59301587, 155.24421053, 155.24421053, 188.59301587,\n       155.24421053, 155.24421053, 188.59301587, 155.24421053,\n       188.59301587, 188.59301587, 188.59301587, 155.24421053,\n       155.24421053, 188.59301587, 188.59301587, 188.59301587,\n       188.59301587, 188.59301587, 188.59301587, 188.59301587,\n       155.24421053, 188.59301587, 155.24421053, 188.59301587,\n       155.24421053, 155.24421053, 188.59301587, 188.59301587,\n       188.59301587, 188.59301587, 188.59301587, 188.59301587,\n       155.24421053, 188.59301587, 155.24421053, 155.24421053,\n       188.59301587, 155.24421053, 155.24421053, 155.24421053,\n       155.24421053, 155.24421053, 155.24421053, 188.59301587,\n       188.59301587, 188.59301587, 188.59301587, 188.59301587,\n       155.24421053, 188.59301587, 155.24421053, 155.24421053,\n       188.59301587, 188.59301587, 188.59301587, 155.24421053,\n       155.24421053, 155.24421053, 155.24421053, 188.59301587,\n       188.59301587, 188.59301587, 188.59301587, 188.59301587,\n       188.59301587, 155.24421053, 188.59301587, 188.59301587,\n       188.59301587, 188.59301587, 155.24421053, 188.59301587,\n       188.59301587, 155.24421053, 155.24421053, 155.24421053,\n       155.24421053, 188.59301587, 188.59301587, 188.59301587,\n       155.24421053, 188.59301587, 188.59301587, 155.24421053,\n       188.59301587, 188.59301587, 188.59301587, 188.59301587,\n       188.59301587, 188.59301587, 155.24421053, 188.59301587,\n       188.59301587, 188.59301587, 155.24421053, 188.59301587,\n       155.24421053, 155.24421053, 155.24421053, 188.59301587,\n       155.24421053, 155.24421053, 188.59301587, 155.24421053,\n       155.24421053, 155.24421053, 155.24421053, 188.59301587,\n       188.59301587, 188.59301587, 155.24421053, 188.59301587,\n       188.59301587, 155.24421053, 155.24421053, 155.24421053,\n       188.59301587, 155.24421053, 155.24421053, 155.24421053,\n       155.24421053, 188.59301587, 155.24421053, 188.59301587,\n       188.59301587, 188.59301587, 188.59301587, 188.59301587,\n       155.24421053, 155.24421053, 155.24421053, 155.24421053,\n       155.24421053, 188.59301587, 188.59301587, 188.59301587,\n       155.24421053, 188.59301587, 155.24421053, 155.24421053,\n       155.24421053, 188.59301587, 155.24421053, 188.59301587,\n       188.59301587, 188.59301587, 188.59301587, 155.24421053,\n       188.59301587, 188.59301587, 188.59301587, 188.59301587,\n       155.24421053, 188.59301587, 155.24421053, 155.24421053,\n       188.59301587, 188.59301587, 188.59301587, 188.59301587,\n       188.59301587, 155.24421053, 155.24421053, 155.24421053,\n       188.59301587, 188.59301587, 188.59301587, 188.59301587,\n       188.59301587, 188.59301587, 188.59301587, 155.24421053,\n       188.59301587, 188.59301587, 188.59301587, 188.59301587,\n       155.24421053, 155.24421053, 188.59301587, 188.59301587,\n       188.59301587, 188.59301587, 155.24421053, 188.59301587,\n       188.59301587, 188.59301587, 188.59301587, 188.59301587,\n       155.24421053, 155.24421053, 188.59301587, 188.59301587,\n       155.24421053, 155.24421053, 188.59301587, 188.59301587,\n       188.59301587, 155.24421053, 188.59301587, 188.59301587,\n       188.59301587, 188.59301587, 188.59301587, 188.59301587,\n       155.24421053, 188.59301587, 188.59301587, 155.24421053,\n       188.59301587, 188.59301587, 155.24421053, 155.24421053,\n       188.59301587, 155.24421053, 188.59301587, 188.59301587,\n       188.59301587, 155.24421053, 188.59301587, 188.59301587,\n       188.59301587, 155.24421053, 188.59301587, 155.24421053,\n       155.24421053, 188.59301587, 155.24421053, 155.24421053,\n       188.59301587, 188.59301587, 155.24421053, 155.24421053,\n       188.59301587, 188.59301587, 155.24421053, 188.59301587,\n       155.24421053, 155.24421053, 155.24421053, 155.24421053,\n       188.59301587, 188.59301587, 188.59301587, 155.24421053,\n       188.59301587, 155.24421053, 155.24421053, 155.24421053,\n       188.59301587, 188.59301587, 188.59301587, 188.59301587,\n       188.59301587, 188.59301587, 188.59301587, 155.24421053,\n       188.59301587, 155.24421053, 188.59301587, 155.24421053,\n       155.24421053, 155.24421053, 188.59301587, 155.24421053,\n       155.24421053, 188.59301587, 155.24421053, 155.24421053,\n       155.24421053, 188.59301587, 188.59301587, 188.59301587,\n       155.24421053, 188.59301587, 188.59301587, 188.59301587,\n       155.24421053, 188.59301587, 155.24421053, 188.59301587])"
     },
     "execution_count": 21,
     "metadata": {},
     "output_type": "execute_result"
    }
   ],
   "source": [
    "y_pred = dt.predict(X_val)\n",
    "y_pred"
   ],
   "metadata": {
    "collapsed": false,
    "ExecuteTime": {
     "end_time": "2025-02-18T03:54:08.096380Z",
     "start_time": "2025-02-18T03:54:08.088528Z"
    }
   },
   "id": "a4aa19bf8bc59493",
   "execution_count": 21
  },
  {
   "cell_type": "code",
   "outputs": [
    {
     "name": "stdout",
     "output_type": "stream",
     "text": [
      "|--- study_hours_per_week <= 18.50\n",
      "|   |--- value: [155.24]\n",
      "|--- study_hours_per_week >  18.50\n",
      "|   |--- value: [188.59]\n"
     ]
    }
   ],
   "source": [
    "print(export_text(dt, feature_names=dv.get_feature_names_out()))"
   ],
   "metadata": {
    "collapsed": false,
    "ExecuteTime": {
     "end_time": "2025-02-18T03:54:09.273444Z",
     "start_time": "2025-02-18T03:54:09.222277Z"
    }
   },
   "id": "99bfdf473535a695",
   "execution_count": 22
  },
  {
   "cell_type": "code",
   "outputs": [],
   "source": [
    "# Question 2\n",
    "# Train a random forest regressor with these parameters:\n",
    "# \n",
    "# n_estimators=10\n",
    "# random_state=1\n",
    "# n_jobs=-1 (optional - to make training faster)\n",
    "# What's the RMSE of this model on the validation data?\n",
    "# \n",
    "# 22.13\n",
    "# 42.13\n",
    "# 62.13\n",
    "# 82.12"
   ],
   "metadata": {
    "collapsed": false,
    "ExecuteTime": {
     "end_time": "2025-02-18T03:54:10.588183Z",
     "start_time": "2025-02-18T03:54:10.581634Z"
    }
   },
   "id": "33c647bc1abef92",
   "execution_count": 23
  },
  {
   "cell_type": "code",
   "outputs": [],
   "source": [
    "def train_random_forest_regressor(X_train, y_train, X_val, n_estimators=100, random_state=1, max_depth=None):\n",
    "    rf = RandomForestRegressor(n_estimators=n_estimators, random_state=random_state, max_depth=max_depth)\n",
    "    rf.fit(X_train, y_train)\n",
    "    y_pred = rf.predict(X_val)\n",
    "    return y_pred"
   ],
   "metadata": {
    "collapsed": false,
    "ExecuteTime": {
     "end_time": "2025-02-18T03:54:11.363245Z",
     "start_time": "2025-02-18T03:54:11.357894Z"
    }
   },
   "id": "a4b72a3075c0a82c",
   "execution_count": 24
  },
  {
   "cell_type": "code",
   "outputs": [
    {
     "data": {
      "text/plain": "array([234.7, 145. , 195.2, 139.4, 196.8, 249.9, 222.5, 211.1, 164.3,\n       222.9, 201.2, 172.5, 189. , 202.7, 169.9, 138.8, 160.9, 131.7,\n       179.5, 128.3, 189.1, 139.1, 198.2, 194.2, 215.5, 183.6, 160.2,\n       154.9, 140.9, 147.4, 189.8, 218.6, 140.6, 163.9, 222. , 140. ,\n       150.4, 191.1, 165.1, 168.1, 180.4, 142.7, 191.9, 150.8, 121.9,\n       154.8, 182.1, 194.1, 148.9, 197.3, 145.2, 157.5, 158.4, 226.7,\n       262.6, 230.2, 177.6, 152.2, 157.5, 150.5, 199.2, 160.1, 143.5,\n       157.2, 141.2, 209.1, 260.3, 178.4, 198.5, 149.3, 186.3, 148.4,\n       199.4, 160.4, 163.3, 149.3, 280.7, 156.5, 167.4, 197.2, 220.4,\n       189.2, 141.1, 179.7, 201.8, 145. , 186.3, 131.9, 162.8, 160.7,\n       160.6, 160.6, 162.1, 158.4, 151.3, 126.2, 147.6, 176.8, 180.7,\n       171.8, 134. , 204.4, 192.5, 195.5, 164.9, 174.8, 177.3, 132.1,\n       207.6, 126.8, 186.4, 175.9, 184.8, 155.3, 253.3, 145.3, 220.3,\n       168.4, 204.2, 160.7, 137.7, 144.7, 155.4, 133.7, 228.5, 171.5,\n       170. , 202.2, 172.2, 152.1, 165.8, 133.6, 166.7, 157.4, 142.6,\n       153.1, 123.2, 202.7, 166.6, 209.9, 170.4, 184. , 127.2, 220.2,\n       220.5, 183.1, 185.4, 163.5, 200.7, 132.8, 172.6, 227.6, 144.5,\n       166.5, 137.6, 229.6, 149.5, 197.6, 203.9, 163.3, 248.3, 201. ,\n       157.3, 153.6, 184.7, 180.4, 214.2, 151.4, 196.5, 155.5, 193.5,\n       195.5, 191.9, 168.7, 181. , 154.9, 130.6, 140.5, 149.5, 128.6,\n       209.1, 175.7, 207.4, 184.8, 193.9, 215.7, 240.9, 174. , 142.7,\n       190.5, 188.8, 150.3, 203.5, 183. , 136.9, 157.5, 130.4, 175. ,\n       139.6, 139.4, 161.3, 200.9, 210.2, 174.6, 128.3, 167.6, 164.3,\n       148.3, 178.4, 134. , 205.7, 182.5, 160.7, 197.5, 198.6, 256.9,\n       127. , 158.2, 171.8, 146.3, 164.3, 171.6, 194.7, 172.9, 158.6,\n       246. , 130.5, 143.4, 162.8, 215.4, 200.3, 200.1, 134.3, 208.5,\n       158.6, 144.9, 172.9, 214.8, 173.2, 143.8, 177.3, 203.6, 155.8,\n       142.7, 172.6, 145. , 125.5, 154.8, 216.3, 149.4, 147.8, 134.2,\n       208.7, 130.6, 159.6, 184.7, 165.8, 184.8, 187. , 200.9, 235.9,\n       170.8, 254. , 184. , 209.1, 151.1, 176.7, 129.6, 162.3, 169.4,\n       286.8, 213.5, 157.4, 207.6, 173.6, 152.1, 152.2, 167. , 175.7,\n       193.5, 189.2, 157.9, 132.6, 237.9, 137.7, 143.6, 204.6, 171.5,\n       216.5, 264.4, 136. , 160.8, 182.8, 228.3, 196.3, 156.4, 131.4,\n       134.4, 189. , 167.6, 145.3, 122.3, 202.5, 126.6, 163.2, 149.2,\n       200.5, 161.1, 215.7, 213.9, 180.6, 211.6, 156.5, 156. , 162. ,\n       146.2, 162. , 176.6, 145.8, 163.5, 230. , 137.3, 127.7, 148.8,\n       152.2, 189.7, 149. , 180.2, 171.2, 155.9, 191. , 150.8, 205.1,\n       151.9, 192.1, 168. , 247. , 180.7, 179.1, 145.2, 141.3, 176.3,\n       153. , 171.9, 152.6, 123.5, 199.7, 176.9, 168.5, 144. , 163.7,\n       176.4, 143.8, 158.8, 244.3, 190.5, 150. , 164.6, 166.9, 231.1,\n       144.1, 185.1, 207.5, 207.1, 176. , 158. , 136.2, 198.3, 176.7,\n       189.9, 166.4, 209.2, 159.1, 146.8, 153.7, 121.1, 178.7, 197.2,\n       212.1, 179.1, 169.5, 193.7, 126.8, 144.3, 140.1, 159.3, 244.9,\n       166.8, 211.6, 153.9, 228.9, 220.6, 184.7, 177.9, 141.4, 138.2,\n       137.8, 239.8, 164.2, 212.7, 159.4, 190.3, 171.8, 163. , 172.9,\n       223.6, 139.7, 174.4, 118.2, 133. , 171.2, 128.5, 150.3, 165.7,\n       157.8, 174.8, 183.7, 194.1, 155.8, 154.3, 183.6, 186.1, 171.1,\n       160.7, 219.2, 148.8, 165.6, 268.8, 219.3, 223.8, 183.1, 205.1,\n       180.2, 124.2, 211.9, 183.6, 147. , 188.4, 129. , 146.7, 193.9,\n       187.5, 132. , 127.3, 140.4, 207.3, 166.8, 145.8, 220.7, 199.7,\n       207.7, 142.2, 166.3, 206.7, 142.5, 137.5, 150.7, 173.5, 121.7,\n       196.6, 174.5, 169.8, 176.5, 207.4, 155.2, 169.9, 199.1, 230.5,\n       162.9, 259.4, 229.7, 185.2, 223.9, 160.3, 198.4, 234.5, 162.6,\n       145.3, 201.1, 199.2, 140.1, 193.2, 158.9, 152.7, 126.4, 291. ,\n       113.2, 130.7, 155.9, 124. , 206.5, 187.2, 163.3, 179.3, 218.2,\n       194.9, 155.3, 159.2, 200.5, 133.8, 191.6, 131.2, 134.4, 159.3,\n       141.8, 161. , 147.5, 140.8, 168.8, 158.7, 181.6, 194.5, 214.6,\n       167.9, 148.8, 127.9, 176.7, 185. , 145.1, 173.4, 177.7, 180.4,\n       207.6, 139.7, 130.7, 130. , 204.1, 139.8, 147.8, 197.1, 156.1,\n       157.4, 198.5, 168.2, 162.3, 170.3, 136.5, 152.5, 182.1, 196.6,\n       156.2, 208.1, 154.2, 158.1, 181. , 125.5, 218.6, 201.6, 124.6,\n       174.8, 177.3, 219.8, 137.2, 203.1, 159.8, 205. , 164.4, 204.2,\n       210.1, 207. , 198.6, 152.8, 178.4, 162.7, 228.6, 144.5, 179.2,\n       168.8, 132.2, 160. , 160.9, 149.8, 191.9, 145.3, 164.8, 174.4,\n       193.9, 176.6, 150.6, 168.7, 240.1, 151.2, 184.6, 184.8, 189.1,\n       197.3, 220.4, 154.1, 121.9, 177.1, 158.8, 196. , 174.6, 168.9,\n       134.7, 174.4, 176.2, 187.3, 156.1, 163.4, 133.3, 166.6, 144.7,\n       155.5, 229.4, 158.8, 186. , 162.8, 139.9, 163.4, 181.8, 154.9,\n       144.9, 143. , 182.8, 136.9, 169.6, 218.1, 215.3, 121.9, 188. ,\n       216.6, 167.7, 188.7, 152.2, 161.7, 141. , 191.1, 129.3, 200.5,\n       188.2, 132.4, 195.6, 198.3, 200. , 158.9, 173.7, 131.5, 136.9,\n       195.5, 162.6, 175.9, 197.2, 137.7, 121.2, 148.3, 144.8, 157.2,\n       181.1, 234.7, 227.3, 146.7, 186.1, 221.1, 156.9, 176.2, 156.3,\n       151.1, 203.7, 177.5, 209. , 169.4, 132.1, 171.4, 191.5, 148.2,\n       143.4, 158.6, 188.2, 188.7, 182.5, 151.1, 165.9, 185.5, 138.6,\n       200.9, 188.9, 212.1, 155.1, 166.9, 146.5, 142.4, 164.1, 160.1,\n       155.5, 167.1, 187.9, 224.6, 212.2, 186.5, 175.2, 161.9, 207.1,\n       152.8, 145.4, 154.8, 169.8, 148.5, 181.5, 159.5, 149.7, 184.3,\n       199. , 187.1, 143.8, 158. , 139.6, 129.4, 166.7, 155.2, 205.8,\n       196.4, 206. , 181.7, 130.9, 173.4, 195.1, 215.1, 166.9, 146.6,\n       193.3, 128.1, 141.4, 185.5, 135.7, 194.2, 169.1, 130.5, 189.1,\n       204.7, 173.4, 158.9, 124.3, 206.4, 140.8, 213.6, 148.3, 187.8,\n       230.4, 182. , 127.3, 223.2, 144. , 177.2, 169.3, 134.7, 165.8,\n       195.9, 183.1, 224.9, 195. , 142.4, 146.2, 159.7, 155.7, 120.4,\n       160.2, 126.5, 125.1, 162.7, 146. , 168.5, 170.2, 211. , 193.1,\n       165.3, 227. , 148. , 139.1, 182.3, 128.5, 187.4, 151.1, 197. ,\n       208.6, 233.5, 159.9, 137.1, 163.4, 170. , 199.5, 145.3, 162.3,\n       174.1, 223.3, 141.6, 176.1, 234. , 176.2, 159.1, 151.6, 182.3,\n       202.1, 136.4, 169.2, 152.2, 140. , 171.8, 210.4, 193. , 139.9,\n       211.7, 167. , 176.3, 163. , 231.3, 180.6, 136.6, 157.4, 233.5,\n       158.1, 175.9, 207.4, 179.1, 156.6, 207.7, 168. , 155.7, 130.8,\n       179.6, 162.7, 145.7, 201.8, 134.7, 139. , 153.5, 189.8, 175.2,\n       217.6, 146.5, 119.2, 209.5, 215.7, 126.9, 132.8, 168.5, 156.3,\n       162.9, 155.3, 172.6, 131. , 202.3, 161.8, 255.5, 167.2, 151.7,\n       172.9, 177.8, 148.3, 132.5, 219.2, 142.6, 192.9, 167.3, 183.2,\n       223.1, 162.9, 176.9, 143.3, 149.4, 137.9, 180.6, 241.5, 218.6,\n       165.2, 143.6, 223.1, 164.2, 196.9, 180. , 263.5, 203.8, 136.6,\n       212.5, 154.7, 171.1, 149. , 136.1, 187.3, 187.7, 192.8, 155.9,\n       142.8, 160.4, 207.5, 227.2, 236.3, 198.4, 208. , 165.4, 258.7,\n       180.8, 199.2, 212.8, 195.5, 270.9, 172.7, 172. , 233.4, 199.4,\n       188.7, 166.4, 153.6, 297.1, 153.8, 226.9, 170.6, 193.4, 142.3,\n       124.6, 153.1, 184.4, 147.1, 139.4, 133. , 179.9, 184.6, 137.9,\n       206.5, 161.1, 201.4, 172.2, 164. , 222.5, 177.3, 196.6, 202.8,\n       156.6, 174.1, 151.5, 169.7, 174.1, 149.1, 155.2, 156.6, 149.4,\n       166.7, 219.1, 174.3, 176.2, 234.9, 163.7, 171. , 136.5, 139.6,\n       219.1, 162.4, 142.1, 175. , 154. , 122.6, 159.4, 154.2, 178. ,\n       145.5, 162.8, 152.2, 158.4, 154.5, 148. , 163.3, 171.5, 195.2,\n       202.7, 156.5, 171.6, 172.2, 170.7, 191.6, 189. , 219.8, 178.7,\n       179.3, 204.5, 223.5, 197.2, 189.2, 154. , 226.2, 209.5, 137. ,\n       142.5, 190.4, 132. , 139.2, 175.7, 130.3, 160.2, 170.9, 212.4,\n       178. , 221.8, 180.1, 154.3, 222.5, 221.7, 152.3, 169.2, 190.2,\n       164.5])"
     },
     "execution_count": 25,
     "metadata": {},
     "output_type": "execute_result"
    }
   ],
   "source": [
    "y_pred = train_random_forest_regressor(X_train, y_train, X_val, n_estimators=10, random_state=1, max_depth=None)\n",
    "y_pred"
   ],
   "metadata": {
    "collapsed": false,
    "ExecuteTime": {
     "end_time": "2025-02-18T03:54:12.499804Z",
     "start_time": "2025-02-18T03:54:12.133847Z"
    }
   },
   "id": "7b05547a16ccab3a",
   "execution_count": 25
  },
  {
   "cell_type": "code",
   "outputs": [],
   "source": [
    "def rmse(y, y_p):\n",
    "    se = (y - y_p) ** 2\n",
    "    mse = se.mean()\n",
    "    return np.sqrt(mse)"
   ],
   "metadata": {
    "collapsed": false,
    "ExecuteTime": {
     "end_time": "2025-02-18T03:54:13.945593Z",
     "start_time": "2025-02-18T03:54:13.935197Z"
    }
   },
   "id": "a8418d6ca23b9a1c",
   "execution_count": 26
  },
  {
   "cell_type": "code",
   "outputs": [
    {
     "data": {
      "text/plain": "np.float64(42.13724207871227)"
     },
     "execution_count": 27,
     "metadata": {},
     "output_type": "execute_result"
    }
   ],
   "source": [
    "rmse(y_val, y_pred)"
   ],
   "metadata": {
    "collapsed": false,
    "ExecuteTime": {
     "end_time": "2025-02-18T03:54:15.113407Z",
     "start_time": "2025-02-18T03:54:15.106642Z"
    }
   },
   "id": "1fc4479d514a9bc6",
   "execution_count": 27
  },
  {
   "cell_type": "code",
   "outputs": [],
   "source": [
    "# Question 3\n",
    "# Now let's experiment with the n_estimators parameter\n",
    "# \n",
    "# Try different values of this parameter from 10 to 200 with step 10.\n",
    "# Set random_state to 1.\n",
    "# Evaluate the model on the validation dataset.\n",
    "# After which value of n_estimators does RMSE stop improving? Consider 3 decimal places for calculating the answer.\n",
    "# \n",
    "# 10\n",
    "# 25\n",
    "# 80\n",
    "# 200"
   ],
   "metadata": {
    "collapsed": false,
    "ExecuteTime": {
     "end_time": "2025-02-18T03:54:16.513725Z",
     "start_time": "2025-02-18T03:54:16.507433Z"
    }
   },
   "id": "e9342b691d1b611c",
   "execution_count": 28
  },
  {
   "cell_type": "code",
   "outputs": [
    {
     "name": "stdout",
     "output_type": "stream",
     "text": [
      "10 42.137\n",
      "20 41.461\n",
      "30 41.106\n",
      "40 40.917\n",
      "50 40.852\n",
      "60 40.784\n",
      "70 40.677\n",
      "80 40.539\n",
      "90 40.504\n",
      "100 40.517\n",
      "110 40.593\n",
      "120 40.625\n",
      "130 40.651\n",
      "140 40.595\n",
      "150 40.597\n",
      "160 40.604\n",
      "170 40.628\n",
      "180 40.641\n",
      "190 40.631\n",
      "200 40.601\n"
     ]
    }
   ],
   "source": [
    "for n in range(10, 201, 10):\n",
    "    y_pred = train_random_forest_regressor(X_train, y_train, X_val, n_estimators=n, random_state=1, max_depth=None)\n",
    "    rmse_val = rmse(y_val, y_pred)\n",
    "    print(n, rmse_val.round(3))"
   ],
   "metadata": {
    "collapsed": false,
    "ExecuteTime": {
     "end_time": "2025-02-18T03:55:24.405207Z",
     "start_time": "2025-02-18T03:54:17.430362Z"
    }
   },
   "id": "4e30db5656454837",
   "execution_count": 29
  },
  {
   "cell_type": "code",
   "outputs": [],
   "source": [
    "# Question 4\n",
    "# Let's select the best max_depth:\n",
    "# \n",
    "# Try different values of max_depth: [10, 15, 20, 25]\n",
    "# For each of these values,\n",
    "# try different values of n_estimators from 10 till 200 (with step 10)\n",
    "# calculate the mean RMSE\n",
    "# Fix the random seed: random_state=1\n",
    "# What's the best max_depth, using the mean RMSE?\n",
    "# \n",
    "# 10\n",
    "# 15\n",
    "# 20\n",
    "# 25"
   ],
   "metadata": {
    "collapsed": false,
    "ExecuteTime": {
     "end_time": "2025-02-18T03:55:54.839494Z",
     "start_time": "2025-02-18T03:55:54.827477Z"
    }
   },
   "id": "182397e8b695b9ac",
   "execution_count": 30
  },
  {
   "cell_type": "code",
   "outputs": [],
   "source": [
    "scores = []\n",
    "for depth in [10, 15, 20, 25]:\n",
    "    for n in range(10, 201, 10):\n",
    "        y_pred = train_random_forest_regressor(X_train, y_train, X_val, n_estimators=n, random_state=1, max_depth=depth)\n",
    "        rmse_val = rmse(y_val, y_pred).round(3)\n",
    "        scores.append((depth, n, rmse_val))"
   ],
   "metadata": {
    "collapsed": false,
    "ExecuteTime": {
     "end_time": "2025-02-18T03:59:40.234648Z",
     "start_time": "2025-02-18T03:55:55.665201Z"
    }
   },
   "id": "3ecf0c7cfab5251a",
   "execution_count": 31
  },
  {
   "cell_type": "code",
   "outputs": [
    {
     "data": {
      "text/plain": "    max_depth  n_estimators    rmse\n0          10            10  41.258\n1          10            20  40.881\n2          10            30  40.625\n3          10            40  40.270\n4          10            50  40.317\n..        ...           ...     ...\n75         25           160  40.600\n76         25           170  40.624\n77         25           180  40.639\n78         25           190  40.629\n79         25           200  40.599\n\n[80 rows x 3 columns]",
      "text/html": "<div>\n<style scoped>\n    .dataframe tbody tr th:only-of-type {\n        vertical-align: middle;\n    }\n\n    .dataframe tbody tr th {\n        vertical-align: top;\n    }\n\n    .dataframe thead th {\n        text-align: right;\n    }\n</style>\n<table border=\"1\" class=\"dataframe\">\n  <thead>\n    <tr style=\"text-align: right;\">\n      <th></th>\n      <th>max_depth</th>\n      <th>n_estimators</th>\n      <th>rmse</th>\n    </tr>\n  </thead>\n  <tbody>\n    <tr>\n      <th>0</th>\n      <td>10</td>\n      <td>10</td>\n      <td>41.258</td>\n    </tr>\n    <tr>\n      <th>1</th>\n      <td>10</td>\n      <td>20</td>\n      <td>40.881</td>\n    </tr>\n    <tr>\n      <th>2</th>\n      <td>10</td>\n      <td>30</td>\n      <td>40.625</td>\n    </tr>\n    <tr>\n      <th>3</th>\n      <td>10</td>\n      <td>40</td>\n      <td>40.270</td>\n    </tr>\n    <tr>\n      <th>4</th>\n      <td>10</td>\n      <td>50</td>\n      <td>40.317</td>\n    </tr>\n    <tr>\n      <th>...</th>\n      <td>...</td>\n      <td>...</td>\n      <td>...</td>\n    </tr>\n    <tr>\n      <th>75</th>\n      <td>25</td>\n      <td>160</td>\n      <td>40.600</td>\n    </tr>\n    <tr>\n      <th>76</th>\n      <td>25</td>\n      <td>170</td>\n      <td>40.624</td>\n    </tr>\n    <tr>\n      <th>77</th>\n      <td>25</td>\n      <td>180</td>\n      <td>40.639</td>\n    </tr>\n    <tr>\n      <th>78</th>\n      <td>25</td>\n      <td>190</td>\n      <td>40.629</td>\n    </tr>\n    <tr>\n      <th>79</th>\n      <td>25</td>\n      <td>200</td>\n      <td>40.599</td>\n    </tr>\n  </tbody>\n</table>\n<p>80 rows × 3 columns</p>\n</div>"
     },
     "execution_count": 32,
     "metadata": {},
     "output_type": "execute_result"
    }
   ],
   "source": [
    "columns = ['max_depth', 'n_estimators', 'rmse']\n",
    "df_scores = pd.DataFrame(scores, columns=columns)\n",
    "df_scores"
   ],
   "metadata": {
    "collapsed": false,
    "ExecuteTime": {
     "end_time": "2025-02-18T04:00:16.055054Z",
     "start_time": "2025-02-18T04:00:16.052065Z"
    }
   },
   "id": "24c181e7ce47712e",
   "execution_count": 32
  },
  {
   "cell_type": "code",
   "outputs": [
    {
     "data": {
      "text/plain": "np.float64(40.3924)"
     },
     "execution_count": 33,
     "metadata": {},
     "output_type": "execute_result"
    }
   ],
   "source": [
    "df_scores.loc[df_scores['max_depth'] == 10].rmse.mean()"
   ],
   "metadata": {
    "collapsed": false,
    "ExecuteTime": {
     "end_time": "2025-02-18T04:00:17.677348Z",
     "start_time": "2025-02-18T04:00:17.661826Z"
    }
   },
   "id": "7ac76f04fc8ecea5",
   "execution_count": 33
  },
  {
   "cell_type": "code",
   "outputs": [
    {
     "data": {
      "text/plain": "max_depth\n10    40.39240\n15    40.73535\n20    40.73970\n25    40.78785\nName: rmse, dtype: float64"
     },
     "execution_count": 34,
     "metadata": {},
     "output_type": "execute_result"
    }
   ],
   "source": [
    "df_scores.groupby('max_depth')['rmse'].mean()"
   ],
   "metadata": {
    "collapsed": false,
    "ExecuteTime": {
     "end_time": "2025-02-18T04:00:18.620988Z",
     "start_time": "2025-02-18T04:00:18.611058Z"
    }
   },
   "id": "71c93cd79ed8083a",
   "execution_count": 34
  },
  {
   "cell_type": "code",
   "outputs": [],
   "source": [
    "# Question 5\n",
    "# We can extract feature importance information from tree-based models.\n",
    "# \n",
    "# At each step of the decision tree learning algorithm, it finds the best split. When doing it, we can calculate \"gain\" - the reduction in impurity before and after the split. This gain is quite useful in understanding what are the important features for tree-based models.\n",
    "# \n",
    "# In Scikit-Learn, tree-based models contain this information in the feature_importances_ field.\n",
    "# \n",
    "# For this homework question, we'll find the most important feature:\n",
    "# \n",
    "# Train the model with these parameters:\n",
    "# n_estimators=10,\n",
    "# max_depth=20,\n",
    "# random_state=1,\n",
    "# n_jobs=-1 (optional)\n",
    "# Get the feature importance information from this model\n",
    "# What's the most important feature (among these 4)?\n",
    "# \n",
    "# study_hours_per_week\n",
    "# attendance_rate\n",
    "# distance_to_school\n",
    "# teacher_quality"
   ],
   "metadata": {
    "collapsed": false,
    "ExecuteTime": {
     "end_time": "2025-02-18T04:00:19.409207Z",
     "start_time": "2025-02-18T04:00:19.390615Z"
    }
   },
   "id": "486115c9151744f7",
   "execution_count": 35
  },
  {
   "cell_type": "code",
   "outputs": [
    {
     "data": {
      "text/plain": "RandomForestClassifier(max_depth=20, n_estimators=10, random_state=1)",
      "text/html": "<style>#sk-container-id-3 {\n  /* Definition of color scheme common for light and dark mode */\n  --sklearn-color-text: black;\n  --sklearn-color-line: gray;\n  /* Definition of color scheme for unfitted estimators */\n  --sklearn-color-unfitted-level-0: #fff5e6;\n  --sklearn-color-unfitted-level-1: #f6e4d2;\n  --sklearn-color-unfitted-level-2: #ffe0b3;\n  --sklearn-color-unfitted-level-3: chocolate;\n  /* Definition of color scheme for fitted estimators */\n  --sklearn-color-fitted-level-0: #f0f8ff;\n  --sklearn-color-fitted-level-1: #d4ebff;\n  --sklearn-color-fitted-level-2: #b3dbfd;\n  --sklearn-color-fitted-level-3: cornflowerblue;\n\n  /* Specific color for light theme */\n  --sklearn-color-text-on-default-background: var(--sg-text-color, var(--theme-code-foreground, var(--jp-content-font-color1, black)));\n  --sklearn-color-background: var(--sg-background-color, var(--theme-background, var(--jp-layout-color0, white)));\n  --sklearn-color-border-box: var(--sg-text-color, var(--theme-code-foreground, var(--jp-content-font-color1, black)));\n  --sklearn-color-icon: #696969;\n\n  @media (prefers-color-scheme: dark) {\n    /* Redefinition of color scheme for dark theme */\n    --sklearn-color-text-on-default-background: var(--sg-text-color, var(--theme-code-foreground, var(--jp-content-font-color1, white)));\n    --sklearn-color-background: var(--sg-background-color, var(--theme-background, var(--jp-layout-color0, #111)));\n    --sklearn-color-border-box: var(--sg-text-color, var(--theme-code-foreground, var(--jp-content-font-color1, white)));\n    --sklearn-color-icon: #878787;\n  }\n}\n\n#sk-container-id-3 {\n  color: var(--sklearn-color-text);\n}\n\n#sk-container-id-3 pre {\n  padding: 0;\n}\n\n#sk-container-id-3 input.sk-hidden--visually {\n  border: 0;\n  clip: rect(1px 1px 1px 1px);\n  clip: rect(1px, 1px, 1px, 1px);\n  height: 1px;\n  margin: -1px;\n  overflow: hidden;\n  padding: 0;\n  position: absolute;\n  width: 1px;\n}\n\n#sk-container-id-3 div.sk-dashed-wrapped {\n  border: 1px dashed var(--sklearn-color-line);\n  margin: 0 0.4em 0.5em 0.4em;\n  box-sizing: border-box;\n  padding-bottom: 0.4em;\n  background-color: var(--sklearn-color-background);\n}\n\n#sk-container-id-3 div.sk-container {\n  /* jupyter's `normalize.less` sets `[hidden] { display: none; }`\n     but bootstrap.min.css set `[hidden] { display: none !important; }`\n     so we also need the `!important` here to be able to override the\n     default hidden behavior on the sphinx rendered scikit-learn.org.\n     See: https://github.com/scikit-learn/scikit-learn/issues/21755 */\n  display: inline-block !important;\n  position: relative;\n}\n\n#sk-container-id-3 div.sk-text-repr-fallback {\n  display: none;\n}\n\ndiv.sk-parallel-item,\ndiv.sk-serial,\ndiv.sk-item {\n  /* draw centered vertical line to link estimators */\n  background-image: linear-gradient(var(--sklearn-color-text-on-default-background), var(--sklearn-color-text-on-default-background));\n  background-size: 2px 100%;\n  background-repeat: no-repeat;\n  background-position: center center;\n}\n\n/* Parallel-specific style estimator block */\n\n#sk-container-id-3 div.sk-parallel-item::after {\n  content: \"\";\n  width: 100%;\n  border-bottom: 2px solid var(--sklearn-color-text-on-default-background);\n  flex-grow: 1;\n}\n\n#sk-container-id-3 div.sk-parallel {\n  display: flex;\n  align-items: stretch;\n  justify-content: center;\n  background-color: var(--sklearn-color-background);\n  position: relative;\n}\n\n#sk-container-id-3 div.sk-parallel-item {\n  display: flex;\n  flex-direction: column;\n}\n\n#sk-container-id-3 div.sk-parallel-item:first-child::after {\n  align-self: flex-end;\n  width: 50%;\n}\n\n#sk-container-id-3 div.sk-parallel-item:last-child::after {\n  align-self: flex-start;\n  width: 50%;\n}\n\n#sk-container-id-3 div.sk-parallel-item:only-child::after {\n  width: 0;\n}\n\n/* Serial-specific style estimator block */\n\n#sk-container-id-3 div.sk-serial {\n  display: flex;\n  flex-direction: column;\n  align-items: center;\n  background-color: var(--sklearn-color-background);\n  padding-right: 1em;\n  padding-left: 1em;\n}\n\n\n/* Toggleable style: style used for estimator/Pipeline/ColumnTransformer box that is\nclickable and can be expanded/collapsed.\n- Pipeline and ColumnTransformer use this feature and define the default style\n- Estimators will overwrite some part of the style using the `sk-estimator` class\n*/\n\n/* Pipeline and ColumnTransformer style (default) */\n\n#sk-container-id-3 div.sk-toggleable {\n  /* Default theme specific background. It is overwritten whether we have a\n  specific estimator or a Pipeline/ColumnTransformer */\n  background-color: var(--sklearn-color-background);\n}\n\n/* Toggleable label */\n#sk-container-id-3 label.sk-toggleable__label {\n  cursor: pointer;\n  display: block;\n  width: 100%;\n  margin-bottom: 0;\n  padding: 0.5em;\n  box-sizing: border-box;\n  text-align: center;\n}\n\n#sk-container-id-3 label.sk-toggleable__label-arrow:before {\n  /* Arrow on the left of the label */\n  content: \"▸\";\n  float: left;\n  margin-right: 0.25em;\n  color: var(--sklearn-color-icon);\n}\n\n#sk-container-id-3 label.sk-toggleable__label-arrow:hover:before {\n  color: var(--sklearn-color-text);\n}\n\n/* Toggleable content - dropdown */\n\n#sk-container-id-3 div.sk-toggleable__content {\n  max-height: 0;\n  max-width: 0;\n  overflow: hidden;\n  text-align: left;\n  /* unfitted */\n  background-color: var(--sklearn-color-unfitted-level-0);\n}\n\n#sk-container-id-3 div.sk-toggleable__content.fitted {\n  /* fitted */\n  background-color: var(--sklearn-color-fitted-level-0);\n}\n\n#sk-container-id-3 div.sk-toggleable__content pre {\n  margin: 0.2em;\n  border-radius: 0.25em;\n  color: var(--sklearn-color-text);\n  /* unfitted */\n  background-color: var(--sklearn-color-unfitted-level-0);\n}\n\n#sk-container-id-3 div.sk-toggleable__content.fitted pre {\n  /* unfitted */\n  background-color: var(--sklearn-color-fitted-level-0);\n}\n\n#sk-container-id-3 input.sk-toggleable__control:checked~div.sk-toggleable__content {\n  /* Expand drop-down */\n  max-height: 200px;\n  max-width: 100%;\n  overflow: auto;\n}\n\n#sk-container-id-3 input.sk-toggleable__control:checked~label.sk-toggleable__label-arrow:before {\n  content: \"▾\";\n}\n\n/* Pipeline/ColumnTransformer-specific style */\n\n#sk-container-id-3 div.sk-label input.sk-toggleable__control:checked~label.sk-toggleable__label {\n  color: var(--sklearn-color-text);\n  background-color: var(--sklearn-color-unfitted-level-2);\n}\n\n#sk-container-id-3 div.sk-label.fitted input.sk-toggleable__control:checked~label.sk-toggleable__label {\n  background-color: var(--sklearn-color-fitted-level-2);\n}\n\n/* Estimator-specific style */\n\n/* Colorize estimator box */\n#sk-container-id-3 div.sk-estimator input.sk-toggleable__control:checked~label.sk-toggleable__label {\n  /* unfitted */\n  background-color: var(--sklearn-color-unfitted-level-2);\n}\n\n#sk-container-id-3 div.sk-estimator.fitted input.sk-toggleable__control:checked~label.sk-toggleable__label {\n  /* fitted */\n  background-color: var(--sklearn-color-fitted-level-2);\n}\n\n#sk-container-id-3 div.sk-label label.sk-toggleable__label,\n#sk-container-id-3 div.sk-label label {\n  /* The background is the default theme color */\n  color: var(--sklearn-color-text-on-default-background);\n}\n\n/* On hover, darken the color of the background */\n#sk-container-id-3 div.sk-label:hover label.sk-toggleable__label {\n  color: var(--sklearn-color-text);\n  background-color: var(--sklearn-color-unfitted-level-2);\n}\n\n/* Label box, darken color on hover, fitted */\n#sk-container-id-3 div.sk-label.fitted:hover label.sk-toggleable__label.fitted {\n  color: var(--sklearn-color-text);\n  background-color: var(--sklearn-color-fitted-level-2);\n}\n\n/* Estimator label */\n\n#sk-container-id-3 div.sk-label label {\n  font-family: monospace;\n  font-weight: bold;\n  display: inline-block;\n  line-height: 1.2em;\n}\n\n#sk-container-id-3 div.sk-label-container {\n  text-align: center;\n}\n\n/* Estimator-specific */\n#sk-container-id-3 div.sk-estimator {\n  font-family: monospace;\n  border: 1px dotted var(--sklearn-color-border-box);\n  border-radius: 0.25em;\n  box-sizing: border-box;\n  margin-bottom: 0.5em;\n  /* unfitted */\n  background-color: var(--sklearn-color-unfitted-level-0);\n}\n\n#sk-container-id-3 div.sk-estimator.fitted {\n  /* fitted */\n  background-color: var(--sklearn-color-fitted-level-0);\n}\n\n/* on hover */\n#sk-container-id-3 div.sk-estimator:hover {\n  /* unfitted */\n  background-color: var(--sklearn-color-unfitted-level-2);\n}\n\n#sk-container-id-3 div.sk-estimator.fitted:hover {\n  /* fitted */\n  background-color: var(--sklearn-color-fitted-level-2);\n}\n\n/* Specification for estimator info (e.g. \"i\" and \"?\") */\n\n/* Common style for \"i\" and \"?\" */\n\n.sk-estimator-doc-link,\na:link.sk-estimator-doc-link,\na:visited.sk-estimator-doc-link {\n  float: right;\n  font-size: smaller;\n  line-height: 1em;\n  font-family: monospace;\n  background-color: var(--sklearn-color-background);\n  border-radius: 1em;\n  height: 1em;\n  width: 1em;\n  text-decoration: none !important;\n  margin-left: 1ex;\n  /* unfitted */\n  border: var(--sklearn-color-unfitted-level-1) 1pt solid;\n  color: var(--sklearn-color-unfitted-level-1);\n}\n\n.sk-estimator-doc-link.fitted,\na:link.sk-estimator-doc-link.fitted,\na:visited.sk-estimator-doc-link.fitted {\n  /* fitted */\n  border: var(--sklearn-color-fitted-level-1) 1pt solid;\n  color: var(--sklearn-color-fitted-level-1);\n}\n\n/* On hover */\ndiv.sk-estimator:hover .sk-estimator-doc-link:hover,\n.sk-estimator-doc-link:hover,\ndiv.sk-label-container:hover .sk-estimator-doc-link:hover,\n.sk-estimator-doc-link:hover {\n  /* unfitted */\n  background-color: var(--sklearn-color-unfitted-level-3);\n  color: var(--sklearn-color-background);\n  text-decoration: none;\n}\n\ndiv.sk-estimator.fitted:hover .sk-estimator-doc-link.fitted:hover,\n.sk-estimator-doc-link.fitted:hover,\ndiv.sk-label-container:hover .sk-estimator-doc-link.fitted:hover,\n.sk-estimator-doc-link.fitted:hover {\n  /* fitted */\n  background-color: var(--sklearn-color-fitted-level-3);\n  color: var(--sklearn-color-background);\n  text-decoration: none;\n}\n\n/* Span, style for the box shown on hovering the info icon */\n.sk-estimator-doc-link span {\n  display: none;\n  z-index: 9999;\n  position: relative;\n  font-weight: normal;\n  right: .2ex;\n  padding: .5ex;\n  margin: .5ex;\n  width: min-content;\n  min-width: 20ex;\n  max-width: 50ex;\n  color: var(--sklearn-color-text);\n  box-shadow: 2pt 2pt 4pt #999;\n  /* unfitted */\n  background: var(--sklearn-color-unfitted-level-0);\n  border: .5pt solid var(--sklearn-color-unfitted-level-3);\n}\n\n.sk-estimator-doc-link.fitted span {\n  /* fitted */\n  background: var(--sklearn-color-fitted-level-0);\n  border: var(--sklearn-color-fitted-level-3);\n}\n\n.sk-estimator-doc-link:hover span {\n  display: block;\n}\n\n/* \"?\"-specific style due to the `<a>` HTML tag */\n\n#sk-container-id-3 a.estimator_doc_link {\n  float: right;\n  font-size: 1rem;\n  line-height: 1em;\n  font-family: monospace;\n  background-color: var(--sklearn-color-background);\n  border-radius: 1rem;\n  height: 1rem;\n  width: 1rem;\n  text-decoration: none;\n  /* unfitted */\n  color: var(--sklearn-color-unfitted-level-1);\n  border: var(--sklearn-color-unfitted-level-1) 1pt solid;\n}\n\n#sk-container-id-3 a.estimator_doc_link.fitted {\n  /* fitted */\n  border: var(--sklearn-color-fitted-level-1) 1pt solid;\n  color: var(--sklearn-color-fitted-level-1);\n}\n\n/* On hover */\n#sk-container-id-3 a.estimator_doc_link:hover {\n  /* unfitted */\n  background-color: var(--sklearn-color-unfitted-level-3);\n  color: var(--sklearn-color-background);\n  text-decoration: none;\n}\n\n#sk-container-id-3 a.estimator_doc_link.fitted:hover {\n  /* fitted */\n  background-color: var(--sklearn-color-fitted-level-3);\n}\n</style><div id=\"sk-container-id-3\" class=\"sk-top-container\"><div class=\"sk-text-repr-fallback\"><pre>RandomForestClassifier(max_depth=20, n_estimators=10, random_state=1)</pre><b>In a Jupyter environment, please rerun this cell to show the HTML representation or trust the notebook. <br />On GitHub, the HTML representation is unable to render, please try loading this page with nbviewer.org.</b></div><div class=\"sk-container\" hidden><div class=\"sk-item\"><div class=\"sk-estimator fitted sk-toggleable\"><input class=\"sk-toggleable__control sk-hidden--visually\" id=\"sk-estimator-id-3\" type=\"checkbox\" checked><label for=\"sk-estimator-id-3\" class=\"sk-toggleable__label fitted sk-toggleable__label-arrow fitted\">&nbsp;&nbsp;RandomForestClassifier<a class=\"sk-estimator-doc-link fitted\" rel=\"noreferrer\" target=\"_blank\" href=\"https://scikit-learn.org/1.5/modules/generated/sklearn.ensemble.RandomForestClassifier.html\">?<span>Documentation for RandomForestClassifier</span></a><span class=\"sk-estimator-doc-link fitted\">i<span>Fitted</span></span></label><div class=\"sk-toggleable__content fitted\"><pre>RandomForestClassifier(max_depth=20, n_estimators=10, random_state=1)</pre></div> </div></div></div></div>"
     },
     "execution_count": 36,
     "metadata": {},
     "output_type": "execute_result"
    }
   ],
   "source": [
    "rfc = RandomForestClassifier(n_estimators=10, max_depth=20, random_state=1)\n",
    "rfc.fit(X_train, y_train)"
   ],
   "metadata": {
    "collapsed": false,
    "ExecuteTime": {
     "end_time": "2025-02-18T04:00:20.388303Z",
     "start_time": "2025-02-18T04:00:20.241125Z"
    }
   },
   "id": "7acd0a3031bb3bb9",
   "execution_count": 36
  },
  {
   "cell_type": "code",
   "outputs": [
    {
     "data": {
      "text/plain": "distance_to_school    0.116631\nName: feature_importances, dtype: float64"
     },
     "execution_count": 37,
     "metadata": {},
     "output_type": "execute_result"
    }
   ],
   "source": [
    "columns = ['feature_importances', 'feature_names']\n",
    "df_f = pd.DataFrame(rfc.feature_importances_, columns=['feature_importances'], index=dv.get_feature_names_out())\n",
    "df_f = df_f.feature_importances.sort_values(ascending=False)\n",
    "df_f.iloc[:1]"
   ],
   "metadata": {
    "collapsed": false,
    "ExecuteTime": {
     "end_time": "2025-02-18T04:00:20.955216Z",
     "start_time": "2025-02-18T04:00:20.940057Z"
    }
   },
   "id": "5b1e6a532bf55863",
   "execution_count": 37
  },
  {
   "cell_type": "code",
   "outputs": [],
   "source": [
    "# Question 6\n",
    "# Now let's train an XGBoost model! For this question, we'll tune the eta parameter:\n",
    "# \n",
    "# Install XGBoost\n",
    "# Create DMatrix for train and validation\n",
    "# Create a watchlist\n",
    "# Train a model with these parameters for 100 rounds:\n",
    "# xgb_params = {\n",
    "#     'eta': 0.3, \n",
    "#     'max_depth': 6,\n",
    "#     'min_child_weight': 1,\n",
    "#     \n",
    "#     'objective': 'reg:squarederror',\n",
    "#     'nthread': 8,\n",
    "#     \n",
    "#     'seed': 1,\n",
    "#     'verbosity': 1,\n",
    "# }\n",
    "# Now change eta from 0.3 to 0.1.\n",
    "# \n",
    "# Which eta leads to the best RMSE score on the validation dataset?\n",
    "# \n",
    "# 0.3\n",
    "# 0.1\n",
    "# Both give equal value"
   ],
   "metadata": {
    "collapsed": false,
    "ExecuteTime": {
     "end_time": "2025-02-18T04:00:22.151188Z",
     "start_time": "2025-02-18T04:00:22.131413Z"
    }
   },
   "id": "a96e5c5c3077a953",
   "execution_count": 38
  },
  {
   "cell_type": "code",
   "outputs": [],
   "source": [
    "import xgboost as xgb"
   ],
   "metadata": {
    "collapsed": false,
    "ExecuteTime": {
     "end_time": "2025-02-18T04:00:23.807116Z",
     "start_time": "2025-02-18T04:00:22.993954Z"
    }
   },
   "id": "d32e8306f6eec2ac",
   "execution_count": 39
  },
  {
   "cell_type": "code",
   "outputs": [],
   "source": [
    "features = list(dv.get_feature_names_out())\n",
    "dtrain = xgb.DMatrix(X_train, label=y_train, feature_names=features)\n",
    "dval = xgb.DMatrix(X_val, label=y_val, feature_names=features)"
   ],
   "metadata": {
    "collapsed": false,
    "ExecuteTime": {
     "end_time": "2025-02-18T04:00:24.569735Z",
     "start_time": "2025-02-18T04:00:24.561Z"
    }
   },
   "id": "e9b40a2f7699ce95",
   "execution_count": 40
  },
  {
   "cell_type": "code",
   "outputs": [],
   "source": [
    "watchlist = [(dval, 'val')]"
   ],
   "metadata": {
    "collapsed": false,
    "ExecuteTime": {
     "end_time": "2025-02-18T04:00:25.426495Z",
     "start_time": "2025-02-18T04:00:25.409987Z"
    }
   },
   "id": "ab5dc24354b702db",
   "execution_count": 41
  },
  {
   "cell_type": "code",
   "outputs": [],
   "source": [
    "%%capture captured1\n",
    "\n",
    "xgb_params = {\n",
    "    'eta': 0.3,\n",
    "    'max_depth': 6,\n",
    "    'min_child_weight': 1,\n",
    "\n",
    "    'objective': 'reg:squarederror',\n",
    "    'nthread': 8,\n",
    "    \n",
    "    'seed': 1,\n",
    "    'verbosity': 1,\n",
    "}\n",
    "model1 = xgb.train(xgb_params, dval, num_boost_round=100,evals=watchlist)"
   ],
   "metadata": {
    "collapsed": false,
    "ExecuteTime": {
     "end_time": "2025-02-18T04:00:26.380974Z",
     "start_time": "2025-02-18T04:00:26.254762Z"
    }
   },
   "id": "6b3d0fdc12cc89ed",
   "execution_count": 42
  },
  {
   "cell_type": "code",
   "outputs": [
    {
     "name": "stdout",
     "output_type": "stream",
     "text": [
      "[0]\tval-rmse:42.22092\n",
      "[1]\tval-rmse:38.00098\n",
      "[2]\tval-rmse:35.30160\n",
      "[3]\tval-rmse:33.14341\n",
      "[4]\tval-rmse:31.17431\n",
      "[5]\tval-rmse:29.87183\n",
      "[6]\tval-rmse:28.47100\n",
      "[7]\tval-rmse:27.04806\n",
      "[8]\tval-rmse:26.08545\n",
      "[9]\tval-rmse:24.83442\n",
      "[10]\tval-rmse:23.79271\n",
      "[11]\tval-rmse:23.09088\n",
      "[12]\tval-rmse:22.18666\n",
      "[13]\tval-rmse:21.73843\n",
      "[14]\tval-rmse:20.98967\n",
      "[15]\tval-rmse:19.93035\n",
      "[16]\tval-rmse:18.99987\n",
      "[17]\tval-rmse:18.40591\n",
      "[18]\tval-rmse:17.93142\n",
      "[19]\tval-rmse:17.16781\n",
      "[20]\tval-rmse:16.60290\n",
      "[21]\tval-rmse:15.74102\n",
      "[22]\tval-rmse:15.52199\n",
      "[23]\tval-rmse:15.17426\n",
      "[24]\tval-rmse:14.70306\n",
      "[25]\tval-rmse:14.14268\n",
      "[26]\tval-rmse:13.70990\n",
      "[27]\tval-rmse:13.42489\n",
      "[28]\tval-rmse:12.97467\n",
      "[29]\tval-rmse:12.86120\n",
      "[30]\tval-rmse:12.44184\n",
      "[31]\tval-rmse:11.78380\n",
      "[32]\tval-rmse:11.58079\n",
      "[33]\tval-rmse:11.22204\n",
      "[34]\tval-rmse:10.94894\n",
      "[35]\tval-rmse:10.67196\n",
      "[36]\tval-rmse:10.45297\n",
      "[37]\tval-rmse:10.35956\n",
      "[38]\tval-rmse:10.07197\n",
      "[39]\tval-rmse:9.80441\n",
      "[40]\tval-rmse:9.42840\n",
      "[41]\tval-rmse:9.16857\n",
      "[42]\tval-rmse:9.03478\n",
      "[43]\tval-rmse:8.86470\n",
      "[44]\tval-rmse:8.62291\n",
      "[45]\tval-rmse:8.17772\n",
      "[46]\tval-rmse:7.86791\n",
      "[47]\tval-rmse:7.61549\n",
      "[48]\tval-rmse:7.26122\n",
      "[49]\tval-rmse:7.15870\n",
      "[50]\tval-rmse:6.99885\n",
      "[51]\tval-rmse:6.76891\n",
      "[52]\tval-rmse:6.43256\n",
      "[53]\tval-rmse:6.12157\n",
      "[54]\tval-rmse:5.99206\n",
      "[55]\tval-rmse:5.80770\n",
      "[56]\tval-rmse:5.49556\n",
      "[57]\tval-rmse:5.36700\n",
      "[58]\tval-rmse:5.17145\n",
      "[59]\tval-rmse:4.99194\n",
      "[60]\tval-rmse:4.92455\n",
      "[61]\tval-rmse:4.73824\n",
      "[62]\tval-rmse:4.61625\n",
      "[63]\tval-rmse:4.59024\n",
      "[64]\tval-rmse:4.44560\n",
      "[65]\tval-rmse:4.26548\n",
      "[66]\tval-rmse:4.22923\n",
      "[67]\tval-rmse:4.13022\n",
      "[68]\tval-rmse:4.06001\n",
      "[69]\tval-rmse:3.94018\n",
      "[70]\tval-rmse:3.86354\n",
      "[71]\tval-rmse:3.72721\n",
      "[72]\tval-rmse:3.62395\n",
      "[73]\tval-rmse:3.54016\n",
      "[74]\tval-rmse:3.45818\n",
      "[75]\tval-rmse:3.27113\n",
      "[76]\tval-rmse:3.12431\n",
      "[77]\tval-rmse:3.04031\n",
      "[78]\tval-rmse:2.97146\n",
      "[79]\tval-rmse:2.85684\n",
      "[80]\tval-rmse:2.70887\n",
      "[81]\tval-rmse:2.70251\n",
      "[82]\tval-rmse:2.57742\n",
      "[83]\tval-rmse:2.49655\n",
      "[84]\tval-rmse:2.39636\n",
      "[85]\tval-rmse:2.36799\n",
      "[86]\tval-rmse:2.29490\n",
      "[87]\tval-rmse:2.27621\n",
      "[88]\tval-rmse:2.25423\n",
      "[89]\tval-rmse:2.23414\n",
      "[90]\tval-rmse:2.12733\n",
      "[91]\tval-rmse:2.05401\n",
      "[92]\tval-rmse:2.01143\n",
      "[93]\tval-rmse:1.97648\n",
      "[94]\tval-rmse:1.94867\n",
      "[95]\tval-rmse:1.89215\n",
      "[96]\tval-rmse:1.85982\n",
      "[97]\tval-rmse:1.77763\n",
      "[98]\tval-rmse:1.71301\n",
      "[99]\tval-rmse:1.66938\n"
     ]
    }
   ],
   "source": [
    "# noinspection PyUnresolvedReferences\n",
    "print(captured1)"
   ],
   "metadata": {
    "collapsed": false,
    "ExecuteTime": {
     "end_time": "2025-02-18T04:00:27.384453Z",
     "start_time": "2025-02-18T04:00:27.370301Z"
    }
   },
   "id": "7ba2e1e9b9861a56",
   "execution_count": 43
  },
  {
   "cell_type": "code",
   "outputs": [],
   "source": [
    "%%capture captured2\n",
    "\n",
    "xgb_params = {\n",
    "    'eta': 0.1,\n",
    "    'max_depth': 6,\n",
    "    'min_child_weight': 1,\n",
    "\n",
    "    'objective': 'reg:squarederror',\n",
    "    'nthread': 8,\n",
    "    \n",
    "    'seed': 1,\n",
    "    'verbosity': 1,\n",
    "}\n",
    "model2 = xgb.train(xgb_params, dtrain, num_boost_round=100,evals=watchlist)"
   ],
   "metadata": {
    "collapsed": false,
    "ExecuteTime": {
     "end_time": "2025-02-18T04:00:29.066081Z",
     "start_time": "2025-02-18T04:00:28.909832Z"
    }
   },
   "id": "bd7e3d03075e5f36",
   "execution_count": 44
  },
  {
   "cell_type": "code",
   "outputs": [
    {
     "name": "stdout",
     "output_type": "stream",
     "text": [
      "[0]\tval-rmse:47.00533\n",
      "[1]\tval-rmse:45.92344\n",
      "[2]\tval-rmse:44.98366\n",
      "[3]\tval-rmse:44.25755\n",
      "[4]\tval-rmse:43.57339\n",
      "[5]\tval-rmse:43.11181\n",
      "[6]\tval-rmse:42.61054\n",
      "[7]\tval-rmse:42.18883\n",
      "[8]\tval-rmse:41.86754\n",
      "[9]\tval-rmse:41.64338\n",
      "[10]\tval-rmse:41.39235\n",
      "[11]\tval-rmse:41.14265\n",
      "[12]\tval-rmse:40.95201\n",
      "[13]\tval-rmse:40.81778\n",
      "[14]\tval-rmse:40.75008\n",
      "[15]\tval-rmse:40.61341\n",
      "[16]\tval-rmse:40.51800\n",
      "[17]\tval-rmse:40.41659\n",
      "[18]\tval-rmse:40.33546\n",
      "[19]\tval-rmse:40.25632\n",
      "[20]\tval-rmse:40.25010\n",
      "[21]\tval-rmse:40.19826\n",
      "[22]\tval-rmse:40.21101\n",
      "[23]\tval-rmse:40.14758\n",
      "[24]\tval-rmse:40.15079\n",
      "[25]\tval-rmse:40.12003\n",
      "[26]\tval-rmse:40.08693\n",
      "[27]\tval-rmse:40.08567\n",
      "[28]\tval-rmse:40.07263\n",
      "[29]\tval-rmse:40.14000\n",
      "[30]\tval-rmse:40.13806\n",
      "[31]\tval-rmse:40.11982\n",
      "[32]\tval-rmse:40.13489\n",
      "[33]\tval-rmse:40.16486\n",
      "[34]\tval-rmse:40.17118\n",
      "[35]\tval-rmse:40.16103\n",
      "[36]\tval-rmse:40.19895\n",
      "[37]\tval-rmse:40.19394\n",
      "[38]\tval-rmse:40.20019\n",
      "[39]\tval-rmse:40.18898\n",
      "[40]\tval-rmse:40.17753\n",
      "[41]\tval-rmse:40.19907\n",
      "[42]\tval-rmse:40.23107\n",
      "[43]\tval-rmse:40.24420\n",
      "[44]\tval-rmse:40.27500\n",
      "[45]\tval-rmse:40.27366\n",
      "[46]\tval-rmse:40.24679\n",
      "[47]\tval-rmse:40.28895\n",
      "[48]\tval-rmse:40.27880\n",
      "[49]\tval-rmse:40.30062\n",
      "[50]\tval-rmse:40.29573\n",
      "[51]\tval-rmse:40.32700\n",
      "[52]\tval-rmse:40.31936\n",
      "[53]\tval-rmse:40.35036\n",
      "[54]\tval-rmse:40.36356\n",
      "[55]\tval-rmse:40.40072\n",
      "[56]\tval-rmse:40.40093\n",
      "[57]\tval-rmse:40.41411\n",
      "[58]\tval-rmse:40.43980\n",
      "[59]\tval-rmse:40.44968\n",
      "[60]\tval-rmse:40.47477\n",
      "[61]\tval-rmse:40.47133\n",
      "[62]\tval-rmse:40.48235\n",
      "[63]\tval-rmse:40.45222\n",
      "[64]\tval-rmse:40.48469\n",
      "[65]\tval-rmse:40.47659\n",
      "[66]\tval-rmse:40.50645\n",
      "[67]\tval-rmse:40.51134\n",
      "[68]\tval-rmse:40.52407\n",
      "[69]\tval-rmse:40.53409\n",
      "[70]\tval-rmse:40.55225\n",
      "[71]\tval-rmse:40.57516\n",
      "[72]\tval-rmse:40.59012\n",
      "[73]\tval-rmse:40.59042\n",
      "[74]\tval-rmse:40.59015\n",
      "[75]\tval-rmse:40.62564\n",
      "[76]\tval-rmse:40.61919\n",
      "[77]\tval-rmse:40.60548\n",
      "[78]\tval-rmse:40.61558\n",
      "[79]\tval-rmse:40.62441\n",
      "[80]\tval-rmse:40.61309\n",
      "[81]\tval-rmse:40.61170\n",
      "[82]\tval-rmse:40.62077\n",
      "[83]\tval-rmse:40.64626\n",
      "[84]\tval-rmse:40.65516\n",
      "[85]\tval-rmse:40.66530\n",
      "[86]\tval-rmse:40.70928\n",
      "[87]\tval-rmse:40.73308\n",
      "[88]\tval-rmse:40.78140\n",
      "[89]\tval-rmse:40.82961\n",
      "[90]\tval-rmse:40.84708\n",
      "[91]\tval-rmse:40.87368\n",
      "[92]\tval-rmse:40.89024\n",
      "[93]\tval-rmse:40.92316\n",
      "[94]\tval-rmse:40.94518\n",
      "[95]\tval-rmse:40.99952\n",
      "[96]\tval-rmse:41.00887\n",
      "[97]\tval-rmse:41.05015\n",
      "[98]\tval-rmse:41.06328\n",
      "[99]\tval-rmse:41.05034\n"
     ]
    }
   ],
   "source": [
    "# noinspection PyUnresolvedReferences\n",
    "print(captured2)"
   ],
   "metadata": {
    "collapsed": false,
    "ExecuteTime": {
     "end_time": "2025-02-18T04:00:30.263290Z",
     "start_time": "2025-02-18T04:00:30.250151Z"
    }
   },
   "id": "42859f25b13d0258",
   "execution_count": 45
  }
 ],
 "metadata": {
  "kernelspec": {
   "display_name": "Python 3",
   "language": "python",
   "name": "python3"
  },
  "language_info": {
   "codemirror_mode": {
    "name": "ipython",
    "version": 2
   },
   "file_extension": ".py",
   "mimetype": "text/x-python",
   "name": "python",
   "nbconvert_exporter": "python",
   "pygments_lexer": "ipython2",
   "version": "2.7.6"
  }
 },
 "nbformat": 4,
 "nbformat_minor": 5
}
