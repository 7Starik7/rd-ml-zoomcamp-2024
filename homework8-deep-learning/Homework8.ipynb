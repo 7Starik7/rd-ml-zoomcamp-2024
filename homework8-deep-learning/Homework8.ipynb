{
 "cells": [
  {
   "cell_type": "code",
   "outputs": [],
   "source": [
    "import requests\n",
    "import zipfile\n",
    "import numpy as np\n",
    "import tensorflow as tf\n",
    "\n",
    "tf.config.run_functions_eagerly(True)"
   ],
   "metadata": {
    "collapsed": false,
    "ExecuteTime": {
     "end_time": "2025-02-19T05:54:44.659010Z",
     "start_time": "2025-02-19T05:54:42.685368Z"
    }
   },
   "id": "ee4bb3878d2db03c",
   "execution_count": 1
  },
  {
   "cell_type": "code",
   "outputs": [],
   "source": [
    "SEED = 42\n",
    "np.random.seed(SEED)\n",
    "tf.random.set_seed(SEED)"
   ],
   "metadata": {
    "collapsed": false,
    "ExecuteTime": {
     "end_time": "2025-02-18T19:57:30.218202Z",
     "start_time": "2025-02-18T19:57:30.198468Z"
    }
   },
   "id": "c7e0ca889dc5e215",
   "execution_count": 2
  },
  {
   "cell_type": "code",
   "outputs": [],
   "source": [
    "# Getting the data 1\n",
    "url = 'https://github.com/SVizor42/ML_Zoomcamp/releases/download/straight-curly-data/data.zip'\n",
    "dataset_path = '../homework8-deep-learning/datasets/'\n",
    "response = requests.get(url)\n",
    "with open(f'{dataset_path}data.zip', 'wb') as file:\n",
    "    for chunk in response.iter_content(chunk_size=1024):\n",
    "        file.write(chunk)"
   ],
   "metadata": {
    "collapsed": true,
    "ExecuteTime": {
     "end_time": "2025-02-18T19:57:41.217091Z",
     "start_time": "2025-02-18T19:57:32.807812Z"
    }
   },
   "id": "initial_id",
   "execution_count": 3
  },
  {
   "cell_type": "code",
   "outputs": [],
   "source": [
    "with zipfile.ZipFile(f'{dataset_path}data.zip') as zip_ref:\n",
    "    zip_ref.extractall(f'{dataset_path}/hairs-dataset')"
   ],
   "metadata": {
    "collapsed": false,
    "ExecuteTime": {
     "end_time": "2025-02-18T19:57:41.699920Z",
     "start_time": "2025-02-18T19:57:41.217718Z"
    }
   },
   "id": "1f424bf7111b99b5",
   "execution_count": 4
  },
  {
   "cell_type": "code",
   "outputs": [
    {
     "name": "stderr",
     "output_type": "stream",
     "text": [
      "WARNING:absl:At this time, the v2.11+ optimizer `tf.keras.optimizers.SGD` runs slowly on M1/M2 Macs, please use the legacy Keras optimizer instead, located at `tf.keras.optimizers.legacy.SGD`.\n"
     ]
    },
    {
     "name": "stdout",
     "output_type": "stream",
     "text": [
      "Model: \"sequential\"\n",
      "_________________________________________________________________\n",
      " Layer (type)                Output Shape              Param #   \n",
      "=================================================================\n",
      " conv2d (Conv2D)             (None, 198, 198, 32)      896       \n",
      "                                                                 \n",
      " max_pooling2d (MaxPooling2  (None, 99, 99, 32)        0         \n",
      " D)                                                              \n",
      "                                                                 \n",
      " flatten (Flatten)           (None, 313632)            0         \n",
      "                                                                 \n",
      " dense (Dense)               (None, 64)                20072512  \n",
      "                                                                 \n",
      " dense_1 (Dense)             (None, 1)                 65        \n",
      "                                                                 \n",
      "=================================================================\n",
      "Total params: 20073473 (76.57 MB)\n",
      "Trainable params: 20073473 (76.57 MB)\n",
      "Non-trainable params: 0 (0.00 Byte)\n",
      "_________________________________________________________________\n"
     ]
    }
   ],
   "source": [
    "# Define CNN the model\n",
    "\n",
    "# noinspection PyUnresolvedReferences\n",
    "from tensorflow.keras.models import Sequential\n",
    "from tensorflow.keras.layers import Input, Conv2D, MaxPooling2D, Flatten, Dense\n",
    "from tensorflow.keras.optimizers import SGD\n",
    "\n",
    "model = Sequential()\n",
    "model.add(Input(shape=(200, 200, 3)))\n",
    "model.add(Conv2D(filters=32, kernel_size=(3, 3), activation='relu'))\n",
    "model.add(MaxPooling2D(pool_size=(2, 2)))\n",
    "model.add(Flatten())\n",
    "model.add(Dense(64, activation='relu'))\n",
    "model.add(Dense(1, activation='sigmoid'))\n",
    "optimizer = SGD(learning_rate=0.002, momentum=0.8)\n",
    "model.compile(loss='binary_crossentropy', optimizer=optimizer, metrics=['accuracy'])\n",
    "model.summary()"
   ],
   "metadata": {
    "collapsed": false,
    "ExecuteTime": {
     "end_time": "2025-02-18T19:57:42.625708Z",
     "start_time": "2025-02-18T19:57:42.510826Z"
    }
   },
   "id": "a70bceb33217b979",
   "execution_count": 5
  },
  {
   "cell_type": "code",
   "outputs": [
    {
     "name": "stdout",
     "output_type": "stream",
     "text": [
      "Found 800 images belonging to 2 classes.\n",
      "Found 201 images belonging to 2 classes.\n"
     ]
    }
   ],
   "source": [
    "# Create the data generator, load data\n",
    "\n",
    "# noinspection PyUnresolvedReferences\n",
    "from tensorflow.keras.preprocessing.image import ImageDataGenerator\n",
    "\n",
    "gen = ImageDataGenerator(rescale=1. / 255)\n",
    "\n",
    "train_dataset = gen.flow_from_directory(\n",
    "    '../homework8-deep-learning/datasets/hairs-dataset/data/train',\n",
    "    target_size=(200, 200),\n",
    "    batch_size=20,\n",
    "    shuffle=True,\n",
    "    class_mode='binary'\n",
    ")\n",
    "\n",
    "test_dataset = gen.flow_from_directory(\n",
    "    '../homework8-deep-learning/datasets/hairs-dataset/data/test',\n",
    "    target_size=(200, 200),\n",
    "    batch_size=20,\n",
    "    shuffle=True,\n",
    "    class_mode='binary'\n",
    ")"
   ],
   "metadata": {
    "collapsed": false,
    "ExecuteTime": {
     "end_time": "2025-02-18T19:57:46.541859Z",
     "start_time": "2025-02-18T19:57:46.485079Z"
    }
   },
   "id": "955234cd059ab59d",
   "execution_count": 6
  },
  {
   "cell_type": "code",
   "outputs": [
    {
     "name": "stdout",
     "output_type": "stream",
     "text": [
      "Epoch 1/10\n"
     ]
    },
    {
     "name": "stderr",
     "output_type": "stream",
     "text": [
      "/Users/roman_didyk/.local/share/virtualenvs/rd-ml-zoomcamp-2024-3prO3anl/lib/python3.10/site-packages/tensorflow/python/data/ops/structured_function.py:258: UserWarning: Even though the `tf.config.experimental_run_functions_eagerly` option is set, this option does not apply to tf.data functions. To force eager execution of tf.data functions, please use `tf.data.experimental.enable_debug_mode()`.\n",
      "  warnings.warn(\n"
     ]
    },
    {
     "name": "stdout",
     "output_type": "stream",
     "text": [
      "40/40 [==============================] - 8s 205ms/step - loss: 0.6915 - accuracy: 0.5863 - val_loss: 0.6552 - val_accuracy: 0.5721\n",
      "Epoch 2/10\n",
      "40/40 [==============================] - 6s 147ms/step - loss: 0.6008 - accuracy: 0.6775 - val_loss: 0.6299 - val_accuracy: 0.6368\n",
      "Epoch 3/10\n",
      "40/40 [==============================] - 6s 151ms/step - loss: 0.5884 - accuracy: 0.6913 - val_loss: 0.6132 - val_accuracy: 0.6468\n",
      "Epoch 4/10\n",
      "40/40 [==============================] - 6s 147ms/step - loss: 0.5473 - accuracy: 0.7200 - val_loss: 0.6491 - val_accuracy: 0.6368\n",
      "Epoch 5/10\n",
      "40/40 [==============================] - 6s 147ms/step - loss: 0.5340 - accuracy: 0.7225 - val_loss: 0.6379 - val_accuracy: 0.6418\n",
      "Epoch 6/10\n",
      "40/40 [==============================] - 6s 149ms/step - loss: 0.5068 - accuracy: 0.7475 - val_loss: 0.6061 - val_accuracy: 0.6766\n",
      "Epoch 7/10\n",
      "40/40 [==============================] - 6s 148ms/step - loss: 0.4892 - accuracy: 0.7513 - val_loss: 0.5992 - val_accuracy: 0.6617\n",
      "Epoch 8/10\n",
      "40/40 [==============================] - 6s 147ms/step - loss: 0.5081 - accuracy: 0.7312 - val_loss: 0.5845 - val_accuracy: 0.6866\n",
      "Epoch 9/10\n",
      "40/40 [==============================] - 6s 147ms/step - loss: 0.4517 - accuracy: 0.7900 - val_loss: 0.6003 - val_accuracy: 0.6766\n",
      "Epoch 10/10\n",
      "40/40 [==============================] - 6s 148ms/step - loss: 0.4099 - accuracy: 0.8200 - val_loss: 0.6173 - val_accuracy: 0.6517\n"
     ]
    }
   ],
   "source": [
    "# Train the model\n",
    "history = model.fit(train_dataset, epochs=10, validation_data=test_dataset)"
   ],
   "metadata": {
    "collapsed": false,
    "ExecuteTime": {
     "end_time": "2025-02-18T19:58:53.099717Z",
     "start_time": "2025-02-18T19:57:50.892269Z"
    }
   },
   "id": "8fa188a70e3a5cb1",
   "execution_count": 7
  },
  {
   "cell_type": "code",
   "outputs": [
    {
     "data": {
      "text/plain": "0.7268750071525574"
     },
     "execution_count": 8,
     "metadata": {},
     "output_type": "execute_result"
    }
   ],
   "source": [
    "train_accuracies = history.history['accuracy']\n",
    "median_accuracy = np.median(train_accuracies)\n",
    "median_accuracy"
   ],
   "metadata": {
    "collapsed": false,
    "ExecuteTime": {
     "end_time": "2025-02-18T19:58:53.105974Z",
     "start_time": "2025-02-18T19:58:53.100755Z"
    }
   },
   "id": "193c3423e39ed62d",
   "execution_count": 8
  },
  {
   "cell_type": "code",
   "outputs": [
    {
     "data": {
      "text/plain": "0.07614932526635858"
     },
     "execution_count": 9,
     "metadata": {},
     "output_type": "execute_result"
    }
   ],
   "source": [
    "train_losses = history.history['loss']\n",
    "std_dev_loss = np.std(train_losses)\n",
    "std_dev_loss"
   ],
   "metadata": {
    "collapsed": false,
    "ExecuteTime": {
     "end_time": "2025-02-18T19:58:53.107428Z",
     "start_time": "2025-02-18T19:58:53.104790Z"
    }
   },
   "id": "197bb28921db3167",
   "execution_count": 9
  },
  {
   "cell_type": "code",
   "outputs": [
    {
     "name": "stdout",
     "output_type": "stream",
     "text": [
      "Found 800 images belonging to 2 classes.\n",
      "Found 201 images belonging to 2 classes.\n"
     ]
    }
   ],
   "source": [
    "gen_with_augmentation = ImageDataGenerator(\n",
    "    rescale=1. / 255,\n",
    "    rotation_range=50,\n",
    "    width_shift_range=0.1,\n",
    "    height_shift_range=0.1,\n",
    "    zoom_range=0.1,\n",
    "    horizontal_flip=True,\n",
    "    fill_mode='nearest'\n",
    ")\n",
    "\n",
    "train_dataset_with_augmentation = gen_with_augmentation.flow_from_directory(\n",
    "    '../homework8-deep-learning/datasets/hairs-dataset/data/train',\n",
    "    target_size=(200, 200),\n",
    "    batch_size=20,\n",
    "    shuffle=True,\n",
    "    class_mode='binary'\n",
    ")\n",
    "\n",
    "test_dataset_with_augmentation = gen_with_augmentation.flow_from_directory(\n",
    "    '../homework8-deep-learning/datasets/hairs-dataset/data/test',\n",
    "    target_size=(200, 200),\n",
    "    batch_size=20,\n",
    "    shuffle=True,\n",
    "    class_mode='binary'\n",
    ")"
   ],
   "metadata": {
    "collapsed": false,
    "ExecuteTime": {
     "end_time": "2025-02-18T19:58:56.203280Z",
     "start_time": "2025-02-18T19:58:56.156434Z"
    }
   },
   "id": "7cae541c0092d4a",
   "execution_count": 10
  },
  {
   "cell_type": "code",
   "outputs": [
    {
     "name": "stdout",
     "output_type": "stream",
     "text": [
      "Epoch 1/10\n",
      "40/40 [==============================] - 7s 182ms/step - loss: 0.6582 - accuracy: 0.6438 - val_loss: 0.6481 - val_accuracy: 0.6716\n",
      "Epoch 2/10\n",
      "40/40 [==============================] - 7s 170ms/step - loss: 0.6119 - accuracy: 0.6650 - val_loss: 0.6131 - val_accuracy: 0.6766\n",
      "Epoch 3/10\n",
      "40/40 [==============================] - 7s 172ms/step - loss: 0.5906 - accuracy: 0.6925 - val_loss: 0.6026 - val_accuracy: 0.6716\n",
      "Epoch 4/10\n",
      "40/40 [==============================] - 7s 171ms/step - loss: 0.5957 - accuracy: 0.6913 - val_loss: 0.6131 - val_accuracy: 0.6617\n",
      "Epoch 5/10\n",
      "40/40 [==============================] - 7s 172ms/step - loss: 0.5832 - accuracy: 0.6963 - val_loss: 0.5960 - val_accuracy: 0.6915\n",
      "Epoch 6/10\n",
      "40/40 [==============================] - 7s 172ms/step - loss: 0.5862 - accuracy: 0.7050 - val_loss: 0.6264 - val_accuracy: 0.6418\n",
      "Epoch 7/10\n",
      "40/40 [==============================] - 7s 175ms/step - loss: 0.5742 - accuracy: 0.7075 - val_loss: 0.5948 - val_accuracy: 0.6617\n",
      "Epoch 8/10\n",
      "40/40 [==============================] - 7s 174ms/step - loss: 0.5577 - accuracy: 0.7200 - val_loss: 0.5715 - val_accuracy: 0.7015\n",
      "Epoch 9/10\n",
      "40/40 [==============================] - 7s 178ms/step - loss: 0.5614 - accuracy: 0.7113 - val_loss: 0.5693 - val_accuracy: 0.7363\n",
      "Epoch 10/10\n",
      "40/40 [==============================] - 7s 176ms/step - loss: 0.5562 - accuracy: 0.7262 - val_loss: 0.5682 - val_accuracy: 0.7015\n"
     ]
    }
   ],
   "source": [
    "history_with_augmentation = model.fit(train_dataset_with_augmentation, epochs=10, validation_data=test_dataset_with_augmentation)"
   ],
   "metadata": {
    "collapsed": false,
    "ExecuteTime": {
     "end_time": "2025-02-18T20:00:08.264235Z",
     "start_time": "2025-02-18T19:58:57.455751Z"
    }
   },
   "id": "9feace8d95a7cee9",
   "execution_count": 11
  },
  {
   "cell_type": "code",
   "outputs": [
    {
     "data": {
      "text/plain": "0.6003234505653381"
     },
     "execution_count": 12,
     "metadata": {},
     "output_type": "execute_result"
    }
   ],
   "source": [
    "test_losses = history_with_augmentation.history['val_loss']\n",
    "mean_test_loss = np.mean(test_losses)\n",
    "mean_test_loss"
   ],
   "metadata": {
    "collapsed": false,
    "ExecuteTime": {
     "end_time": "2025-02-18T20:00:08.269655Z",
     "start_time": "2025-02-18T20:00:08.263955Z"
    }
   },
   "id": "96d1c4a7f6c63e51",
   "execution_count": 12
  },
  {
   "cell_type": "code",
   "outputs": [
    {
     "data": {
      "text/plain": "0.68855721950531"
     },
     "execution_count": 13,
     "metadata": {},
     "output_type": "execute_result"
    }
   ],
   "source": [
    "test_accuracies = history_with_augmentation.history['val_accuracy'][-5:]\n",
    "average_test_accuracy = np.mean(test_accuracies)\n",
    "average_test_accuracy"
   ],
   "metadata": {
    "collapsed": false,
    "ExecuteTime": {
     "end_time": "2025-02-18T20:00:08.270308Z",
     "start_time": "2025-02-18T20:00:08.267659Z"
    }
   },
   "id": "e5bc73b336cc4aa5",
   "execution_count": 13
  }
 ],
 "metadata": {
  "kernelspec": {
   "display_name": "Python 3",
   "language": "python",
   "name": "python3"
  },
  "language_info": {
   "codemirror_mode": {
    "name": "ipython",
    "version": 2
   },
   "file_extension": ".py",
   "mimetype": "text/x-python",
   "name": "python",
   "nbconvert_exporter": "python",
   "pygments_lexer": "ipython2",
   "version": "2.7.6"
  }
 },
 "nbformat": 4,
 "nbformat_minor": 5
}
