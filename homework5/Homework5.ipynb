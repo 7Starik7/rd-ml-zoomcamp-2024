{
 "cells": [
  {
   "cell_type": "code",
   "outputs": [],
   "source": [
    "import requests\n",
    "import pickle"
   ],
   "metadata": {
    "collapsed": false
   },
   "id": "f23266fdc8356edf",
   "execution_count": null
  },
  {
   "cell_type": "code",
   "outputs": [],
   "source": [
    "# Models\n",
    "# We've prepared a dictionary vectorizer and a model.\n",
    "# \n",
    "# They were trained (roughly) using this code:\n",
    "# \n",
    "# features = ['job', 'duration', 'poutcome']\n",
    "# dicts = df[features].to_dict(orient='records')\n",
    "# \n",
    "# dv = DictVectorizer(sparse=False)\n",
    "# X = dv.fit_transform(dicts)\n",
    "# \n",
    "# model = LogisticRegression().fit(X, y)\n",
    "# Note: You don't need to train the model. This code is just for your reference.\n",
    "# \n",
    "# And then saved with Pickle. Download them:\n",
    "# \n",
    "# DictVectorizer\n",
    "# LogisticRegression\n",
    "# With wget:\n",
    "# \n",
    "# PREFIX=https://raw.githubusercontent.com/DataTalksClub/machine-learning-zoomcamp/master/cohorts/2024/05-deployment/homework\n",
    "# wget $PREFIX/model1.bin\n",
    "# wget $PREFIX/dv.bin"
   ],
   "metadata": {
    "collapsed": false
   },
   "id": "4fd22ad0df2b5948",
   "execution_count": null
  },
  {
   "cell_type": "code",
   "outputs": [],
   "source": [
    "PREFIX = 'https://raw.githubusercontent.com/DataTalksClub/machine-learning-zoomcamp/master/cohorts/2024/05-deployment/homework'\n",
    "path = '../homework5/'\n",
    "response_model1 = requests.get(f'{PREFIX}/model1.bin')\n",
    "response_dv = requests.get(f'{PREFIX}/dv.bin')\n",
    "\n",
    "with open(f'{path}model1.bin', 'wb') as file:\n",
    "    for chunk in response_model1.iter_content(chunk_size=1024):\n",
    "        file.write(chunk)\n",
    "\n",
    "with open(f'{path}dv.bin', 'wb') as file:\n",
    "    for chunk in response_dv.iter_content(chunk_size=1024):\n",
    "        file.write(chunk)"
   ],
   "metadata": {
    "collapsed": true
   },
   "id": "initial_id",
   "execution_count": null
  },
  {
   "cell_type": "code",
   "outputs": [],
   "source": [
    "# Question 3\n",
    "# Let's use these models!\n",
    "# \n",
    "# Write a script for loading these models with pickle\n",
    "# Score this client:\n",
    "# {\"job\": \"management\", \"duration\": 400, \"poutcome\": \"success\"}\n",
    "# What's the probability that this client will get a subscription?\n",
    "# \n",
    "# 0.359\n",
    "# 0.559\n",
    "# 0.759\n",
    "# 0.959\n",
    "# If you're getting errors when unpickling the files, check their checksum:\n",
    "# \n",
    "# $ md5sum model1.bin dv.bin\n",
    "# 3d8bb28974e55edefa000fe38fd3ed12  model1.bin\n",
    "# 7d37616e00aa80f2152b8b0511fc2dff  dv.bin"
   ],
   "metadata": {
    "collapsed": false
   },
   "id": "ed1991c17afb63f6",
   "execution_count": null
  },
  {
   "cell_type": "code",
   "outputs": [],
   "source": [
    "input_file_model = 'model1.bin'\n",
    "input_file_dv = 'dv.bin'\n",
    "\n",
    "with open(input_file_model, 'rb') as f_in:\n",
    "    model = pickle.load(f_in)\n",
    "\n",
    "with open(input_file_dv, 'rb') as f_in:\n",
    "    dv = pickle.load(f_in)"
   ],
   "metadata": {
    "collapsed": false
   },
   "id": "45add12e2d2578fb",
   "execution_count": null
  },
  {
   "cell_type": "code",
   "outputs": [],
   "source": [
    "model"
   ],
   "metadata": {
    "collapsed": false
   },
   "id": "bb9c485a0185b67",
   "execution_count": null
  },
  {
   "cell_type": "code",
   "outputs": [],
   "source": [
    "dv"
   ],
   "metadata": {
    "collapsed": false
   },
   "id": "a47c9cba84315f96",
   "execution_count": null
  },
  {
   "cell_type": "code",
   "outputs": [],
   "source": [
    "client1 = {\"job\": \"management\", \"duration\": 400, \"poutcome\": \"success\"}"
   ],
   "metadata": {
    "collapsed": false
   },
   "id": "80efa99f99acdd8b",
   "execution_count": null
  },
  {
   "cell_type": "code",
   "outputs": [],
   "source": [
    "X = dv.transform([client1])"
   ],
   "metadata": {
    "collapsed": false
   },
   "id": "4449afc37eefcba1",
   "execution_count": null
  },
  {
   "cell_type": "code",
   "outputs": [],
   "source": [
    "model.predict_proba(X)[0, 1]"
   ],
   "metadata": {
    "collapsed": false
   },
   "id": "6b1a7b6df4ac99c6",
   "execution_count": null
  },
  {
   "cell_type": "code",
   "outputs": [],
   "source": [
    "# Question 4\n",
    "# Now let's serve this model as a web service\n",
    "# \n",
    "# Install Flask and gunicorn (or waitress, if you're on Windows)\n",
    "# Write Flask code for serving the model\n",
    "# Now score this client using requests:\n",
    "# url = \"YOUR_URL\"\n",
    "# client = {\"job\": \"student\", \"duration\": 280, \"poutcome\": \"failure\"}\n",
    "# requests.post(url, json=client).json()\n",
    "# What's the probability that this client will get a subscription?\n",
    "# \n",
    "# 0.335\n",
    "# 0.535\n",
    "# 0.735\n",
    "# 0.935"
   ],
   "metadata": {
    "collapsed": false
   },
   "id": "c7ebf7dc8c02c929"
  },
  {
   "cell_type": "code",
   "outputs": [],
   "source": [
    "url = 'http://localhost:9696/predict'\n",
    "client = {\"job\": \"student\", \"duration\": 280, \"poutcome\": \"failure\"}"
   ],
   "metadata": {
    "collapsed": false
   },
   "id": "8b6ab5fbd56c3875",
   "execution_count": null
  },
  {
   "cell_type": "code",
   "outputs": [],
   "source": [
    "response = requests.post(url, json=client).json()"
   ],
   "metadata": {
    "collapsed": false
   },
   "id": "d1d8f006c7d324ca",
   "execution_count": null
  },
  {
   "cell_type": "code",
   "outputs": [],
   "source": [
    "response"
   ],
   "metadata": {
    "collapsed": false
   },
   "id": "ebd972313c7ab314",
   "execution_count": null
  },
  {
   "cell_type": "code",
   "outputs": [],
   "source": [
    "# Question 6\n",
    "# Let's run your docker container!\n",
    "# \n",
    "# After running it, score this client once again:\n",
    "# \n",
    "# url = \"YOUR_URL\"\n",
    "# client = {\"job\": \"management\", \"duration\": 400, \"poutcome\": \"success\"}\n",
    "# requests.post(url, json=client).json()\n",
    "# What's the probability that this client will get a subscription now?\n",
    "# \n",
    "# 0.287\n",
    "# 0.530\n",
    "# 0.757\n",
    "# 0.960"
   ],
   "metadata": {
    "collapsed": false
   },
   "id": "9a6062380327a842"
  },
  {
   "cell_type": "code",
   "outputs": [],
   "source": [
    "url = 'http://localhost:9696/predict'\n",
    "client = {\"job\": \"management\", \"duration\": 400, \"poutcome\": \"success\"}"
   ],
   "metadata": {
    "collapsed": false,
    "ExecuteTime": {
     "end_time": "2024-10-30T02:09:54.713597Z",
     "start_time": "2024-10-30T02:09:54.710587Z"
    }
   },
   "id": "4e9a33151cd4d2c1",
   "execution_count": 11
  },
  {
   "cell_type": "code",
   "outputs": [],
   "source": [
    "response = requests.post(url, json=client).json()"
   ],
   "metadata": {
    "collapsed": false,
    "ExecuteTime": {
     "end_time": "2024-10-30T02:09:55.440516Z",
     "start_time": "2024-10-30T02:09:55.361652Z"
    }
   },
   "id": "c4a42a6df37eb186",
   "execution_count": 12
  },
  {
   "cell_type": "code",
   "outputs": [
    {
     "data": {
      "text/plain": "{'y_probability': 0.7590966516879658}"
     },
     "execution_count": 13,
     "metadata": {},
     "output_type": "execute_result"
    }
   ],
   "source": [
    "response"
   ],
   "metadata": {
    "collapsed": false,
    "ExecuteTime": {
     "end_time": "2024-10-30T02:09:56.280503Z",
     "start_time": "2024-10-30T02:09:56.276486Z"
    }
   },
   "id": "79a6b6a5e0df7f52",
   "execution_count": 13
  },
  {
   "cell_type": "code",
   "outputs": [],
   "source": [],
   "metadata": {
    "collapsed": false
   },
   "id": "ce5dd8c9db685ea4"
  }
 ],
 "metadata": {
  "kernelspec": {
   "display_name": "Python 3",
   "language": "python",
   "name": "python3"
  },
  "language_info": {
   "codemirror_mode": {
    "name": "ipython",
    "version": 2
   },
   "file_extension": ".py",
   "mimetype": "text/x-python",
   "name": "python",
   "nbconvert_exporter": "python",
   "pygments_lexer": "ipython2",
   "version": "2.7.6"
  }
 },
 "nbformat": 4,
 "nbformat_minor": 5
}
