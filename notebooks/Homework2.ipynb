{
 "cells": [
  {
   "cell_type": "code",
   "outputs": [],
   "source": [
    "import pandas as pd\n",
    "import requests\n",
    "import numpy as np\n",
    "import matplotlib.pyplot as plt\n",
    "import seaborn as sns"
   ],
   "metadata": {
    "collapsed": false,
    "ExecuteTime": {
     "end_time": "2024-11-06T22:26:26.269121Z",
     "start_time": "2024-11-06T22:26:26.264213Z"
    }
   },
   "id": "aa03983991fcb1da",
   "execution_count": 47
  },
  {
   "cell_type": "code",
   "outputs": [],
   "source": [
    "# Getting the data 1\n",
    "url = 'https://raw.githubusercontent.com/alexeygrigorev/datasets/master/laptops.csv'\n",
    "dataset_path = '../datasets/'\n",
    "response = requests.get(url)\n",
    "with open(f'{dataset_path}laptops.csv', 'wb') as file:\n",
    "    for chunk in response.iter_content(chunk_size=1024):\n",
    "        file.write(chunk)"
   ],
   "metadata": {
    "collapsed": true,
    "ExecuteTime": {
     "end_time": "2024-11-06T22:26:27.043796Z",
     "start_time": "2024-11-06T22:26:26.802340Z"
    }
   },
   "id": "initial_id",
   "execution_count": 48
  },
  {
   "cell_type": "code",
   "outputs": [],
   "source": [
    "# Getting the data 2\n",
    "laptops = pd.read_csv(f'{dataset_path}laptops.csv')\n",
    "laptops.columns = laptops.columns.str.lower().str.replace(' ', '_')"
   ],
   "metadata": {
    "collapsed": false,
    "ExecuteTime": {
     "end_time": "2024-11-05T04:37:38.118846Z",
     "start_time": "2024-11-05T04:37:38.111648Z"
    }
   },
   "id": "60b5740c9ca7889",
   "execution_count": 24
  },
  {
   "cell_type": "code",
   "outputs": [],
   "source": [
    "df = laptops[['ram', 'storage', 'screen', 'final_price']]"
   ],
   "metadata": {
    "collapsed": false,
    "ExecuteTime": {
     "end_time": "2024-11-05T04:37:38.578094Z",
     "start_time": "2024-11-05T04:37:38.575528Z"
    }
   },
   "id": "db260c4768424765",
   "execution_count": 25
  },
  {
   "cell_type": "code",
   "outputs": [
    {
     "name": "stdout",
     "output_type": "stream",
     "text": [
      "ram            False\n",
      "storage        False\n",
      "screen          True\n",
      "final_price    False\n",
      "dtype: bool\n"
     ]
    }
   ],
   "source": [
    "# Question 1\n",
    "# There's one column with missing values. What is it?\n",
    "missing_values = df.isnull().any()\n",
    "print(missing_values)"
   ],
   "metadata": {
    "collapsed": false,
    "ExecuteTime": {
     "end_time": "2024-11-05T04:37:39.209145Z",
     "start_time": "2024-11-05T04:37:39.205611Z"
    }
   },
   "id": "d5bd89059323c46f",
   "execution_count": 26
  },
  {
   "cell_type": "code",
   "outputs": [
    {
     "name": "stdout",
     "output_type": "stream",
     "text": [
      "16.0\n"
     ]
    }
   ],
   "source": [
    "# Question 2\n",
    "# What's the median (50% percentile) for variable 'ram'?\n",
    "median_value = laptops['ram'].median()\n",
    "print(median_value)"
   ],
   "metadata": {
    "collapsed": false,
    "ExecuteTime": {
     "end_time": "2024-11-05T04:37:41.437094Z",
     "start_time": "2024-11-05T04:37:41.433874Z"
    }
   },
   "id": "31e3f92f8de03cee",
   "execution_count": 27
  },
  {
   "cell_type": "code",
   "outputs": [
    {
     "name": "stdout",
     "output_type": "stream",
     "text": [
      "1296 432 432\n"
     ]
    }
   ],
   "source": [
    "# Prepare and split the dataset\n",
    "# Shuffle the dataset (the filtered one you created above), use seed 42.\n",
    "# Split your data in train/val/test sets, with 60%/20%/20% distribution.\n",
    "# Use the same code as in the lectures\n",
    "n = len(df)\n",
    "\n",
    "n_val = int(n * 0.2)\n",
    "n_test = int(n * 0.2)\n",
    "n_train = n - n_val - n_test\n",
    "print(n_train, n_val, n_test)"
   ],
   "metadata": {
    "collapsed": false,
    "ExecuteTime": {
     "end_time": "2024-11-05T04:37:45.676448Z",
     "start_time": "2024-11-05T04:37:45.673689Z"
    }
   },
   "id": "67bac6c367f93e06",
   "execution_count": 28
  },
  {
   "cell_type": "code",
   "outputs": [],
   "source": [
    "idx = np.arange(n)\n",
    "np.random.seed(42)\n",
    "np.random.shuffle(idx)\n",
    "\n",
    "df_train = df.iloc[idx[:n_train]]\n",
    "df_val = df.iloc[idx[n_train:n_train + n_val]]\n",
    "df_test = df.iloc[idx[n_train + n_val:]]\n",
    "\n",
    "df_train = df_train.reset_index(drop=True)\n",
    "df_val = df_val.reset_index(drop=True)\n",
    "df_test = df_test.reset_index(drop=True)\n",
    "\n",
    "y_train = df_train.final_price.values\n",
    "y_val = df_val.final_price.values\n",
    "y_test = df_test.final_price.values\n",
    "\n",
    "del df_train['final_price']\n",
    "del df_val['final_price']\n",
    "del df_test['final_price']"
   ],
   "metadata": {
    "collapsed": false,
    "ExecuteTime": {
     "end_time": "2024-11-05T04:38:03.132655Z",
     "start_time": "2024-11-05T04:38:03.127018Z"
    }
   },
   "id": "4a4b5e7b225b21a3",
   "execution_count": 29
  },
  {
   "cell_type": "code",
   "outputs": [],
   "source": [
    "# Question 3\n",
    "# We need to deal with missing values for the column from Q1.\n",
    "# We have two options: fill it with 0 or with the mean of this variable.\n",
    "# Try both options. For each, train a linear regression model without regularization using the code from the lessons.\n",
    "# For computing the mean, use the training only!\n",
    "# Use the validation dataset to evaluate the models and compare the RMSE of each option.\n",
    "# Round the RMSE scores to 2 decimal digits using round(score, 2)\n",
    "# Which option gives better RMSE?\n",
    "# Options:\n",
    "# \n",
    "# With 0\n",
    "# With mean\n",
    "# Both are equally good"
   ],
   "metadata": {
    "collapsed": false,
    "ExecuteTime": {
     "end_time": "2024-11-05T04:38:10.539814Z",
     "start_time": "2024-11-05T04:38:10.537891Z"
    }
   },
   "id": "319c5ea1f14f59d1",
   "execution_count": 30
  },
  {
   "cell_type": "code",
   "outputs": [],
   "source": [
    "base = ['ram', 'storage', 'screen']"
   ],
   "metadata": {
    "collapsed": false,
    "ExecuteTime": {
     "end_time": "2024-11-05T04:38:16.514800Z",
     "start_time": "2024-11-05T04:38:16.512717Z"
    }
   },
   "id": "e68ca1a80778078b",
   "execution_count": 31
  },
  {
   "cell_type": "code",
   "outputs": [],
   "source": [
    "def prepare_X(df):\n",
    "    df_num = df[base]\n",
    "    df_num = df_num.fillna(0)\n",
    "    X = df_num.values\n",
    "    return X\n",
    "\n",
    "def prepare_X_with_Mean(df):\n",
    "    df_num = df[base]\n",
    "    df_num = df_num.fillna(df_num.mean())\n",
    "    X = df_num.values\n",
    "    return X"
   ],
   "metadata": {
    "collapsed": false,
    "ExecuteTime": {
     "end_time": "2024-11-05T04:40:17.895308Z",
     "start_time": "2024-11-05T04:40:17.891585Z"
    }
   },
   "id": "4efec56a21da757c",
   "execution_count": 35
  },
  {
   "cell_type": "code",
   "outputs": [],
   "source": [
    "def train_linear_regression(X, y):\n",
    "    ones = np.ones(X.shape[0])\n",
    "    X = np.column_stack([ones, X])\n",
    "    XTX = X.T.dot(X)\n",
    "    XTX_inv = np.linalg.inv(XTX)\n",
    "    w_full = XTX_inv.dot(X.T).dot(y)\n",
    "\n",
    "    return w_full[0], w_full[1:]"
   ],
   "metadata": {
    "collapsed": false,
    "ExecuteTime": {
     "end_time": "2024-11-05T04:40:22.307158Z",
     "start_time": "2024-11-05T04:40:22.302371Z"
    }
   },
   "id": "ec6bd0812df413d",
   "execution_count": 36
  },
  {
   "cell_type": "code",
   "outputs": [],
   "source": [
    "X_train = prepare_X(df_train)\n",
    "X_train_mean = prepare_X_with_Mean(df_train)"
   ],
   "metadata": {
    "collapsed": false,
    "ExecuteTime": {
     "end_time": "2024-11-05T04:30:28.149304Z",
     "start_time": "2024-11-05T04:30:28.145Z"
    }
   },
   "id": "a135dba3fc486d73",
   "execution_count": 15
  },
  {
   "cell_type": "code",
   "outputs": [],
   "source": [
    "w0, w = train_linear_regression(X_train, y_train)\n",
    "w0_mean, w_mean = train_linear_regression(X_train_mean, y_train)"
   ],
   "metadata": {
    "collapsed": false,
    "ExecuteTime": {
     "end_time": "2024-11-05T04:30:29.635455Z",
     "start_time": "2024-11-05T04:30:29.631081Z"
    }
   },
   "id": "8c51ba780f499601",
   "execution_count": 16
  },
  {
   "cell_type": "code",
   "outputs": [],
   "source": [
    "y_pred = w0 + X_train.dot(w)\n",
    "y_pred_mean = w0_mean + X_train_mean.dot(w_mean)"
   ],
   "metadata": {
    "collapsed": false,
    "ExecuteTime": {
     "end_time": "2024-11-05T04:30:31.910035Z",
     "start_time": "2024-11-05T04:30:31.907862Z"
    }
   },
   "id": "bcd28cdf70cfe5a5",
   "execution_count": 17
  },
  {
   "cell_type": "code",
   "outputs": [],
   "source": [
    "def rmse(y, y_p):\n",
    "    se = (y - y_p) ** 2\n",
    "    mse = se.mean()\n",
    "    return np.sqrt(mse)"
   ],
   "metadata": {
    "collapsed": false,
    "ExecuteTime": {
     "end_time": "2024-11-05T04:30:34.540237Z",
     "start_time": "2024-11-05T04:30:34.537761Z"
    }
   },
   "id": "116c5470079f0e21",
   "execution_count": 18
  },
  {
   "cell_type": "code",
   "outputs": [
    {
     "data": {
      "text/plain": "np.float64(602.3920520606714)"
     },
     "execution_count": 19,
     "metadata": {},
     "output_type": "execute_result"
    }
   ],
   "source": [
    "rmse(y_train, y_pred)"
   ],
   "metadata": {
    "collapsed": false,
    "ExecuteTime": {
     "end_time": "2024-11-05T04:30:35.083662Z",
     "start_time": "2024-11-05T04:30:35.080197Z"
    }
   },
   "id": "b076f4933e2d7a75",
   "execution_count": 19
  },
  {
   "cell_type": "code",
   "outputs": [
    {
     "data": {
      "text/plain": "np.float64(602.1844959403247)"
     },
     "execution_count": 18,
     "metadata": {},
     "output_type": "execute_result"
    }
   ],
   "source": [
    "rmse(y_train, y_pred_mean)"
   ],
   "metadata": {
    "collapsed": false,
    "ExecuteTime": {
     "end_time": "2024-10-14T18:38:27.312261Z",
     "start_time": "2024-10-14T18:38:27.309759Z"
    }
   },
   "id": "a45ebf332c330ff9",
   "execution_count": 18
  },
  {
   "cell_type": "code",
   "outputs": [
    {
     "data": {
      "text/plain": "<Axes: ylabel='Count'>"
     },
     "execution_count": 19,
     "metadata": {},
     "output_type": "execute_result"
    },
    {
     "data": {
      "text/plain": "<Figure size 640x480 with 1 Axes>",
      "image/png": "[encoded data removed]"
     },
     "metadata": {},
     "output_type": "display_data"
    }
   ],
   "source": [
    "sns.histplot(y_pred, label='prediction', color='red', alpha=0.5, bins=50)\n",
    "sns.histplot(y_train, label='target', color='blue', alpha=0.5, bins=50)"
   ],
   "metadata": {
    "collapsed": false,
    "ExecuteTime": {
     "end_time": "2024-10-14T18:38:27.505570Z",
     "start_time": "2024-10-14T18:38:27.313079Z"
    }
   },
   "id": "d23b2dd97bf547e3",
   "execution_count": 19
  },
  {
   "cell_type": "code",
   "outputs": [
    {
     "data": {
      "text/plain": "<Axes: ylabel='Count'>"
     },
     "execution_count": 20,
     "metadata": {},
     "output_type": "execute_result"
    },
    {
     "data": {
      "text/plain": "<Figure size 640x480 with 1 Axes>",
      "image/png": "[encoded data removed]"
     },
     "metadata": {},
     "output_type": "display_data"
    }
   ],
   "source": [
    "sns.histplot(y_pred_mean, color='red', alpha=0.5, bins=50)\n",
    "sns.histplot(y_train, color='blue', alpha=0.5, bins=50)"
   ],
   "metadata": {
    "collapsed": false,
    "ExecuteTime": {
     "end_time": "2024-10-14T18:38:27.619763Z",
     "start_time": "2024-10-14T18:38:27.506193Z"
    }
   },
   "id": "c68bec404d889eb0",
   "execution_count": 20
  },
  {
   "cell_type": "code",
   "outputs": [
    {
     "data": {
      "text/plain": "np.float64(597.36)"
     },
     "execution_count": 21,
     "metadata": {},
     "output_type": "execute_result"
    }
   ],
   "source": [
    "# Train\n",
    "X_train = prepare_X(df_train)\n",
    "w0, w = train_linear_regression(X_train, y_train)\n",
    "\n",
    "# Validate\n",
    "X_val = prepare_X(df_val)\n",
    "y_pred = w0 + X_val.dot(w)\n",
    "\n",
    "# RMSE\n",
    "score = rmse(y_val, y_pred)\n",
    "round(score, 2)"
   ],
   "metadata": {
    "collapsed": false,
    "ExecuteTime": {
     "end_time": "2024-10-14T18:38:27.624154Z",
     "start_time": "2024-10-14T18:38:27.620478Z"
    }
   },
   "id": "c7b5edb2094ea82c",
   "execution_count": 21
  },
  {
   "cell_type": "code",
   "outputs": [
    {
     "data": {
      "text/plain": "np.float64(600.26)"
     },
     "execution_count": 22,
     "metadata": {},
     "output_type": "execute_result"
    }
   ],
   "source": [
    "# Train\n",
    "X_train_mean = prepare_X_with_Mean(df_train)\n",
    "w0_mean, w_mean = train_linear_regression(X_train_mean, y_train)\n",
    "\n",
    "# Validate\n",
    "X_val_mean = prepare_X_with_Mean(df_val)\n",
    "y_pred_mean = w0_mean + X_val_mean.dot(w_mean)\n",
    "\n",
    "# RMSE\n",
    "score_mean = rmse(y_val, y_pred_mean)\n",
    "round(score_mean, 2)"
   ],
   "metadata": {
    "collapsed": false,
    "ExecuteTime": {
     "end_time": "2024-10-14T18:38:27.629112Z",
     "start_time": "2024-10-14T18:38:27.624705Z"
    }
   },
   "id": "e978be0570bf0ca6",
   "execution_count": 22
  },
  {
   "cell_type": "code",
   "outputs": [],
   "source": [
    "# Question 4\n",
    "# Now let's train a regularized linear regression.\n",
    "# For this question, fill the NAs with 0.\n",
    "# Try different values of r from this list: [0, 0.01, 0.1, 1, 5, 10, 100].\n",
    "# Use RMSE to evaluate the model on the validation dataset.\n",
    "# Round the RMSE scores to 2 decimal digits.\n",
    "# Which r gives the best RMSE?\n",
    "# If there are multiple options, select the smallest r.\n",
    "# Options:\n",
    "# \n",
    "# 0\n",
    "# 0.01\n",
    "# 1\n",
    "# 10\n",
    "# 100"
   ],
   "metadata": {
    "collapsed": false,
    "ExecuteTime": {
     "end_time": "2024-10-14T18:38:27.631150Z",
     "start_time": "2024-10-14T18:38:27.629745Z"
    }
   },
   "id": "178866c52237d328",
   "execution_count": 23
  },
  {
   "cell_type": "code",
   "outputs": [],
   "source": [
    "def train_linear_regression_reg(X, y, r):\n",
    "    ones = np.ones(X.shape[0])\n",
    "    X = np.column_stack([ones, X])\n",
    "\n",
    "    XTX = X.T.dot(X)\n",
    "    XTX = XTX + r * np.eye(XTX.shape[0])\n",
    "\n",
    "    XTX_inv = np.linalg.inv(XTX)\n",
    "    w_full = XTX_inv.dot(X.T).dot(y)\n",
    "\n",
    "    return w_full[0], w_full[1:]"
   ],
   "metadata": {
    "collapsed": false,
    "ExecuteTime": {
     "end_time": "2024-10-14T18:38:27.634060Z",
     "start_time": "2024-10-14T18:38:27.631964Z"
    }
   },
   "id": "702a9d4784d01402",
   "execution_count": 24
  },
  {
   "cell_type": "code",
   "outputs": [
    {
     "name": "stdout",
     "output_type": "stream",
     "text": [
      "0.0 676.8954853007726 597.36\n",
      "0.01 676.2736817208757 597.36\n",
      "0.1 670.7284836317006 597.35\n",
      "1 619.9030834110729 597.21\n",
      "5 463.7771697143777 597.01\n",
      "10 352.7971336768751 597.06\n",
      "100 66.92071440181408 597.9\n"
     ]
    }
   ],
   "source": [
    "for v in [0.0, 0.01, 0.1, 1, 5, 10, 100]:\n",
    "    # Train\n",
    "    X_train = prepare_X(df_train)\n",
    "    w0, w = train_linear_regression_reg(X_train, y_train, r=v)\n",
    "    # Validate\n",
    "    X_val = prepare_X(df_val)\n",
    "    y_pred = w0 + X_val.dot(w)\n",
    "    # RMSE\n",
    "    score = rmse(y_val, y_pred)\n",
    "    print(v, w0, round(score, 2))"
   ],
   "metadata": {
    "collapsed": false,
    "ExecuteTime": {
     "end_time": "2024-10-14T18:38:27.641273Z",
     "start_time": "2024-10-14T18:38:27.634840Z"
    }
   },
   "id": "919c0c3d7ba88bfc",
   "execution_count": 25
  },
  {
   "cell_type": "code",
   "outputs": [
    {
     "data": {
      "text/plain": "<matplotlib.legend.Legend at 0x113c91a10>"
     },
     "execution_count": 26,
     "metadata": {},
     "output_type": "execute_result"
    },
    {
     "data": {
      "text/plain": "<Figure size 640x480 with 1 Axes>",
      "image/png": "[encoded data removed]"
     },
     "metadata": {},
     "output_type": "display_data"
    }
   ],
   "source": [
    "sns.histplot(y_pred, label='prediction', color='red', alpha=0.5, bins=50)\n",
    "sns.histplot(y_val, label='target', color='blue', alpha=0.5, bins=50)\n",
    "plt.legend()"
   ],
   "metadata": {
    "collapsed": false,
    "ExecuteTime": {
     "end_time": "2024-10-14T18:38:27.777474Z",
     "start_time": "2024-10-14T18:38:27.641961Z"
    }
   },
   "id": "750166b2d4507b7b",
   "execution_count": 26
  },
  {
   "cell_type": "code",
   "outputs": [],
   "source": [
    "# Question 5\n",
    "# We used seed 42 for splitting the data. Let's find out how selecting the seed influences our score.\n",
    "# Try different seed values: [0, 1, 2, 3, 4, 5, 6, 7, 8, 9].\n",
    "# For each seed, do the train/validation/test split with 60%/20%/20% distribution.\n",
    "# Fill the missing values with 0 and train a model without regularization.\n",
    "# For each seed, evaluate the model on the validation dataset and collect the RMSE scores.\n",
    "# What's the standard deviation of all the scores? To compute the standard deviation, use np.std.\n",
    "# Round the result to 3 decimal digits (round(std, 3))\n",
    "# What's the value of std?\n",
    "# \n",
    "# 19.176\n",
    "# 29.176\n",
    "# 39.176\n",
    "# 49.176\n",
    "# Note: Standard deviation shows how different the values are. If it's low, then all values are approximately the same. If it's high, the values are different. If standard deviation of scores is low, then our model is stable."
   ],
   "metadata": {
    "collapsed": false,
    "ExecuteTime": {
     "end_time": "2024-10-14T18:38:27.779887Z",
     "start_time": "2024-10-14T18:38:27.778122Z"
    }
   },
   "id": "47e013f0723e1357",
   "execution_count": 27
  },
  {
   "cell_type": "code",
   "outputs": [],
   "source": [
    "def prepare_with_seed(s):\n",
    "    idx = np.arange(n)\n",
    "    np.random.seed(s)\n",
    "    np.random.shuffle(idx)\n",
    "    df_train = df.iloc[idx[:n_train]]\n",
    "    df_val = df.iloc[idx[n_train:n_train + n_val]]\n",
    "    df_test = df.iloc[idx[n_train + n_val:]]\n",
    "    return df_train, df_val, df_test"
   ],
   "metadata": {
    "collapsed": false,
    "ExecuteTime": {
     "end_time": "2024-10-14T18:38:27.782463Z",
     "start_time": "2024-10-14T18:38:27.780449Z"
    }
   },
   "id": "7ea5b0b7a38d9e7e",
   "execution_count": 28
  },
  {
   "cell_type": "code",
   "outputs": [
    {
     "name": "stdout",
     "output_type": "stream",
     "text": [
      "0 547.5696230187814 565.4520868770982\n",
      "1 594.419742800302 636.7985423056721\n",
      "2 649.4685454772766 588.9558697907974\n",
      "3 571.9459040115031 597.8148920012529\n",
      "4 629.3882030647713 571.9627915111022\n",
      "5 580.7647373332233 573.2383256618932\n",
      "6 783.768368991014 647.3438328407256\n",
      "7 376.4358600625769 550.4398184485927\n",
      "8 572.88523611998 587.3335036169934\n",
      "9 663.3792792611099 576.1017929433089\n"
     ]
    }
   ],
   "source": [
    "arr=[]\n",
    "\n",
    "for s in [0, 1, 2, 3, 4, 5, 6, 7, 8, 9]:\n",
    "    df_train, df_val, df_test = prepare_with_seed(s)\n",
    "    df_train = df_train.reset_index(drop=True)\n",
    "    df_val = df_val.reset_index(drop=True)\n",
    "    df_test = df_test.reset_index(drop=True)\n",
    "    y_train = df_train.final_price.values\n",
    "    y_val = df_val.final_price.values\n",
    "    y_test = df_test.final_price.values\n",
    "    del df_train['final_price']\n",
    "    del df_val['final_price']\n",
    "    del df_test['final_price']\n",
    "    base = ['ram', 'storage', 'screen']\n",
    "    # Train\n",
    "    X_train = prepare_X(df_train)\n",
    "    w0, w = train_linear_regression(X_train, y_train)\n",
    "    # Validate\n",
    "    X_val = prepare_X(df_val)\n",
    "    y_pred = w0 + X_val.dot(w)\n",
    "    # RMSE\n",
    "    score = rmse(y_val, y_pred)\n",
    "    arr.append(score)\n",
    "    print(s, w0, score)\n",
    "    "
   ],
   "metadata": {
    "collapsed": false,
    "ExecuteTime": {
     "end_time": "2024-10-14T18:38:27.795200Z",
     "start_time": "2024-10-14T18:38:27.783134Z"
    }
   },
   "id": "56181de2045af27b",
   "execution_count": 29
  },
  {
   "cell_type": "code",
   "outputs": [
    {
     "data": {
      "text/plain": "np.float64(29.176)"
     },
     "execution_count": 30,
     "metadata": {},
     "output_type": "execute_result"
    }
   ],
   "source": [
    "std = np.std(arr)\n",
    "round(std, 3)"
   ],
   "metadata": {
    "collapsed": false,
    "ExecuteTime": {
     "end_time": "2024-10-14T18:38:27.798317Z",
     "start_time": "2024-10-14T18:38:27.796024Z"
    }
   },
   "id": "797969959d0e3750",
   "execution_count": 30
  },
  {
   "cell_type": "code",
   "outputs": [],
   "source": [
    "# Question 6\n",
    "# Split the dataset like previously, use seed 9.\n",
    "# Combine train and validation datasets.\n",
    "# Fill the missing values with 0 and train a model with r=0.001.\n",
    "# What's the RMSE on the test dataset?\n",
    "# Options:\n",
    "# \n",
    "# 598.60\n",
    "# 608.60\n",
    "# 618.60\n",
    "# 628.60\n"
   ],
   "metadata": {
    "collapsed": false,
    "ExecuteTime": {
     "end_time": "2024-10-14T18:38:27.800395Z",
     "start_time": "2024-10-14T18:38:27.798984Z"
    }
   },
   "id": "98489e8720e07c1d",
   "execution_count": 31
  },
  {
   "cell_type": "code",
   "outputs": [],
   "source": [
    "df_train, df_val, df_test = prepare_with_seed(9)\n",
    "df_full_train = pd.concat([df_train, df_val])\n",
    "df_full_train = df_full_train.reset_index(drop=True)\n",
    "\n",
    "y_train = df_train.final_price.values\n",
    "y_val = df_val.final_price.values\n",
    "y_test = df_test.final_price.values\n",
    "\n",
    "y_full_train = np.concatenate([y_train, y_val])\n",
    "\n",
    "del df_train['final_price']\n",
    "del df_val['final_price']\n",
    "del df_test['final_price']\n",
    "base = ['ram', 'storage', 'screen']\n"
   ],
   "metadata": {
    "collapsed": false,
    "ExecuteTime": {
     "end_time": "2024-10-14T18:38:27.804449Z",
     "start_time": "2024-10-14T18:38:27.801149Z"
    }
   },
   "id": "41feb514b4994897",
   "execution_count": 32
  },
  {
   "cell_type": "code",
   "outputs": [],
   "source": [
    "# Train\n",
    "X_full_train = prepare_X(df_full_train)\n",
    "w0, w = train_linear_regression_reg(X_full_train, y_full_train, r=0.001)\n",
    "# Validate\n",
    "X_test = prepare_X(df_test)\n",
    "y_pred = w0 + X_test.dot(w)\n",
    "# RMSE\n",
    "score = rmse(y_test, y_pred)"
   ],
   "metadata": {
    "collapsed": false,
    "ExecuteTime": {
     "end_time": "2024-10-14T18:38:27.807747Z",
     "start_time": "2024-10-14T18:38:27.805002Z"
    }
   },
   "id": "243286c7b8e9329e",
   "execution_count": 33
  },
  {
   "cell_type": "code",
   "outputs": [
    {
     "data": {
      "text/plain": "np.float64(608.6099822049554)"
     },
     "execution_count": 34,
     "metadata": {},
     "output_type": "execute_result"
    }
   ],
   "source": [
    "score"
   ],
   "metadata": {
    "collapsed": false,
    "ExecuteTime": {
     "end_time": "2024-10-14T18:38:27.810133Z",
     "start_time": "2024-10-14T18:38:27.808315Z"
    }
   },
   "id": "13e32df6ca2eec0c",
   "execution_count": 34
  }
 ],
 "metadata": {
  "kernelspec": {
   "display_name": "Python 3",
   "language": "python",
   "name": "python3"
  },
  "language_info": {
   "codemirror_mode": {
    "name": "ipython",
    "version": 2
   },
   "file_extension": ".py",
   "mimetype": "text/x-python",
   "name": "python",
   "nbconvert_exporter": "python",
   "pygments_lexer": "ipython2",
   "version": "2.7.6"
  }
 },
 "nbformat": 4,
 "nbformat_minor": 5
}
