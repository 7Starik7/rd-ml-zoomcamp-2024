{
 "cells": [
  {
   "cell_type": "code",
   "execution_count": 102,
   "id": "initial_id",
   "metadata": {
    "collapsed": true,
    "ExecuteTime": {
     "end_time": "2024-10-17T01:35:28.660660Z",
     "start_time": "2024-10-17T01:35:28.656233Z"
    }
   },
   "outputs": [],
   "source": [
    "import pandas as pd\n",
    "import requests\n",
    "import numpy as np\n",
    "import matplotlib.pyplot as plt\n",
    "import zipfile\n",
    "import os\n",
    "from sklearn.model_selection import train_test_split\n",
    "from sklearn.metrics import mutual_info_score\n",
    "from sklearn.feature_extraction import DictVectorizer\n",
    "from sklearn.linear_model import LogisticRegression"
   ]
  },
  {
   "cell_type": "code",
   "outputs": [],
   "source": [
    "# Getting the data 1\n",
    "url = 'https://archive.ics.uci.edu/static/public/222/bank+marketing.zip'\n",
    "dataset_path = '../datasets/'\n",
    "dataset_file = 'bank+marketing.zip'\n",
    "dataset_full_path = os.path.join(dataset_path, dataset_file)\n",
    "response = requests.get(url)\n",
    "with open(f'{dataset_path}bank+marketing.zip', 'wb') as file:\n",
    "    for chunk in response.iter_content(chunk_size=1024):\n",
    "        file.write(chunk)\n",
    "\n",
    "with zipfile.ZipFile(f'{dataset_path}bank+marketing.zip') as zip_ref:\n",
    "    zip_ref.extractall(f'{dataset_path}/bank+marketing')\n",
    "\n",
    "with zipfile.ZipFile(f'{dataset_path}/bank+marketing/bank.zip') as zip_ref:\n",
    "    zip_ref.extractall(f'{dataset_path}/bank+marketing')"
   ],
   "metadata": {
    "collapsed": false,
    "ExecuteTime": {
     "end_time": "2024-10-17T01:35:30.034579Z",
     "start_time": "2024-10-17T01:35:28.697566Z"
    }
   },
   "id": "80c4e203b9537fb0",
   "execution_count": 103
  },
  {
   "cell_type": "code",
   "outputs": [],
   "source": [
    "bank = pd.read_csv(f'{dataset_path}/bank+marketing/bank-full.csv', sep=';')"
   ],
   "metadata": {
    "collapsed": false,
    "ExecuteTime": {
     "end_time": "2024-10-17T01:35:30.091947Z",
     "start_time": "2024-10-17T01:35:30.036140Z"
    }
   },
   "id": "52bb15cb8b481e8f",
   "execution_count": 104
  },
  {
   "cell_type": "code",
   "outputs": [],
   "source": [
    "df = bank[\n",
    "    ['age', 'job', 'marital', 'education', 'balance', 'housing', 'contact', 'day', 'month', 'duration', 'campaign',\n",
    "     'pdays', 'previous', 'poutcome', 'y']]"
   ],
   "metadata": {
    "collapsed": false,
    "ExecuteTime": {
     "end_time": "2024-10-17T01:35:30.097586Z",
     "start_time": "2024-10-17T01:35:30.092610Z"
    }
   },
   "id": "11942ae7f74617ab",
   "execution_count": 105
  },
  {
   "cell_type": "code",
   "outputs": [
    {
     "data": {
      "text/plain": "education\nsecondary    23202\ntertiary     13301\nprimary       6851\nunknown       1857\nName: count, dtype: int64"
     },
     "execution_count": 106,
     "metadata": {},
     "output_type": "execute_result"
    }
   ],
   "source": [
    "# Question 1\n",
    "# What is the most frequent observation (mode) for the column education?\n",
    "# \n",
    "# unknown\n",
    "# primary\n",
    "# secondary\n",
    "# tertiary\n",
    "df['education'].value_counts()"
   ],
   "metadata": {
    "collapsed": false,
    "ExecuteTime": {
     "end_time": "2024-10-17T01:35:30.103113Z",
     "start_time": "2024-10-17T01:35:30.098787Z"
    }
   },
   "id": "6c052756dda9be52",
   "execution_count": 106
  },
  {
   "cell_type": "code",
   "outputs": [
    {
     "data": {
      "text/plain": "       age           job   marital  education  balance housing    contact  \\\n0       58    management   married   tertiary     2143     yes    unknown   \n1       44    technician    single  secondary       29     yes    unknown   \n2       33  entrepreneur   married  secondary        2     yes    unknown   \n3       47   blue-collar   married    unknown     1506     yes    unknown   \n4       33       unknown    single    unknown        1      no    unknown   \n...    ...           ...       ...        ...      ...     ...        ...   \n45206   51    technician   married   tertiary      825      no   cellular   \n45207   71       retired  divorced    primary     1729      no   cellular   \n45208   72       retired   married  secondary     5715      no   cellular   \n45209   57   blue-collar   married  secondary      668      no  telephone   \n45210   37  entrepreneur   married  secondary     2971      no   cellular   \n\n       day month  duration  campaign  pdays  previous poutcome    y  \n0        5   may       261         1     -1         0  unknown   no  \n1        5   may       151         1     -1         0  unknown   no  \n2        5   may        76         1     -1         0  unknown   no  \n3        5   may        92         1     -1         0  unknown   no  \n4        5   may       198         1     -1         0  unknown   no  \n...    ...   ...       ...       ...    ...       ...      ...  ...  \n45206   17   nov       977         3     -1         0  unknown  yes  \n45207   17   nov       456         2     -1         0  unknown  yes  \n45208   17   nov      1127         5    184         3  success  yes  \n45209   17   nov       508         4     -1         0  unknown   no  \n45210   17   nov       361         2    188        11    other   no  \n\n[45211 rows x 15 columns]",
      "text/html": "<div>\n<style scoped>\n    .dataframe tbody tr th:only-of-type {\n        vertical-align: middle;\n    }\n\n    .dataframe tbody tr th {\n        vertical-align: top;\n    }\n\n    .dataframe thead th {\n        text-align: right;\n    }\n</style>\n<table border=\"1\" class=\"dataframe\">\n  <thead>\n    <tr style=\"text-align: right;\">\n      <th></th>\n      <th>age</th>\n      <th>job</th>\n      <th>marital</th>\n      <th>education</th>\n      <th>balance</th>\n      <th>housing</th>\n      <th>contact</th>\n      <th>day</th>\n      <th>month</th>\n      <th>duration</th>\n      <th>campaign</th>\n      <th>pdays</th>\n      <th>previous</th>\n      <th>poutcome</th>\n      <th>y</th>\n    </tr>\n  </thead>\n  <tbody>\n    <tr>\n      <th>0</th>\n      <td>58</td>\n      <td>management</td>\n      <td>married</td>\n      <td>tertiary</td>\n      <td>2143</td>\n      <td>yes</td>\n      <td>unknown</td>\n      <td>5</td>\n      <td>may</td>\n      <td>261</td>\n      <td>1</td>\n      <td>-1</td>\n      <td>0</td>\n      <td>unknown</td>\n      <td>no</td>\n    </tr>\n    <tr>\n      <th>1</th>\n      <td>44</td>\n      <td>technician</td>\n      <td>single</td>\n      <td>secondary</td>\n      <td>29</td>\n      <td>yes</td>\n      <td>unknown</td>\n      <td>5</td>\n      <td>may</td>\n      <td>151</td>\n      <td>1</td>\n      <td>-1</td>\n      <td>0</td>\n      <td>unknown</td>\n      <td>no</td>\n    </tr>\n    <tr>\n      <th>2</th>\n      <td>33</td>\n      <td>entrepreneur</td>\n      <td>married</td>\n      <td>secondary</td>\n      <td>2</td>\n      <td>yes</td>\n      <td>unknown</td>\n      <td>5</td>\n      <td>may</td>\n      <td>76</td>\n      <td>1</td>\n      <td>-1</td>\n      <td>0</td>\n      <td>unknown</td>\n      <td>no</td>\n    </tr>\n    <tr>\n      <th>3</th>\n      <td>47</td>\n      <td>blue-collar</td>\n      <td>married</td>\n      <td>unknown</td>\n      <td>1506</td>\n      <td>yes</td>\n      <td>unknown</td>\n      <td>5</td>\n      <td>may</td>\n      <td>92</td>\n      <td>1</td>\n      <td>-1</td>\n      <td>0</td>\n      <td>unknown</td>\n      <td>no</td>\n    </tr>\n    <tr>\n      <th>4</th>\n      <td>33</td>\n      <td>unknown</td>\n      <td>single</td>\n      <td>unknown</td>\n      <td>1</td>\n      <td>no</td>\n      <td>unknown</td>\n      <td>5</td>\n      <td>may</td>\n      <td>198</td>\n      <td>1</td>\n      <td>-1</td>\n      <td>0</td>\n      <td>unknown</td>\n      <td>no</td>\n    </tr>\n    <tr>\n      <th>...</th>\n      <td>...</td>\n      <td>...</td>\n      <td>...</td>\n      <td>...</td>\n      <td>...</td>\n      <td>...</td>\n      <td>...</td>\n      <td>...</td>\n      <td>...</td>\n      <td>...</td>\n      <td>...</td>\n      <td>...</td>\n      <td>...</td>\n      <td>...</td>\n      <td>...</td>\n    </tr>\n    <tr>\n      <th>45206</th>\n      <td>51</td>\n      <td>technician</td>\n      <td>married</td>\n      <td>tertiary</td>\n      <td>825</td>\n      <td>no</td>\n      <td>cellular</td>\n      <td>17</td>\n      <td>nov</td>\n      <td>977</td>\n      <td>3</td>\n      <td>-1</td>\n      <td>0</td>\n      <td>unknown</td>\n      <td>yes</td>\n    </tr>\n    <tr>\n      <th>45207</th>\n      <td>71</td>\n      <td>retired</td>\n      <td>divorced</td>\n      <td>primary</td>\n      <td>1729</td>\n      <td>no</td>\n      <td>cellular</td>\n      <td>17</td>\n      <td>nov</td>\n      <td>456</td>\n      <td>2</td>\n      <td>-1</td>\n      <td>0</td>\n      <td>unknown</td>\n      <td>yes</td>\n    </tr>\n    <tr>\n      <th>45208</th>\n      <td>72</td>\n      <td>retired</td>\n      <td>married</td>\n      <td>secondary</td>\n      <td>5715</td>\n      <td>no</td>\n      <td>cellular</td>\n      <td>17</td>\n      <td>nov</td>\n      <td>1127</td>\n      <td>5</td>\n      <td>184</td>\n      <td>3</td>\n      <td>success</td>\n      <td>yes</td>\n    </tr>\n    <tr>\n      <th>45209</th>\n      <td>57</td>\n      <td>blue-collar</td>\n      <td>married</td>\n      <td>secondary</td>\n      <td>668</td>\n      <td>no</td>\n      <td>telephone</td>\n      <td>17</td>\n      <td>nov</td>\n      <td>508</td>\n      <td>4</td>\n      <td>-1</td>\n      <td>0</td>\n      <td>unknown</td>\n      <td>no</td>\n    </tr>\n    <tr>\n      <th>45210</th>\n      <td>37</td>\n      <td>entrepreneur</td>\n      <td>married</td>\n      <td>secondary</td>\n      <td>2971</td>\n      <td>no</td>\n      <td>cellular</td>\n      <td>17</td>\n      <td>nov</td>\n      <td>361</td>\n      <td>2</td>\n      <td>188</td>\n      <td>11</td>\n      <td>other</td>\n      <td>no</td>\n    </tr>\n  </tbody>\n</table>\n<p>45211 rows × 15 columns</p>\n</div>"
     },
     "execution_count": 107,
     "metadata": {},
     "output_type": "execute_result"
    }
   ],
   "source": [
    "df"
   ],
   "metadata": {
    "collapsed": false,
    "ExecuteTime": {
     "end_time": "2024-10-17T01:35:30.108732Z",
     "start_time": "2024-10-17T01:35:30.103677Z"
    }
   },
   "id": "90d5d6433cc56f5f",
   "execution_count": 107
  },
  {
   "cell_type": "code",
   "outputs": [
    {
     "data": {
      "text/plain": "               age   balance       day  duration  campaign     pdays  previous\nage       1.000000  0.097783 -0.009120 -0.004648  0.004760 -0.023758  0.001288\nbalance   0.097783  1.000000  0.004503  0.021560 -0.014578  0.003435  0.016674\nday      -0.009120  0.004503  1.000000 -0.030206  0.162490 -0.093044 -0.051710\nduration -0.004648  0.021560 -0.030206  1.000000 -0.084570 -0.001565  0.001203\ncampaign  0.004760 -0.014578  0.162490 -0.084570  1.000000 -0.088628 -0.032855\npdays    -0.023758  0.003435 -0.093044 -0.001565 -0.088628  1.000000  0.454820\nprevious  0.001288  0.016674 -0.051710  0.001203 -0.032855  0.454820  1.000000",
      "text/html": "<div>\n<style scoped>\n    .dataframe tbody tr th:only-of-type {\n        vertical-align: middle;\n    }\n\n    .dataframe tbody tr th {\n        vertical-align: top;\n    }\n\n    .dataframe thead th {\n        text-align: right;\n    }\n</style>\n<table border=\"1\" class=\"dataframe\">\n  <thead>\n    <tr style=\"text-align: right;\">\n      <th></th>\n      <th>age</th>\n      <th>balance</th>\n      <th>day</th>\n      <th>duration</th>\n      <th>campaign</th>\n      <th>pdays</th>\n      <th>previous</th>\n    </tr>\n  </thead>\n  <tbody>\n    <tr>\n      <th>age</th>\n      <td>1.000000</td>\n      <td>0.097783</td>\n      <td>-0.009120</td>\n      <td>-0.004648</td>\n      <td>0.004760</td>\n      <td>-0.023758</td>\n      <td>0.001288</td>\n    </tr>\n    <tr>\n      <th>balance</th>\n      <td>0.097783</td>\n      <td>1.000000</td>\n      <td>0.004503</td>\n      <td>0.021560</td>\n      <td>-0.014578</td>\n      <td>0.003435</td>\n      <td>0.016674</td>\n    </tr>\n    <tr>\n      <th>day</th>\n      <td>-0.009120</td>\n      <td>0.004503</td>\n      <td>1.000000</td>\n      <td>-0.030206</td>\n      <td>0.162490</td>\n      <td>-0.093044</td>\n      <td>-0.051710</td>\n    </tr>\n    <tr>\n      <th>duration</th>\n      <td>-0.004648</td>\n      <td>0.021560</td>\n      <td>-0.030206</td>\n      <td>1.000000</td>\n      <td>-0.084570</td>\n      <td>-0.001565</td>\n      <td>0.001203</td>\n    </tr>\n    <tr>\n      <th>campaign</th>\n      <td>0.004760</td>\n      <td>-0.014578</td>\n      <td>0.162490</td>\n      <td>-0.084570</td>\n      <td>1.000000</td>\n      <td>-0.088628</td>\n      <td>-0.032855</td>\n    </tr>\n    <tr>\n      <th>pdays</th>\n      <td>-0.023758</td>\n      <td>0.003435</td>\n      <td>-0.093044</td>\n      <td>-0.001565</td>\n      <td>-0.088628</td>\n      <td>1.000000</td>\n      <td>0.454820</td>\n    </tr>\n    <tr>\n      <th>previous</th>\n      <td>0.001288</td>\n      <td>0.016674</td>\n      <td>-0.051710</td>\n      <td>0.001203</td>\n      <td>-0.032855</td>\n      <td>0.454820</td>\n      <td>1.000000</td>\n    </tr>\n  </tbody>\n</table>\n</div>"
     },
     "execution_count": 108,
     "metadata": {},
     "output_type": "execute_result"
    }
   ],
   "source": [
    "# Question 2\n",
    "# Create the correlation matrix for the numerical features of your dataset. In a correlation matrix, you compute the correlation coefficient between every pair of features.\n",
    "# \n",
    "# What are the two features that have the biggest correlation?\n",
    "# \n",
    "# age and balance\n",
    "# day and campaign\n",
    "# day and pdays\n",
    "# pdays and previous\n",
    "numerical = ['age', 'balance', 'day', 'duration', 'campaign', 'pdays', 'previous']\n",
    "categorical = ['job', 'marital', 'education', 'housing', 'contact', 'month', 'poutcome']\n",
    "\n",
    "correlation_matrix = df[numerical].corr()\n",
    "correlation_matrix"
   ],
   "metadata": {
    "collapsed": false,
    "ExecuteTime": {
     "end_time": "2024-10-17T01:35:30.117974Z",
     "start_time": "2024-10-17T01:35:30.109365Z"
    }
   },
   "id": "bfea0f8e4ca58ef5",
   "execution_count": 108
  },
  {
   "cell_type": "code",
   "outputs": [
    {
     "name": "stdout",
     "output_type": "stream",
     "text": [
      "0.09778273937134807\n",
      "0.16249021632619218\n",
      "-0.0930440737729405\n",
      "0.4548196354805043\n"
     ]
    }
   ],
   "source": [
    "print(correlation_matrix.loc['age', 'balance'])\n",
    "print(correlation_matrix.loc['day', 'campaign'])\n",
    "print(correlation_matrix.loc['day', 'pdays'])\n",
    "print(correlation_matrix.loc['pdays', 'previous'])\n"
   ],
   "metadata": {
    "collapsed": false,
    "ExecuteTime": {
     "end_time": "2024-10-17T01:35:30.120815Z",
     "start_time": "2024-10-17T01:35:30.118669Z"
    }
   },
   "id": "8689cbe724822e71",
   "execution_count": 109
  },
  {
   "cell_type": "code",
   "outputs": [],
   "source": [
    "# Target encoding\n",
    "# Now we want to encode the y variable.\n",
    "# Let's replace the values yes/no with 1/0.\n",
    "df.loc[:, 'y'] = df['y'].map({'yes': 1, 'no': 0})"
   ],
   "metadata": {
    "collapsed": false,
    "ExecuteTime": {
     "end_time": "2024-10-17T01:35:30.126312Z",
     "start_time": "2024-10-17T01:35:30.121454Z"
    }
   },
   "id": "1991613a2cb91ffb",
   "execution_count": 110
  },
  {
   "cell_type": "code",
   "outputs": [
    {
     "data": {
      "text/plain": "45211"
     },
     "execution_count": 111,
     "metadata": {},
     "output_type": "execute_result"
    }
   ],
   "source": [
    "# Split the data\n",
    "# Split your data in train/val/test sets with 60%/20%/20% distribution.\n",
    "# Use Scikit-Learn for that (the train_test_split function) and set the seed to 42.\n",
    "# Make sure that the target value y is not in your dataframe.\n",
    "len(df)"
   ],
   "metadata": {
    "collapsed": false,
    "ExecuteTime": {
     "end_time": "2024-10-17T01:35:30.128884Z",
     "start_time": "2024-10-17T01:35:30.127040Z"
    }
   },
   "id": "f49ff6dfd9e8794e",
   "execution_count": 111
  },
  {
   "cell_type": "code",
   "outputs": [
    {
     "data": {
      "text/plain": "(27127, 9042, 9042)"
     },
     "execution_count": 112,
     "metadata": {},
     "output_type": "execute_result"
    }
   ],
   "source": [
    "df_full_train, df_test = train_test_split(df, test_size=0.19999, random_state=42)\n",
    "df_train, df_val = train_test_split(df_full_train, test_size=0.24999, random_state=42)\n",
    "len(df_train), len(df_test), len(df_val)"
   ],
   "metadata": {
    "collapsed": false,
    "ExecuteTime": {
     "end_time": "2024-10-17T01:35:30.143194Z",
     "start_time": "2024-10-17T01:35:30.130774Z"
    }
   },
   "id": "54e57ba7103ebc83",
   "execution_count": 112
  },
  {
   "cell_type": "code",
   "outputs": [],
   "source": [
    "df_train = df_train.reset_index(drop=True)\n",
    "df_val = df_val.reset_index(drop=True)\n",
    "df_test = df_test.reset_index(drop=True)"
   ],
   "metadata": {
    "collapsed": false,
    "ExecuteTime": {
     "end_time": "2024-10-17T01:35:30.148701Z",
     "start_time": "2024-10-17T01:35:30.143961Z"
    }
   },
   "id": "68bbb74f9ba062f1",
   "execution_count": 113
  },
  {
   "cell_type": "code",
   "outputs": [],
   "source": [
    "y_train = df_train.y.values\n",
    "y_val = df_val.y.values\n",
    "y_test = df_test.y.values\n",
    "\n",
    "del df_train['y']\n",
    "del df_val['y']\n",
    "del df_test['y']"
   ],
   "metadata": {
    "collapsed": false,
    "ExecuteTime": {
     "end_time": "2024-10-17T01:35:30.151861Z",
     "start_time": "2024-10-17T01:35:30.149291Z"
    }
   },
   "id": "5dc3608f87ef17bf",
   "execution_count": 114
  },
  {
   "cell_type": "code",
   "outputs": [],
   "source": [
    "df_full_train = df_full_train.reset_index(drop=True)"
   ],
   "metadata": {
    "collapsed": false,
    "ExecuteTime": {
     "end_time": "2024-10-17T01:35:30.156195Z",
     "start_time": "2024-10-17T01:35:30.152397Z"
    }
   },
   "id": "9a7a0e15fd87bfa9",
   "execution_count": 115
  },
  {
   "cell_type": "code",
   "outputs": [
    {
     "data": {
      "text/plain": "               job   marital  education housing   contact month poutcome\n0       technician   married  secondary      no   unknown   jun  unknown\n1      blue-collar   married    primary     yes   unknown   may  unknown\n2       technician   married    primary     yes  cellular   jul  unknown\n3           admin.   married  secondary      no  cellular   jul  unknown\n4       management    single   tertiary     yes   unknown   jun  unknown\n...            ...       ...        ...     ...       ...   ...      ...\n36164    housemaid    single    primary      no   unknown   jun  unknown\n36165      student    single   tertiary      no  cellular   sep  failure\n36166   technician  divorced   tertiary     yes  cellular   may  unknown\n36167      retired   married  secondary      no   unknown   may  unknown\n36168  blue-collar   married    primary     yes  cellular   jul  unknown\n\n[36169 rows x 7 columns]",
      "text/html": "<div>\n<style scoped>\n    .dataframe tbody tr th:only-of-type {\n        vertical-align: middle;\n    }\n\n    .dataframe tbody tr th {\n        vertical-align: top;\n    }\n\n    .dataframe thead th {\n        text-align: right;\n    }\n</style>\n<table border=\"1\" class=\"dataframe\">\n  <thead>\n    <tr style=\"text-align: right;\">\n      <th></th>\n      <th>job</th>\n      <th>marital</th>\n      <th>education</th>\n      <th>housing</th>\n      <th>contact</th>\n      <th>month</th>\n      <th>poutcome</th>\n    </tr>\n  </thead>\n  <tbody>\n    <tr>\n      <th>0</th>\n      <td>technician</td>\n      <td>married</td>\n      <td>secondary</td>\n      <td>no</td>\n      <td>unknown</td>\n      <td>jun</td>\n      <td>unknown</td>\n    </tr>\n    <tr>\n      <th>1</th>\n      <td>blue-collar</td>\n      <td>married</td>\n      <td>primary</td>\n      <td>yes</td>\n      <td>unknown</td>\n      <td>may</td>\n      <td>unknown</td>\n    </tr>\n    <tr>\n      <th>2</th>\n      <td>technician</td>\n      <td>married</td>\n      <td>primary</td>\n      <td>yes</td>\n      <td>cellular</td>\n      <td>jul</td>\n      <td>unknown</td>\n    </tr>\n    <tr>\n      <th>3</th>\n      <td>admin.</td>\n      <td>married</td>\n      <td>secondary</td>\n      <td>no</td>\n      <td>cellular</td>\n      <td>jul</td>\n      <td>unknown</td>\n    </tr>\n    <tr>\n      <th>4</th>\n      <td>management</td>\n      <td>single</td>\n      <td>tertiary</td>\n      <td>yes</td>\n      <td>unknown</td>\n      <td>jun</td>\n      <td>unknown</td>\n    </tr>\n    <tr>\n      <th>...</th>\n      <td>...</td>\n      <td>...</td>\n      <td>...</td>\n      <td>...</td>\n      <td>...</td>\n      <td>...</td>\n      <td>...</td>\n    </tr>\n    <tr>\n      <th>36164</th>\n      <td>housemaid</td>\n      <td>single</td>\n      <td>primary</td>\n      <td>no</td>\n      <td>unknown</td>\n      <td>jun</td>\n      <td>unknown</td>\n    </tr>\n    <tr>\n      <th>36165</th>\n      <td>student</td>\n      <td>single</td>\n      <td>tertiary</td>\n      <td>no</td>\n      <td>cellular</td>\n      <td>sep</td>\n      <td>failure</td>\n    </tr>\n    <tr>\n      <th>36166</th>\n      <td>technician</td>\n      <td>divorced</td>\n      <td>tertiary</td>\n      <td>yes</td>\n      <td>cellular</td>\n      <td>may</td>\n      <td>unknown</td>\n    </tr>\n    <tr>\n      <th>36167</th>\n      <td>retired</td>\n      <td>married</td>\n      <td>secondary</td>\n      <td>no</td>\n      <td>unknown</td>\n      <td>may</td>\n      <td>unknown</td>\n    </tr>\n    <tr>\n      <th>36168</th>\n      <td>blue-collar</td>\n      <td>married</td>\n      <td>primary</td>\n      <td>yes</td>\n      <td>cellular</td>\n      <td>jul</td>\n      <td>unknown</td>\n    </tr>\n  </tbody>\n</table>\n<p>36169 rows × 7 columns</p>\n</div>"
     },
     "execution_count": 116,
     "metadata": {},
     "output_type": "execute_result"
    }
   ],
   "source": [
    "# Question 3\n",
    "# Calculate the mutual information score between y and other categorical variables in the dataset. Use the training set only.\n",
    "# Round the scores to 2 decimals using round(score, 2).\n",
    "# Which of these variables has the biggest mutual information score?\n",
    "# \n",
    "# contact\n",
    "# education\n",
    "# housing\n",
    "# poutcome\n",
    "df_full_train[categorical]"
   ],
   "metadata": {
    "collapsed": false,
    "ExecuteTime": {
     "end_time": "2024-10-17T01:35:30.162848Z",
     "start_time": "2024-10-17T01:35:30.157114Z"
    }
   },
   "id": "28b4fc5cef046bee",
   "execution_count": 116
  },
  {
   "cell_type": "code",
   "outputs": [
    {
     "data": {
      "text/plain": "np.float64(0.007765171743301404)"
     },
     "execution_count": 117,
     "metadata": {},
     "output_type": "execute_result"
    }
   ],
   "source": [
    "mutual_info_score(df_full_train.y, df_full_train['job'])"
   ],
   "metadata": {
    "collapsed": false,
    "ExecuteTime": {
     "end_time": "2024-10-17T01:35:30.202534Z",
     "start_time": "2024-10-17T01:35:30.163450Z"
    }
   },
   "id": "347c2f9cf581454a",
   "execution_count": 117
  },
  {
   "cell_type": "code",
   "outputs": [
    {
     "name": "stdout",
     "output_type": "stream",
     "text": [
      "job: 0.01\n",
      "marital: 0.0\n",
      "education: 0.0\n",
      "housing: 0.01\n",
      "contact: 0.01\n",
      "month: 0.02\n",
      "poutcome: 0.03\n"
     ]
    }
   ],
   "source": [
    "for column in df_full_train[categorical]:\n",
    "    val = mutual_info_score(df_full_train.y, df_full_train[column])\n",
    "    print(f'{column}: {round(val, 2)}')"
   ],
   "metadata": {
    "collapsed": false,
    "ExecuteTime": {
     "end_time": "2024-10-17T01:35:30.450693Z",
     "start_time": "2024-10-17T01:35:30.203125Z"
    }
   },
   "id": "ed6e47de0fcf0a9d",
   "execution_count": 118
  },
  {
   "cell_type": "code",
   "outputs": [],
   "source": [
    "# Question 4\n",
    "# Now let's train a logistic regression.\n",
    "# Remember that we have several categorical variables in the dataset. Include them using one-hot encoding.\n",
    "# Fit the model on the training dataset.\n",
    "# To make sure the results are reproducible across different versions of Scikit-Learn, fit the model with these parameters:\n",
    "# model = LogisticRegression(solver='liblinear', C=1.0, max_iter=1000, random_state=42)\n",
    "# Calculate the accuracy on the validation dataset and round it to 2 decimal digits.\n",
    "# What accuracy did you get?\n",
    "# \n",
    "# 0.6\n",
    "# 0.7\n",
    "# 0.8\n",
    "# 0.9"
   ],
   "metadata": {
    "collapsed": false,
    "ExecuteTime": {
     "end_time": "2024-10-17T01:35:30.453132Z",
     "start_time": "2024-10-17T01:35:30.451393Z"
    }
   },
   "id": "85866461865406ff",
   "execution_count": 119
  },
  {
   "cell_type": "code",
   "outputs": [
    {
     "data": {
      "text/plain": "array([[ 3.600e+01,  7.220e+02,  2.000e+00, ...,  0.000e+00,  1.000e+00,\n         0.000e+00],\n       [ 3.600e+01, -5.470e+02,  1.000e+00, ...,  0.000e+00,  0.000e+00,\n         2.000e+00],\n       [ 2.900e+01,  3.400e+02,  6.000e+00, ...,  0.000e+00,  1.000e+00,\n         0.000e+00],\n       ...,\n       [ 4.000e+01,  1.498e+03,  1.000e+00, ...,  0.000e+00,  1.000e+00,\n         0.000e+00],\n       [ 5.000e+01,  1.260e+03,  1.000e+00, ...,  0.000e+00,  1.000e+00,\n         0.000e+00],\n       [ 3.700e+01,  4.150e+02,  4.000e+00, ...,  0.000e+00,  1.000e+00,\n         0.000e+00]])"
     },
     "execution_count": 120,
     "metadata": {},
     "output_type": "execute_result"
    }
   ],
   "source": [
    "dv = DictVectorizer(sparse=False)\n",
    "train_dicts = df_train[categorical + numerical].to_dict(orient='records')\n",
    "val_dicts = df_val[categorical + numerical].to_dict(orient='records')\n",
    "X_train = dv.fit_transform(train_dicts)\n",
    "X_val = dv.transform(val_dicts)\n",
    "X_train"
   ],
   "metadata": {
    "collapsed": false,
    "ExecuteTime": {
     "end_time": "2024-10-17T01:35:30.710555Z",
     "start_time": "2024-10-17T01:35:30.453711Z"
    }
   },
   "id": "8fb187c061ebb4b7",
   "execution_count": 120
  },
  {
   "cell_type": "code",
   "outputs": [
    {
     "data": {
      "text/plain": "LogisticRegression(max_iter=1000, random_state=42, solver='liblinear')",
      "text/html": "<style>#sk-container-id-6 {\n  /* Definition of color scheme common for light and dark mode */\n  --sklearn-color-text: black;\n  --sklearn-color-line: gray;\n  /* Definition of color scheme for unfitted estimators */\n  --sklearn-color-unfitted-level-0: #fff5e6;\n  --sklearn-color-unfitted-level-1: #f6e4d2;\n  --sklearn-color-unfitted-level-2: #ffe0b3;\n  --sklearn-color-unfitted-level-3: chocolate;\n  /* Definition of color scheme for fitted estimators */\n  --sklearn-color-fitted-level-0: #f0f8ff;\n  --sklearn-color-fitted-level-1: #d4ebff;\n  --sklearn-color-fitted-level-2: #b3dbfd;\n  --sklearn-color-fitted-level-3: cornflowerblue;\n\n  /* Specific color for light theme */\n  --sklearn-color-text-on-default-background: var(--sg-text-color, var(--theme-code-foreground, var(--jp-content-font-color1, black)));\n  --sklearn-color-background: var(--sg-background-color, var(--theme-background, var(--jp-layout-color0, white)));\n  --sklearn-color-border-box: var(--sg-text-color, var(--theme-code-foreground, var(--jp-content-font-color1, black)));\n  --sklearn-color-icon: #696969;\n\n  @media (prefers-color-scheme: dark) {\n    /* Redefinition of color scheme for dark theme */\n    --sklearn-color-text-on-default-background: var(--sg-text-color, var(--theme-code-foreground, var(--jp-content-font-color1, white)));\n    --sklearn-color-background: var(--sg-background-color, var(--theme-background, var(--jp-layout-color0, #111)));\n    --sklearn-color-border-box: var(--sg-text-color, var(--theme-code-foreground, var(--jp-content-font-color1, white)));\n    --sklearn-color-icon: #878787;\n  }\n}\n\n#sk-container-id-6 {\n  color: var(--sklearn-color-text);\n}\n\n#sk-container-id-6 pre {\n  padding: 0;\n}\n\n#sk-container-id-6 input.sk-hidden--visually {\n  border: 0;\n  clip: rect(1px 1px 1px 1px);\n  clip: rect(1px, 1px, 1px, 1px);\n  height: 1px;\n  margin: -1px;\n  overflow: hidden;\n  padding: 0;\n  position: absolute;\n  width: 1px;\n}\n\n#sk-container-id-6 div.sk-dashed-wrapped {\n  border: 1px dashed var(--sklearn-color-line);\n  margin: 0 0.4em 0.5em 0.4em;\n  box-sizing: border-box;\n  padding-bottom: 0.4em;\n  background-color: var(--sklearn-color-background);\n}\n\n#sk-container-id-6 div.sk-container {\n  /* jupyter's `normalize.less` sets `[hidden] { display: none; }`\n     but bootstrap.min.css set `[hidden] { display: none !important; }`\n     so we also need the `!important` here to be able to override the\n     default hidden behavior on the sphinx rendered scikit-learn.org.\n     See: https://github.com/scikit-learn/scikit-learn/issues/21755 */\n  display: inline-block !important;\n  position: relative;\n}\n\n#sk-container-id-6 div.sk-text-repr-fallback {\n  display: none;\n}\n\ndiv.sk-parallel-item,\ndiv.sk-serial,\ndiv.sk-item {\n  /* draw centered vertical line to link estimators */\n  background-image: linear-gradient(var(--sklearn-color-text-on-default-background), var(--sklearn-color-text-on-default-background));\n  background-size: 2px 100%;\n  background-repeat: no-repeat;\n  background-position: center center;\n}\n\n/* Parallel-specific style estimator block */\n\n#sk-container-id-6 div.sk-parallel-item::after {\n  content: \"\";\n  width: 100%;\n  border-bottom: 2px solid var(--sklearn-color-text-on-default-background);\n  flex-grow: 1;\n}\n\n#sk-container-id-6 div.sk-parallel {\n  display: flex;\n  align-items: stretch;\n  justify-content: center;\n  background-color: var(--sklearn-color-background);\n  position: relative;\n}\n\n#sk-container-id-6 div.sk-parallel-item {\n  display: flex;\n  flex-direction: column;\n}\n\n#sk-container-id-6 div.sk-parallel-item:first-child::after {\n  align-self: flex-end;\n  width: 50%;\n}\n\n#sk-container-id-6 div.sk-parallel-item:last-child::after {\n  align-self: flex-start;\n  width: 50%;\n}\n\n#sk-container-id-6 div.sk-parallel-item:only-child::after {\n  width: 0;\n}\n\n/* Serial-specific style estimator block */\n\n#sk-container-id-6 div.sk-serial {\n  display: flex;\n  flex-direction: column;\n  align-items: center;\n  background-color: var(--sklearn-color-background);\n  padding-right: 1em;\n  padding-left: 1em;\n}\n\n\n/* Toggleable style: style used for estimator/Pipeline/ColumnTransformer box that is\nclickable and can be expanded/collapsed.\n- Pipeline and ColumnTransformer use this feature and define the default style\n- Estimators will overwrite some part of the style using the `sk-estimator` class\n*/\n\n/* Pipeline and ColumnTransformer style (default) */\n\n#sk-container-id-6 div.sk-toggleable {\n  /* Default theme specific background. It is overwritten whether we have a\n  specific estimator or a Pipeline/ColumnTransformer */\n  background-color: var(--sklearn-color-background);\n}\n\n/* Toggleable label */\n#sk-container-id-6 label.sk-toggleable__label {\n  cursor: pointer;\n  display: block;\n  width: 100%;\n  margin-bottom: 0;\n  padding: 0.5em;\n  box-sizing: border-box;\n  text-align: center;\n}\n\n#sk-container-id-6 label.sk-toggleable__label-arrow:before {\n  /* Arrow on the left of the label */\n  content: \"▸\";\n  float: left;\n  margin-right: 0.25em;\n  color: var(--sklearn-color-icon);\n}\n\n#sk-container-id-6 label.sk-toggleable__label-arrow:hover:before {\n  color: var(--sklearn-color-text);\n}\n\n/* Toggleable content - dropdown */\n\n#sk-container-id-6 div.sk-toggleable__content {\n  max-height: 0;\n  max-width: 0;\n  overflow: hidden;\n  text-align: left;\n  /* unfitted */\n  background-color: var(--sklearn-color-unfitted-level-0);\n}\n\n#sk-container-id-6 div.sk-toggleable__content.fitted {\n  /* fitted */\n  background-color: var(--sklearn-color-fitted-level-0);\n}\n\n#sk-container-id-6 div.sk-toggleable__content pre {\n  margin: 0.2em;\n  border-radius: 0.25em;\n  color: var(--sklearn-color-text);\n  /* unfitted */\n  background-color: var(--sklearn-color-unfitted-level-0);\n}\n\n#sk-container-id-6 div.sk-toggleable__content.fitted pre {\n  /* unfitted */\n  background-color: var(--sklearn-color-fitted-level-0);\n}\n\n#sk-container-id-6 input.sk-toggleable__control:checked~div.sk-toggleable__content {\n  /* Expand drop-down */\n  max-height: 200px;\n  max-width: 100%;\n  overflow: auto;\n}\n\n#sk-container-id-6 input.sk-toggleable__control:checked~label.sk-toggleable__label-arrow:before {\n  content: \"▾\";\n}\n\n/* Pipeline/ColumnTransformer-specific style */\n\n#sk-container-id-6 div.sk-label input.sk-toggleable__control:checked~label.sk-toggleable__label {\n  color: var(--sklearn-color-text);\n  background-color: var(--sklearn-color-unfitted-level-2);\n}\n\n#sk-container-id-6 div.sk-label.fitted input.sk-toggleable__control:checked~label.sk-toggleable__label {\n  background-color: var(--sklearn-color-fitted-level-2);\n}\n\n/* Estimator-specific style */\n\n/* Colorize estimator box */\n#sk-container-id-6 div.sk-estimator input.sk-toggleable__control:checked~label.sk-toggleable__label {\n  /* unfitted */\n  background-color: var(--sklearn-color-unfitted-level-2);\n}\n\n#sk-container-id-6 div.sk-estimator.fitted input.sk-toggleable__control:checked~label.sk-toggleable__label {\n  /* fitted */\n  background-color: var(--sklearn-color-fitted-level-2);\n}\n\n#sk-container-id-6 div.sk-label label.sk-toggleable__label,\n#sk-container-id-6 div.sk-label label {\n  /* The background is the default theme color */\n  color: var(--sklearn-color-text-on-default-background);\n}\n\n/* On hover, darken the color of the background */\n#sk-container-id-6 div.sk-label:hover label.sk-toggleable__label {\n  color: var(--sklearn-color-text);\n  background-color: var(--sklearn-color-unfitted-level-2);\n}\n\n/* Label box, darken color on hover, fitted */\n#sk-container-id-6 div.sk-label.fitted:hover label.sk-toggleable__label.fitted {\n  color: var(--sklearn-color-text);\n  background-color: var(--sklearn-color-fitted-level-2);\n}\n\n/* Estimator label */\n\n#sk-container-id-6 div.sk-label label {\n  font-family: monospace;\n  font-weight: bold;\n  display: inline-block;\n  line-height: 1.2em;\n}\n\n#sk-container-id-6 div.sk-label-container {\n  text-align: center;\n}\n\n/* Estimator-specific */\n#sk-container-id-6 div.sk-estimator {\n  font-family: monospace;\n  border: 1px dotted var(--sklearn-color-border-box);\n  border-radius: 0.25em;\n  box-sizing: border-box;\n  margin-bottom: 0.5em;\n  /* unfitted */\n  background-color: var(--sklearn-color-unfitted-level-0);\n}\n\n#sk-container-id-6 div.sk-estimator.fitted {\n  /* fitted */\n  background-color: var(--sklearn-color-fitted-level-0);\n}\n\n/* on hover */\n#sk-container-id-6 div.sk-estimator:hover {\n  /* unfitted */\n  background-color: var(--sklearn-color-unfitted-level-2);\n}\n\n#sk-container-id-6 div.sk-estimator.fitted:hover {\n  /* fitted */\n  background-color: var(--sklearn-color-fitted-level-2);\n}\n\n/* Specification for estimator info (e.g. \"i\" and \"?\") */\n\n/* Common style for \"i\" and \"?\" */\n\n.sk-estimator-doc-link,\na:link.sk-estimator-doc-link,\na:visited.sk-estimator-doc-link {\n  float: right;\n  font-size: smaller;\n  line-height: 1em;\n  font-family: monospace;\n  background-color: var(--sklearn-color-background);\n  border-radius: 1em;\n  height: 1em;\n  width: 1em;\n  text-decoration: none !important;\n  margin-left: 1ex;\n  /* unfitted */\n  border: var(--sklearn-color-unfitted-level-1) 1pt solid;\n  color: var(--sklearn-color-unfitted-level-1);\n}\n\n.sk-estimator-doc-link.fitted,\na:link.sk-estimator-doc-link.fitted,\na:visited.sk-estimator-doc-link.fitted {\n  /* fitted */\n  border: var(--sklearn-color-fitted-level-1) 1pt solid;\n  color: var(--sklearn-color-fitted-level-1);\n}\n\n/* On hover */\ndiv.sk-estimator:hover .sk-estimator-doc-link:hover,\n.sk-estimator-doc-link:hover,\ndiv.sk-label-container:hover .sk-estimator-doc-link:hover,\n.sk-estimator-doc-link:hover {\n  /* unfitted */\n  background-color: var(--sklearn-color-unfitted-level-3);\n  color: var(--sklearn-color-background);\n  text-decoration: none;\n}\n\ndiv.sk-estimator.fitted:hover .sk-estimator-doc-link.fitted:hover,\n.sk-estimator-doc-link.fitted:hover,\ndiv.sk-label-container:hover .sk-estimator-doc-link.fitted:hover,\n.sk-estimator-doc-link.fitted:hover {\n  /* fitted */\n  background-color: var(--sklearn-color-fitted-level-3);\n  color: var(--sklearn-color-background);\n  text-decoration: none;\n}\n\n/* Span, style for the box shown on hovering the info icon */\n.sk-estimator-doc-link span {\n  display: none;\n  z-index: 9999;\n  position: relative;\n  font-weight: normal;\n  right: .2ex;\n  padding: .5ex;\n  margin: .5ex;\n  width: min-content;\n  min-width: 20ex;\n  max-width: 50ex;\n  color: var(--sklearn-color-text);\n  box-shadow: 2pt 2pt 4pt #999;\n  /* unfitted */\n  background: var(--sklearn-color-unfitted-level-0);\n  border: .5pt solid var(--sklearn-color-unfitted-level-3);\n}\n\n.sk-estimator-doc-link.fitted span {\n  /* fitted */\n  background: var(--sklearn-color-fitted-level-0);\n  border: var(--sklearn-color-fitted-level-3);\n}\n\n.sk-estimator-doc-link:hover span {\n  display: block;\n}\n\n/* \"?\"-specific style due to the `<a>` HTML tag */\n\n#sk-container-id-6 a.estimator_doc_link {\n  float: right;\n  font-size: 1rem;\n  line-height: 1em;\n  font-family: monospace;\n  background-color: var(--sklearn-color-background);\n  border-radius: 1rem;\n  height: 1rem;\n  width: 1rem;\n  text-decoration: none;\n  /* unfitted */\n  color: var(--sklearn-color-unfitted-level-1);\n  border: var(--sklearn-color-unfitted-level-1) 1pt solid;\n}\n\n#sk-container-id-6 a.estimator_doc_link.fitted {\n  /* fitted */\n  border: var(--sklearn-color-fitted-level-1) 1pt solid;\n  color: var(--sklearn-color-fitted-level-1);\n}\n\n/* On hover */\n#sk-container-id-6 a.estimator_doc_link:hover {\n  /* unfitted */\n  background-color: var(--sklearn-color-unfitted-level-3);\n  color: var(--sklearn-color-background);\n  text-decoration: none;\n}\n\n#sk-container-id-6 a.estimator_doc_link.fitted:hover {\n  /* fitted */\n  background-color: var(--sklearn-color-fitted-level-3);\n}\n</style><div id=\"sk-container-id-6\" class=\"sk-top-container\"><div class=\"sk-text-repr-fallback\"><pre>LogisticRegression(max_iter=1000, random_state=42, solver=&#x27;liblinear&#x27;)</pre><b>In a Jupyter environment, please rerun this cell to show the HTML representation or trust the notebook. <br />On GitHub, the HTML representation is unable to render, please try loading this page with nbviewer.org.</b></div><div class=\"sk-container\" hidden><div class=\"sk-item\"><div class=\"sk-estimator fitted sk-toggleable\"><input class=\"sk-toggleable__control sk-hidden--visually\" id=\"sk-estimator-id-6\" type=\"checkbox\" checked><label for=\"sk-estimator-id-6\" class=\"sk-toggleable__label fitted sk-toggleable__label-arrow fitted\">&nbsp;&nbsp;LogisticRegression<a class=\"sk-estimator-doc-link fitted\" rel=\"noreferrer\" target=\"_blank\" href=\"https://scikit-learn.org/1.5/modules/generated/sklearn.linear_model.LogisticRegression.html\">?<span>Documentation for LogisticRegression</span></a><span class=\"sk-estimator-doc-link fitted\">i<span>Fitted</span></span></label><div class=\"sk-toggleable__content fitted\"><pre>LogisticRegression(max_iter=1000, random_state=42, solver=&#x27;liblinear&#x27;)</pre></div> </div></div></div></div>"
     },
     "execution_count": 121,
     "metadata": {},
     "output_type": "execute_result"
    }
   ],
   "source": [
    "y_train = y_train.astype('int')\n",
    "model = LogisticRegression(solver='liblinear', C=1.0, max_iter=1000, random_state=42)\n",
    "model.fit(X_train, y_train)"
   ],
   "metadata": {
    "collapsed": false,
    "ExecuteTime": {
     "end_time": "2024-10-17T01:35:30.857297Z",
     "start_time": "2024-10-17T01:35:30.711210Z"
    }
   },
   "id": "a7a52c2accf50a69",
   "execution_count": 121
  },
  {
   "cell_type": "code",
   "outputs": [],
   "source": [
    "y_pred = model.predict_proba(X_val)[:, 1]\n",
    "decision = (y_pred >= 0.5)"
   ],
   "metadata": {
    "collapsed": false,
    "ExecuteTime": {
     "end_time": "2024-10-17T01:35:30.860119Z",
     "start_time": "2024-10-17T01:35:30.857911Z"
    }
   },
   "id": "3dfbd120585fcf89",
   "execution_count": 122
  },
  {
   "cell_type": "code",
   "outputs": [
    {
     "data": {
      "text/plain": "      probability  prediction actual\n0        0.013610           0      0\n1        0.057271           0      0\n2        0.135607           0      1\n3        0.007369           0      0\n4        0.008754           0      0\n...           ...         ...    ...\n9037     0.161242           0      1\n9038     0.005796           0      0\n9039     0.018819           0      0\n9040     0.031830           0      0\n9041     0.672542           1      1\n\n[9042 rows x 3 columns]",
      "text/html": "<div>\n<style scoped>\n    .dataframe tbody tr th:only-of-type {\n        vertical-align: middle;\n    }\n\n    .dataframe tbody tr th {\n        vertical-align: top;\n    }\n\n    .dataframe thead th {\n        text-align: right;\n    }\n</style>\n<table border=\"1\" class=\"dataframe\">\n  <thead>\n    <tr style=\"text-align: right;\">\n      <th></th>\n      <th>probability</th>\n      <th>prediction</th>\n      <th>actual</th>\n    </tr>\n  </thead>\n  <tbody>\n    <tr>\n      <th>0</th>\n      <td>0.013610</td>\n      <td>0</td>\n      <td>0</td>\n    </tr>\n    <tr>\n      <th>1</th>\n      <td>0.057271</td>\n      <td>0</td>\n      <td>0</td>\n    </tr>\n    <tr>\n      <th>2</th>\n      <td>0.135607</td>\n      <td>0</td>\n      <td>1</td>\n    </tr>\n    <tr>\n      <th>3</th>\n      <td>0.007369</td>\n      <td>0</td>\n      <td>0</td>\n    </tr>\n    <tr>\n      <th>4</th>\n      <td>0.008754</td>\n      <td>0</td>\n      <td>0</td>\n    </tr>\n    <tr>\n      <th>...</th>\n      <td>...</td>\n      <td>...</td>\n      <td>...</td>\n    </tr>\n    <tr>\n      <th>9037</th>\n      <td>0.161242</td>\n      <td>0</td>\n      <td>1</td>\n    </tr>\n    <tr>\n      <th>9038</th>\n      <td>0.005796</td>\n      <td>0</td>\n      <td>0</td>\n    </tr>\n    <tr>\n      <th>9039</th>\n      <td>0.018819</td>\n      <td>0</td>\n      <td>0</td>\n    </tr>\n    <tr>\n      <th>9040</th>\n      <td>0.031830</td>\n      <td>0</td>\n      <td>0</td>\n    </tr>\n    <tr>\n      <th>9041</th>\n      <td>0.672542</td>\n      <td>1</td>\n      <td>1</td>\n    </tr>\n  </tbody>\n</table>\n<p>9042 rows × 3 columns</p>\n</div>"
     },
     "execution_count": 123,
     "metadata": {},
     "output_type": "execute_result"
    }
   ],
   "source": [
    "df_pred = pd.DataFrame()\n",
    "df_pred['probability'] = y_pred\n",
    "df_pred['prediction'] = decision.astype(int)\n",
    "df_pred['actual'] = y_val\n",
    "df_pred"
   ],
   "metadata": {
    "collapsed": false,
    "ExecuteTime": {
     "end_time": "2024-10-17T01:35:30.865222Z",
     "start_time": "2024-10-17T01:35:30.860653Z"
    }
   },
   "id": "fc56aaaa72d2e271",
   "execution_count": 123
  },
  {
   "cell_type": "code",
   "outputs": [
    {
     "data": {
      "text/plain": "np.float64(0.9)"
     },
     "execution_count": 124,
     "metadata": {},
     "output_type": "execute_result"
    }
   ],
   "source": [
    "df_pred['correct'] = df_pred.prediction == df_pred.actual\n",
    "df_pred.correct.mean().round(decimals=2)"
   ],
   "metadata": {
    "collapsed": false,
    "ExecuteTime": {
     "end_time": "2024-10-17T01:35:30.868831Z",
     "start_time": "2024-10-17T01:35:30.865963Z"
    }
   },
   "id": "356b998a6a66364b",
   "execution_count": 124
  },
  {
   "cell_type": "code",
   "outputs": [
    {
     "data": {
      "text/plain": "np.float64(0.9)"
     },
     "execution_count": 125,
     "metadata": {},
     "output_type": "execute_result"
    }
   ],
   "source": [
    "(y_val == decision).mean().round(decimals=2)"
   ],
   "metadata": {
    "collapsed": false,
    "ExecuteTime": {
     "end_time": "2024-10-17T01:35:30.871471Z",
     "start_time": "2024-10-17T01:35:30.869395Z"
    }
   },
   "id": "ea22a2f556471882",
   "execution_count": 125
  },
  {
   "cell_type": "code",
   "outputs": [],
   "source": [
    "# Question 5\n",
    "# Let's find the least useful feature using the feature elimination technique.\n",
    "# Train a model with all these features (using the same parameters as in Q4).\n",
    "# Now exclude each feature from this set and train a model without it. Record the accuracy for each model.\n",
    "# For each feature, calculate the difference between the original accuracy and the accuracy without the feature.\n",
    "# Which of following feature has the smallest difference?\n",
    "# \n",
    "# age\n",
    "# balance\n",
    "# marital\n",
    "# previous\n",
    "# Note: The difference doesn't have to be positive."
   ],
   "metadata": {
    "collapsed": false,
    "ExecuteTime": {
     "end_time": "2024-10-17T01:35:30.873441Z",
     "start_time": "2024-10-17T01:35:30.871974Z"
    }
   },
   "id": "474d4f83fac6a4b8",
   "execution_count": 126
  },
  {
   "cell_type": "code",
   "outputs": [
    {
     "data": {
      "text/plain": "['job',\n 'marital',\n 'education',\n 'housing',\n 'contact',\n 'month',\n 'poutcome',\n 'age',\n 'balance',\n 'day',\n 'duration',\n 'campaign',\n 'pdays',\n 'previous']"
     },
     "execution_count": 127,
     "metadata": {},
     "output_type": "execute_result"
    }
   ],
   "source": [
    "all_features = categorical + numerical\n",
    "all_features"
   ],
   "metadata": {
    "collapsed": false,
    "ExecuteTime": {
     "end_time": "2024-10-17T01:35:30.876234Z",
     "start_time": "2024-10-17T01:35:30.874206Z"
    }
   },
   "id": "8b6a0b814f0129a0",
   "execution_count": 127
  },
  {
   "cell_type": "code",
   "outputs": [],
   "source": [
    "all_without_age = list(filter(lambda x: 'age' not in x, all_features))\n",
    "all_without_balance = list(filter(lambda x: 'balance' not in x, all_features))\n",
    "all_without_marital = list(filter(lambda x: 'marital' not in x, all_features))\n",
    "all_without_previous = list(filter(lambda x: 'previous' not in x, all_features))"
   ],
   "metadata": {
    "collapsed": false,
    "ExecuteTime": {
     "end_time": "2024-10-17T01:35:30.878660Z",
     "start_time": "2024-10-17T01:35:30.876711Z"
    }
   },
   "id": "38a3d5fb1050bb15",
   "execution_count": 128
  },
  {
   "cell_type": "code",
   "outputs": [],
   "source": [
    "def logistic_regression_accuracy(features, y_target, df_train, df_val, C_val):\n",
    "    dv = DictVectorizer(sparse=False)\n",
    "    train_d = df_train[features].to_dict(orient='records')\n",
    "    val_d = df_val[features].to_dict(orient='records')\n",
    "    X_train = dv.fit_transform(train_d)\n",
    "    X_val = dv.transform(val_d)\n",
    "    y_train = y_target.astype('int')\n",
    "    model = LogisticRegression(solver='liblinear', C=C_val, max_iter=1000, random_state=42)\n",
    "    model.fit(X_train, y_train)\n",
    "    y_pred = model.predict_proba(X_val)[:, 1]\n",
    "    decision = (y_pred >= 0.5)\n",
    "    return (y_val == decision).mean()"
   ],
   "metadata": {
    "collapsed": false,
    "ExecuteTime": {
     "end_time": "2024-10-17T01:35:30.881787Z",
     "start_time": "2024-10-17T01:35:30.879427Z"
    }
   },
   "id": "deecdfcd19332891",
   "execution_count": 129
  },
  {
   "cell_type": "code",
   "outputs": [],
   "source": [
    "accuracy_original = logistic_regression_accuracy(all_features, y_train, df_train, df_val, 1.0)\n",
    "accuracy_without_age = logistic_regression_accuracy(all_without_age, y_train, df_train, df_val, 1.0)\n",
    "accuracy_without_balance = logistic_regression_accuracy(all_without_balance, y_train, df_train, df_val, 1.0)\n",
    "accuracy_without_marital = logistic_regression_accuracy(all_without_marital, y_train, df_train, df_val, 1.0)\n",
    "accuracy_without_previous = logistic_regression_accuracy(all_without_previous, y_train, df_train, df_val, 1.0)"
   ],
   "metadata": {
    "collapsed": false,
    "ExecuteTime": {
     "end_time": "2024-10-17T01:35:32.811454Z",
     "start_time": "2024-10-17T01:35:30.885164Z"
    }
   },
   "id": "b68c6df0a876692d",
   "execution_count": 130
  },
  {
   "cell_type": "code",
   "outputs": [
    {
     "name": "stdout",
     "output_type": "stream",
     "text": [
      "0.0009953550099535136\n",
      "-0.00033178500331787486\n",
      "0.0008847600088476293\n",
      "0.00044238000442375913\n"
     ]
    }
   ],
   "source": [
    "print(accuracy_original - accuracy_without_age)\n",
    "print(accuracy_original - accuracy_without_balance)\n",
    "print(accuracy_original - accuracy_without_marital)\n",
    "print(accuracy_original - accuracy_without_previous)"
   ],
   "metadata": {
    "collapsed": false,
    "ExecuteTime": {
     "end_time": "2024-10-17T01:35:32.814665Z",
     "start_time": "2024-10-17T01:35:32.812275Z"
    }
   },
   "id": "b3bf3bf2110233b7",
   "execution_count": 131
  },
  {
   "cell_type": "code",
   "outputs": [],
   "source": [
    "# Question 6. Smallest `C` that leads to the best accuracy on the validation set\n",
    "# 0.01\n",
    "# 0.1\n",
    "# 1\n",
    "# 10\n",
    "# 100\n",
    "accuracy_001 = logistic_regression_accuracy(all_features, y_train, df_train, df_val, 0.01)\n",
    "accuracy_01 = logistic_regression_accuracy(all_features, y_train, df_train, df_val, 0.1)\n",
    "accuracy_1 = logistic_regression_accuracy(all_features, y_train, df_train, df_val, 1.0)\n",
    "accuracy_10 = logistic_regression_accuracy(all_features, y_train, df_train, df_val, 10.0)\n",
    "accuracy_100 = logistic_regression_accuracy(all_features, y_train, df_train, df_val, 100.0)"
   ],
   "metadata": {
    "collapsed": false,
    "ExecuteTime": {
     "end_time": "2024-10-17T01:35:34.744437Z",
     "start_time": "2024-10-17T01:35:32.815886Z"
    }
   },
   "id": "1eee362376cde2f2",
   "execution_count": 132
  },
  {
   "cell_type": "code",
   "outputs": [
    {
     "name": "stdout",
     "output_type": "stream",
     "text": [
      "0.8974784339747843\n",
      "0.8989161689891617\n",
      "0.8993585489935855\n",
      "0.8995797389957974\n",
      "0.8990267639902676\n"
     ]
    }
   ],
   "source": [
    "print(accuracy_001)\n",
    "print(accuracy_01)\n",
    "print(accuracy_1)\n",
    "print(accuracy_10)\n",
    "print(accuracy_100)"
   ],
   "metadata": {
    "collapsed": false,
    "ExecuteTime": {
     "end_time": "2024-10-17T01:35:34.747050Z",
     "start_time": "2024-10-17T01:35:34.745202Z"
    }
   },
   "id": "af883641c78494b0",
   "execution_count": 133
  },
  {
   "cell_type": "code",
   "outputs": [],
   "source": [],
   "metadata": {
    "collapsed": false,
    "ExecuteTime": {
     "end_time": "2024-10-17T01:35:34.748995Z",
     "start_time": "2024-10-17T01:35:34.747741Z"
    }
   },
   "id": "a350789d7d6a7de6",
   "execution_count": 133
  }
 ],
 "metadata": {
  "kernelspec": {
   "display_name": "Python 3",
   "language": "python",
   "name": "python3"
  },
  "language_info": {
   "codemirror_mode": {
    "name": "ipython",
    "version": 2
   },
   "file_extension": ".py",
   "mimetype": "text/x-python",
   "name": "python",
   "nbconvert_exporter": "python",
   "pygments_lexer": "ipython2",
   "version": "2.7.6"
  }
 },
 "nbformat": 4,
 "nbformat_minor": 5
}
