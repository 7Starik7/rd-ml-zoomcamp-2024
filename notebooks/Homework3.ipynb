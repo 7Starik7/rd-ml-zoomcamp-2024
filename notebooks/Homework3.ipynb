{
 "cells": [
  {
   "cell_type": "code",
   "execution_count": 74,
   "id": "initial_id",
   "metadata": {
    "collapsed": true,
    "ExecuteTime": {
     "end_time": "2024-10-14T21:30:18.224521Z",
     "start_time": "2024-10-14T21:30:18.221965Z"
    }
   },
   "outputs": [],
   "source": [
    "import pandas as pd\n",
    "import requests\n",
    "import numpy as np\n",
    "import matplotlib.pyplot as plt\n",
    "import zipfile\n",
    "import os"
   ]
  },
  {
   "cell_type": "code",
   "outputs": [],
   "source": [
    "# Getting the data 1\n",
    "url = 'https://archive.ics.uci.edu/static/public/222/bank+marketing.zip'\n",
    "dataset_path = '../datasets/'\n",
    "dataset_file = 'bank+marketing.zip'\n",
    "dataset_full_path = os.path.join(dataset_path, dataset_file)\n",
    "response = requests.get(url)\n",
    "with open(f'{dataset_path}bank+marketing.zip', 'wb') as file:\n",
    "    for chunk in response.iter_content(chunk_size=1024):\n",
    "        file.write(chunk)\n",
    "\n",
    "with zipfile.ZipFile(f'{dataset_path}bank+marketing.zip') as zip_ref:\n",
    "    zip_ref.extractall(f'{dataset_path}/bank+marketing')\n",
    "\n",
    "with zipfile.ZipFile(f'{dataset_path}/bank+marketing/bank.zip') as zip_ref:\n",
    "                zip_ref.extractall(f'{dataset_path}/bank+marketing')"
   ],
   "metadata": {
    "collapsed": false,
    "ExecuteTime": {
     "end_time": "2024-10-14T21:30:19.018334Z",
     "start_time": "2024-10-14T21:30:18.225685Z"
    }
   },
   "id": "80c4e203b9537fb0",
   "execution_count": 75
  },
  {
   "cell_type": "code",
   "outputs": [],
   "source": [
    "bank = pd.read_csv(f'{dataset_path}/bank+marketing/bank-full.csv',sep=';')"
   ],
   "metadata": {
    "collapsed": false,
    "ExecuteTime": {
     "end_time": "2024-10-14T21:30:51.182579Z",
     "start_time": "2024-10-14T21:30:51.128963Z"
    }
   },
   "id": "52bb15cb8b481e8f",
   "execution_count": 80
  },
  {
   "cell_type": "code",
   "outputs": [],
   "source": [
    "df = bank[['age','job','marital','education','balance', 'housing','contact','day','month','duration', 'campaign','pdays', 'poutcome','y']]"
   ],
   "metadata": {
    "collapsed": false,
    "ExecuteTime": {
     "end_time": "2024-10-14T21:30:51.617123Z",
     "start_time": "2024-10-14T21:30:51.611299Z"
    }
   },
   "id": "11942ae7f74617ab",
   "execution_count": 81
  },
  {
   "cell_type": "code",
   "outputs": [
    {
     "data": {
      "text/plain": "education\nsecondary    23202\ntertiary     13301\nprimary       6851\nunknown       1857\nName: count, dtype: int64"
     },
     "execution_count": 86,
     "metadata": {},
     "output_type": "execute_result"
    }
   ],
   "source": [
    "# Question 1\n",
    "# What is the most frequent observation (mode) for the column education?\n",
    "# \n",
    "# unknown\n",
    "# primary\n",
    "# secondary\n",
    "# tertiary\n",
    "df['education'].value_counts()"
   ],
   "metadata": {
    "collapsed": false,
    "ExecuteTime": {
     "end_time": "2024-10-14T22:43:23.627608Z",
     "start_time": "2024-10-14T22:43:23.622399Z"
    }
   },
   "id": "6c052756dda9be52",
   "execution_count": 86
  },
  {
   "cell_type": "code",
   "outputs": [],
   "source": [],
   "metadata": {
    "collapsed": false
   },
   "id": "1991613a2cb91ffb"
  }
 ],
 "metadata": {
  "kernelspec": {
   "display_name": "Python 3",
   "language": "python",
   "name": "python3"
  },
  "language_info": {
   "codemirror_mode": {
    "name": "ipython",
    "version": 2
   },
   "file_extension": ".py",
   "mimetype": "text/x-python",
   "name": "python",
   "nbconvert_exporter": "python",
   "pygments_lexer": "ipython2",
   "version": "2.7.6"
  }
 },
 "nbformat": 4,
 "nbformat_minor": 5
}
