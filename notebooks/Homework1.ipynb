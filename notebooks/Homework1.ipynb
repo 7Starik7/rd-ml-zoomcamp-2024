{
 "cells": [
  {
   "cell_type": "code",
   "execution_count": 1,
   "id": "initial_id",
   "metadata": {
    "collapsed": true,
    "ExecuteTime": {
     "end_time": "2024-11-04T05:43:40.051062Z",
     "start_time": "2024-11-04T05:43:40.014857Z"
    }
   },
   "outputs": [],
   "source": [
    "import pandas as pd\n",
    "import requests\n",
    "import numpy as np"
   ]
  },
  {
   "cell_type": "code",
   "outputs": [
    {
     "data": {
      "text/plain": "'2.2.3'"
     },
     "execution_count": 2,
     "metadata": {},
     "output_type": "execute_result"
    }
   ],
   "source": [
    "# Q1. Pandas version\n",
    "pd.__version__"
   ],
   "metadata": {
    "collapsed": false,
    "ExecuteTime": {
     "end_time": "2024-11-04T05:43:40.055020Z",
     "start_time": "2024-11-04T05:43:40.051886Z"
    }
   },
   "id": "45570e270d2fa985",
   "execution_count": 2
  },
  {
   "cell_type": "markdown",
   "source": [],
   "metadata": {
    "collapsed": false
   },
   "id": "2d3517d4858ca950"
  },
  {
   "cell_type": "code",
   "outputs": [],
   "source": [
    "# Getting the data 1\n",
    "url = 'https://raw.githubusercontent.com/alexeygrigorev/datasets/master/laptops.csv'\n",
    "dataset_path = '../datasets/'\n",
    "response = requests.get(url)\n",
    "with open(f'{dataset_path}laptops.csv', 'wb') as file:\n",
    "    for chunk in response.iter_content(chunk_size=1024):\n",
    "        file.write(chunk)"
   ],
   "metadata": {
    "collapsed": false,
    "ExecuteTime": {
     "end_time": "2024-11-04T05:43:40.279651Z",
     "start_time": "2024-11-04T05:43:40.056573Z"
    }
   },
   "id": "bd8f333fb26fbbfd",
   "execution_count": 3
  },
  {
   "cell_type": "code",
   "outputs": [],
   "source": [
    "# Getting the data 2\n",
    "laptops = pd.read_csv(f'{dataset_path}laptops.csv')"
   ],
   "metadata": {
    "collapsed": false,
    "ExecuteTime": {
     "end_time": "2024-11-04T05:43:40.289403Z",
     "start_time": "2024-11-04T05:43:40.280482Z"
    }
   },
   "id": "eced21d63c891871",
   "execution_count": 4
  },
  {
   "cell_type": "code",
   "outputs": [
    {
     "data": {
      "text/plain": "2160"
     },
     "execution_count": 5,
     "metadata": {},
     "output_type": "execute_result"
    }
   ],
   "source": [
    "# Q2. Records count\n",
    "# How many records are in the dataset?\n",
    "laptops['Laptop'].size"
   ],
   "metadata": {
    "collapsed": false,
    "ExecuteTime": {
     "end_time": "2024-11-04T05:43:40.292867Z",
     "start_time": "2024-11-04T05:43:40.290138Z"
    }
   },
   "id": "b7fd654c69c298b0",
   "execution_count": 5
  },
  {
   "cell_type": "code",
   "outputs": [
    {
     "data": {
      "text/plain": "27"
     },
     "execution_count": 6,
     "metadata": {},
     "output_type": "execute_result"
    }
   ],
   "source": [
    "# Q3. Laptop brands\n",
    "# How many laptop brands are presented in the dataset?\n",
    "laptops['Brand'].nunique()"
   ],
   "metadata": {
    "collapsed": false,
    "ExecuteTime": {
     "end_time": "2024-11-04T05:43:40.296797Z",
     "start_time": "2024-11-04T05:43:40.293647Z"
    }
   },
   "id": "11c23387f0fa274b",
   "execution_count": 6
  },
  {
   "cell_type": "code",
   "outputs": [
    {
     "data": {
      "text/plain": "array([   0,   42, 1371,    4])"
     },
     "execution_count": 7,
     "metadata": {},
     "output_type": "execute_result"
    }
   ],
   "source": [
    "# Q4. Missing values\n",
    "# How many columns in the dataset have missing values?\n",
    "laptops.isnull().sum().unique()"
   ],
   "metadata": {
    "collapsed": false,
    "ExecuteTime": {
     "end_time": "2024-11-04T05:43:40.302387Z",
     "start_time": "2024-11-04T05:43:40.297504Z"
    }
   },
   "id": "266b03fe6cab9258",
   "execution_count": 7
  },
  {
   "cell_type": "code",
   "outputs": [
    {
     "name": "stdout",
     "output_type": "stream",
     "text": [
      "3936.0\n"
     ]
    }
   ],
   "source": [
    "# Q5. Maximum final price\n",
    "# What's the maximum final price of Dell notebooks in the dataset?\n",
    "dell_laptops = laptops.loc[laptops['Brand'].str.contains('Dell')]\n",
    "print(dell_laptops['Final Price'].max())"
   ],
   "metadata": {
    "collapsed": false,
    "ExecuteTime": {
     "end_time": "2024-11-04T05:43:40.306565Z",
     "start_time": "2024-11-04T05:43:40.303284Z"
    }
   },
   "id": "fcbb55a1e3788b83",
   "execution_count": 8
  },
  {
   "cell_type": "code",
   "outputs": [
    {
     "name": "stdout",
     "output_type": "stream",
     "text": [
      "15.6\n",
      "15.6\n",
      "15.6\n"
     ]
    }
   ],
   "source": [
    "# Q6. Median value of Screen\n",
    "# Find the median value of Screen column in the dataset.\n",
    "median_value = laptops['Screen'].median()\n",
    "print(median_value)\n",
    "\n",
    "# Next, calculate the most frequent value of the same Screen column.\n",
    "most_frequent_value = laptops['Screen'].mode().max()\n",
    "print(most_frequent_value)\n",
    "\n",
    "# Use fillna method to fill the missing values in Screen column with the most frequent value from the previous step.\n",
    "laptops.fillna({'Screen': most_frequent_value}, inplace=True)\n",
    "\n",
    "# Now, calculate the median value of Screen once again.\n",
    "median_value2 = laptops['Screen'].median()\n",
    "print(median_value2)"
   ],
   "metadata": {
    "collapsed": false,
    "ExecuteTime": {
     "end_time": "2024-11-04T05:43:40.312767Z",
     "start_time": "2024-11-04T05:43:40.307322Z"
    }
   },
   "id": "bf7bfd0889c31786",
   "execution_count": 9
  },
  {
   "cell_type": "code",
   "outputs": [
    {
     "data": {
      "text/plain": "                                                 Laptop Status   Brand Model  \\\n1478  InnJoo Voom Excellence Intel Celeron N4020/8GB...    New  Innjoo  Voom   \n1479  InnJoo Voom Excellence Pro Intel Celeron N4020...    New  Innjoo  Voom   \n1480  Innjoo Voom Intel Celeron N3350/4GB/64GB eMMC/...    New  Innjoo  Voom   \n1481  Innjoo Voom Laptop Max Intel Celeron N3350/6GB...    New  Innjoo  Voom   \n1482  Innjoo Voom Laptop Pro Intel Celeron N3350/6GB...    New  Innjoo  Voom   \n1483  Innjoo Voom Pro Intel Celeron N3350/6GB/128GB ...    New  Innjoo  Voom   \n\n                CPU  RAM  Storage Storage type  GPU  Screen Touch  Final Price  \n1478  Intel Celeron    8      256          SSD  NaN    15.6    No       311.37  \n1479  Intel Celeron    8      512          SSD  NaN    15.6    No       392.55  \n1480  Intel Celeron    4       64         eMMC  NaN    14.1    No       251.40  \n1481  Intel Celeron    6       64         eMMC  NaN    14.1    No       383.61  \n1482  Intel Celeron    6      128          SSD  NaN    14.1    No       317.02  \n1483  Intel Celeron    6      128         eMMC  NaN    14.1    No       431.38  ",
      "text/html": "<div>\n<style scoped>\n    .dataframe tbody tr th:only-of-type {\n        vertical-align: middle;\n    }\n\n    .dataframe tbody tr th {\n        vertical-align: top;\n    }\n\n    .dataframe thead th {\n        text-align: right;\n    }\n</style>\n<table border=\"1\" class=\"dataframe\">\n  <thead>\n    <tr style=\"text-align: right;\">\n      <th></th>\n      <th>Laptop</th>\n      <th>Status</th>\n      <th>Brand</th>\n      <th>Model</th>\n      <th>CPU</th>\n      <th>RAM</th>\n      <th>Storage</th>\n      <th>Storage type</th>\n      <th>GPU</th>\n      <th>Screen</th>\n      <th>Touch</th>\n      <th>Final Price</th>\n    </tr>\n  </thead>\n  <tbody>\n    <tr>\n      <th>1478</th>\n      <td>InnJoo Voom Excellence Intel Celeron N4020/8GB...</td>\n      <td>New</td>\n      <td>Innjoo</td>\n      <td>Voom</td>\n      <td>Intel Celeron</td>\n      <td>8</td>\n      <td>256</td>\n      <td>SSD</td>\n      <td>NaN</td>\n      <td>15.6</td>\n      <td>No</td>\n      <td>311.37</td>\n    </tr>\n    <tr>\n      <th>1479</th>\n      <td>InnJoo Voom Excellence Pro Intel Celeron N4020...</td>\n      <td>New</td>\n      <td>Innjoo</td>\n      <td>Voom</td>\n      <td>Intel Celeron</td>\n      <td>8</td>\n      <td>512</td>\n      <td>SSD</td>\n      <td>NaN</td>\n      <td>15.6</td>\n      <td>No</td>\n      <td>392.55</td>\n    </tr>\n    <tr>\n      <th>1480</th>\n      <td>Innjoo Voom Intel Celeron N3350/4GB/64GB eMMC/...</td>\n      <td>New</td>\n      <td>Innjoo</td>\n      <td>Voom</td>\n      <td>Intel Celeron</td>\n      <td>4</td>\n      <td>64</td>\n      <td>eMMC</td>\n      <td>NaN</td>\n      <td>14.1</td>\n      <td>No</td>\n      <td>251.40</td>\n    </tr>\n    <tr>\n      <th>1481</th>\n      <td>Innjoo Voom Laptop Max Intel Celeron N3350/6GB...</td>\n      <td>New</td>\n      <td>Innjoo</td>\n      <td>Voom</td>\n      <td>Intel Celeron</td>\n      <td>6</td>\n      <td>64</td>\n      <td>eMMC</td>\n      <td>NaN</td>\n      <td>14.1</td>\n      <td>No</td>\n      <td>383.61</td>\n    </tr>\n    <tr>\n      <th>1482</th>\n      <td>Innjoo Voom Laptop Pro Intel Celeron N3350/6GB...</td>\n      <td>New</td>\n      <td>Innjoo</td>\n      <td>Voom</td>\n      <td>Intel Celeron</td>\n      <td>6</td>\n      <td>128</td>\n      <td>SSD</td>\n      <td>NaN</td>\n      <td>14.1</td>\n      <td>No</td>\n      <td>317.02</td>\n    </tr>\n    <tr>\n      <th>1483</th>\n      <td>Innjoo Voom Pro Intel Celeron N3350/6GB/128GB ...</td>\n      <td>New</td>\n      <td>Innjoo</td>\n      <td>Voom</td>\n      <td>Intel Celeron</td>\n      <td>6</td>\n      <td>128</td>\n      <td>eMMC</td>\n      <td>NaN</td>\n      <td>14.1</td>\n      <td>No</td>\n      <td>431.38</td>\n    </tr>\n  </tbody>\n</table>\n</div>"
     },
     "execution_count": 10,
     "metadata": {},
     "output_type": "execute_result"
    }
   ],
   "source": [
    "# Select all the \"Innjoo\" laptops from the dataset.\n",
    "innjoo_laptops = laptops.loc[laptops['Brand'].str.contains('Innjoo')]\n",
    "innjoo_laptops"
   ],
   "metadata": {
    "collapsed": false,
    "ExecuteTime": {
     "end_time": "2024-11-04T05:43:40.322817Z",
     "start_time": "2024-11-04T05:43:40.313489Z"
    }
   },
   "id": "b7cfdc4a80628fe5",
   "execution_count": 10
  },
  {
   "cell_type": "code",
   "outputs": [
    {
     "data": {
      "text/plain": "      RAM  Storage  Screen\n1478    8      256    15.6\n1479    8      512    15.6\n1480    4       64    14.1\n1481    6       64    14.1\n1482    6      128    14.1\n1483    6      128    14.1",
      "text/html": "<div>\n<style scoped>\n    .dataframe tbody tr th:only-of-type {\n        vertical-align: middle;\n    }\n\n    .dataframe tbody tr th {\n        vertical-align: top;\n    }\n\n    .dataframe thead th {\n        text-align: right;\n    }\n</style>\n<table border=\"1\" class=\"dataframe\">\n  <thead>\n    <tr style=\"text-align: right;\">\n      <th></th>\n      <th>RAM</th>\n      <th>Storage</th>\n      <th>Screen</th>\n    </tr>\n  </thead>\n  <tbody>\n    <tr>\n      <th>1478</th>\n      <td>8</td>\n      <td>256</td>\n      <td>15.6</td>\n    </tr>\n    <tr>\n      <th>1479</th>\n      <td>8</td>\n      <td>512</td>\n      <td>15.6</td>\n    </tr>\n    <tr>\n      <th>1480</th>\n      <td>4</td>\n      <td>64</td>\n      <td>14.1</td>\n    </tr>\n    <tr>\n      <th>1481</th>\n      <td>6</td>\n      <td>64</td>\n      <td>14.1</td>\n    </tr>\n    <tr>\n      <th>1482</th>\n      <td>6</td>\n      <td>128</td>\n      <td>14.1</td>\n    </tr>\n    <tr>\n      <th>1483</th>\n      <td>6</td>\n      <td>128</td>\n      <td>14.1</td>\n    </tr>\n  </tbody>\n</table>\n</div>"
     },
     "execution_count": 11,
     "metadata": {},
     "output_type": "execute_result"
    }
   ],
   "source": [
    "# Select only columns RAM, Storage, Screen.\n",
    "innjoo_laptops_rss = innjoo_laptops[['RAM', 'Storage', 'Screen']]\n",
    "innjoo_laptops_rss"
   ],
   "metadata": {
    "collapsed": false,
    "ExecuteTime": {
     "end_time": "2024-11-04T05:43:40.327584Z",
     "start_time": "2024-11-04T05:43:40.323467Z"
    }
   },
   "id": "534ebc71e2810e30",
   "execution_count": 11
  },
  {
   "cell_type": "code",
   "outputs": [
    {
     "data": {
      "text/plain": "array([[  8. , 256. ,  15.6],\n       [  8. , 512. ,  15.6],\n       [  4. ,  64. ,  14.1],\n       [  6. ,  64. ,  14.1],\n       [  6. , 128. ,  14.1],\n       [  6. , 128. ,  14.1]])"
     },
     "execution_count": 12,
     "metadata": {},
     "output_type": "execute_result"
    }
   ],
   "source": [
    "# Get the underlying NumPy array. Let's call it X.\n",
    "x = innjoo_laptops_rss.to_numpy()\n",
    "x"
   ],
   "metadata": {
    "collapsed": false,
    "ExecuteTime": {
     "end_time": "2024-11-04T05:43:40.332819Z",
     "start_time": "2024-11-04T05:43:40.330028Z"
    }
   },
   "id": "21cae5c64d7fa957",
   "execution_count": 12
  },
  {
   "cell_type": "code",
   "outputs": [
    {
     "data": {
      "text/plain": "array([[  8. ,   8. ,   4. ,   6. ,   6. ,   6. ],\n       [256. , 512. ,  64. ,  64. , 128. , 128. ],\n       [ 15.6,  15.6,  14.1,  14.1,  14.1,  14.1]])"
     },
     "execution_count": 13,
     "metadata": {},
     "output_type": "execute_result"
    }
   ],
   "source": [
    "# Compute matrix-matrix multiplication between the transpose of X and X. To get the transpose, use X.T. Let's call the result XTX.\n",
    "tx = x.T\n",
    "tx"
   ],
   "metadata": {
    "collapsed": false,
    "ExecuteTime": {
     "end_time": "2024-11-04T05:43:40.335777Z",
     "start_time": "2024-11-04T05:43:40.333504Z"
    }
   },
   "id": "cee599f9f7fcd1e",
   "execution_count": 13
  },
  {
   "cell_type": "code",
   "outputs": [
    {
     "data": {
      "text/plain": "array([[2.52000e+02, 8.32000e+03, 5.59800e+02],\n       [8.32000e+03, 3.68640e+05, 1.73952e+04],\n       [5.59800e+02, 1.73952e+04, 1.28196e+03]])"
     },
     "execution_count": 14,
     "metadata": {},
     "output_type": "execute_result"
    }
   ],
   "source": [
    "xtx = tx.dot(x)\n",
    "xtx"
   ],
   "metadata": {
    "collapsed": false,
    "ExecuteTime": {
     "end_time": "2024-11-04T05:43:40.338739Z",
     "start_time": "2024-11-04T05:43:40.336376Z"
    }
   },
   "id": "661ed029e05ee375",
   "execution_count": 14
  },
  {
   "cell_type": "code",
   "outputs": [
    {
     "data": {
      "text/plain": "array([[ 2.78025381e-01, -1.51791334e-03, -1.00809855e-01],\n       [-1.51791334e-03,  1.58286725e-05,  4.48052175e-04],\n       [-1.00809855e-01,  4.48052175e-04,  3.87214888e-02]])"
     },
     "execution_count": 15,
     "metadata": {},
     "output_type": "execute_result"
    }
   ],
   "source": [
    "# Compute the inverse of XTX.\n",
    "xtx_inv = np.linalg.inv(xtx)\n",
    "xtx_inv"
   ],
   "metadata": {
    "collapsed": false,
    "ExecuteTime": {
     "end_time": "2024-11-04T05:43:40.341851Z",
     "start_time": "2024-11-04T05:43:40.339449Z"
    }
   },
   "id": "3c93b7f0a5c022b5",
   "execution_count": 15
  },
  {
   "cell_type": "code",
   "outputs": [
    {
     "data": {
      "text/plain": "array([1100, 1300,  800,  900, 1000, 1100])"
     },
     "execution_count": 16,
     "metadata": {},
     "output_type": "execute_result"
    }
   ],
   "source": [
    "# Create an array y with values [1100, 1300, 800, 900, 1000, 1100].\n",
    "y = np.array([1100, 1300, 800, 900, 1000, 1100])\n",
    "y"
   ],
   "metadata": {
    "collapsed": false,
    "ExecuteTime": {
     "end_time": "2024-11-04T05:43:40.346475Z",
     "start_time": "2024-11-04T05:43:40.342689Z"
    }
   },
   "id": "474be7cde81bfd63",
   "execution_count": 16
  },
  {
   "cell_type": "code",
   "outputs": [
    {
     "data": {
      "text/plain": "array([[ 0.26298349, -0.12560233, -0.40646389,  0.14958687,  0.05244042,\n         0.05244042],\n       [-0.00110155,  0.00295059,  0.00125892, -0.00177691, -0.00076387,\n        -0.00076387],\n       [-0.08772226,  0.0269791 ,  0.17140891, -0.0302108 , -0.00153546,\n        -0.00153546]])"
     },
     "execution_count": 17,
     "metadata": {},
     "output_type": "execute_result"
    }
   ],
   "source": [
    "# Multiply the inverse of XTX with the transpose of X, and then multiply the result by y. Call the result w.\n",
    "xtx_inv_tx = xtx_inv.dot(x.T)\n",
    "xtx_inv_tx"
   ],
   "metadata": {
    "collapsed": false,
    "ExecuteTime": {
     "end_time": "2024-11-04T05:43:40.349502Z",
     "start_time": "2024-11-04T05:43:40.347060Z"
    }
   },
   "id": "c4cca504b7a3fd31",
   "execution_count": 17
  },
  {
   "cell_type": "code",
   "outputs": [
    {
     "data": {
      "text/plain": "array([45.58076606,  0.42783519, 45.29127938])"
     },
     "execution_count": 18,
     "metadata": {},
     "output_type": "execute_result"
    }
   ],
   "source": [
    "w = xtx_inv_tx.dot(y)\n",
    "w"
   ],
   "metadata": {
    "collapsed": false,
    "ExecuteTime": {
     "end_time": "2024-11-04T05:43:40.352244Z",
     "start_time": "2024-11-04T05:43:40.350168Z"
    }
   },
   "id": "afe86ebd1bfcc038",
   "execution_count": 18
  },
  {
   "cell_type": "code",
   "outputs": [
    {
     "name": "stdout",
     "output_type": "stream",
     "text": [
      "91.3\n"
     ]
    }
   ],
   "source": [
    "# What's the sum of all the elements of the result?\n",
    "print(w.sum().round(3))"
   ],
   "metadata": {
    "collapsed": false,
    "ExecuteTime": {
     "end_time": "2024-11-04T05:43:40.354618Z",
     "start_time": "2024-11-04T05:43:40.352846Z"
    }
   },
   "id": "32e452d4a8020c8d",
   "execution_count": 19
  }
 ],
 "metadata": {
  "kernelspec": {
   "display_name": "Python 3",
   "language": "python",
   "name": "python3"
  },
  "language_info": {
   "codemirror_mode": {
    "name": "ipython",
    "version": 2
   },
   "file_extension": ".py",
   "mimetype": "text/x-python",
   "name": "python",
   "nbconvert_exporter": "python",
   "pygments_lexer": "ipython2",
   "version": "2.7.6"
  }
 },
 "nbformat": 4,
 "nbformat_minor": 5
}
