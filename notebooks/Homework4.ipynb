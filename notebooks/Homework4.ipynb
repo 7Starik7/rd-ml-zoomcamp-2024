{
 "cells": [
  {
   "cell_type": "code",
   "execution_count": 293,
   "id": "initial_id",
   "metadata": {
    "collapsed": true,
    "ExecuteTime": {
     "end_time": "2024-10-24T06:36:48.670849Z",
     "start_time": "2024-10-24T06:36:48.667730Z"
    }
   },
   "outputs": [],
   "source": [
    "import pandas as pd\n",
    "import numpy as np\n",
    "import requests\n",
    "import zipfile\n",
    "import os\n",
    "import matplotlib.pyplot as plt\n",
    "\n",
    "from sklearn.model_selection import train_test_split\n",
    "from sklearn.feature_extraction import DictVectorizer\n",
    "from sklearn.linear_model import LogisticRegression\n",
    "from sklearn.metrics import accuracy_score\n",
    "from sklearn.metrics import roc_curve\n",
    "from sklearn.metrics import auc\n",
    "from sklearn.metrics import roc_auc_score"
   ]
  },
  {
   "cell_type": "code",
   "outputs": [],
   "source": [
    "# Getting the data 1\n",
    "url = 'https://archive.ics.uci.edu/static/public/222/bank+marketing.zip'\n",
    "dataset_path = '../datasets/'\n",
    "dataset_file = 'bank+marketing.zip'\n",
    "dataset_full_path = os.path.join(dataset_path, dataset_file)\n",
    "response = requests.get(url)\n",
    "with open(f'{dataset_path}bank+marketing.zip', 'wb') as file:\n",
    "    for chunk in response.iter_content(chunk_size=1024):\n",
    "        file.write(chunk)\n",
    "\n",
    "with zipfile.ZipFile(f'{dataset_path}bank+marketing.zip') as zip_ref:\n",
    "    zip_ref.extractall(f'{dataset_path}/bank+marketing')\n",
    "\n",
    "with zipfile.ZipFile(f'{dataset_path}/bank+marketing/bank.zip') as zip_ref:\n",
    "    zip_ref.extractall(f'{dataset_path}/bank+marketing')"
   ],
   "metadata": {
    "collapsed": false,
    "ExecuteTime": {
     "end_time": "2024-10-24T06:36:49.833103Z",
     "start_time": "2024-10-24T06:36:48.703080Z"
    }
   },
   "id": "29f7f4f14bcd5f90",
   "execution_count": 294
  },
  {
   "cell_type": "code",
   "outputs": [],
   "source": [
    "bank = pd.read_csv(f'{dataset_path}/bank+marketing/bank-full.csv', sep=';')"
   ],
   "metadata": {
    "collapsed": false,
    "ExecuteTime": {
     "end_time": "2024-10-24T06:36:49.884265Z",
     "start_time": "2024-10-24T06:36:49.834260Z"
    }
   },
   "id": "574c9eca78b12121",
   "execution_count": 295
  },
  {
   "cell_type": "code",
   "outputs": [],
   "source": [
    "df = bank[\n",
    "    ['age', 'job', 'marital', 'education', 'balance', 'housing', 'contact', 'day', 'month', 'duration', 'campaign',\n",
    "     'pdays', 'previous', 'poutcome', 'y']]"
   ],
   "metadata": {
    "collapsed": false,
    "ExecuteTime": {
     "end_time": "2024-10-24T06:36:49.890994Z",
     "start_time": "2024-10-24T06:36:49.885133Z"
    }
   },
   "id": "1296ab45dc9c5805",
   "execution_count": 296
  },
  {
   "cell_type": "code",
   "outputs": [],
   "source": [
    "df.loc[:, 'y'] = df['y'].map({'yes': 1, 'no': 0})"
   ],
   "metadata": {
    "collapsed": false,
    "ExecuteTime": {
     "end_time": "2024-10-24T06:36:49.896120Z",
     "start_time": "2024-10-24T06:36:49.892302Z"
    }
   },
   "id": "441d976a9c7247d3",
   "execution_count": 297
  },
  {
   "cell_type": "code",
   "outputs": [
    {
     "data": {
      "text/plain": "(45211, 27127, 9042, 9042)"
     },
     "execution_count": 298,
     "metadata": {},
     "output_type": "execute_result"
    }
   ],
   "source": [
    "# Split the data into 3 parts: train/validation/test with 60%/20%/20% distribution. Use train_test_split function for that with random_state=1\n",
    "df_test, df_train = train_test_split(df, test_size=0.6, random_state=1)\n",
    "df_val, df_test = train_test_split(df_test, test_size=0.5, random_state=1)\n",
    "len(df), len(df_train), len(df_test), len(df_val)"
   ],
   "metadata": {
    "collapsed": false,
    "ExecuteTime": {
     "end_time": "2024-10-24T06:36:49.907143Z",
     "start_time": "2024-10-24T06:36:49.896893Z"
    }
   },
   "id": "98c73e4543e43fb1",
   "execution_count": 298
  },
  {
   "cell_type": "code",
   "outputs": [],
   "source": [
    "df_train = df_train.reset_index(drop=True)\n",
    "df_val = df_val.reset_index(drop=True)\n",
    "df_test = df_test.reset_index(drop=True)"
   ],
   "metadata": {
    "collapsed": false,
    "ExecuteTime": {
     "end_time": "2024-10-24T06:36:49.912821Z",
     "start_time": "2024-10-24T06:36:49.907877Z"
    }
   },
   "id": "b409a31dd820e48f",
   "execution_count": 299
  },
  {
   "cell_type": "code",
   "outputs": [],
   "source": [
    "y_train = df_train.y.values\n",
    "y_val = df_val.y.values\n",
    "y_test = df_test.y.values\n",
    "\n",
    "del df_train['y']\n",
    "del df_val['y']\n",
    "del df_test['y']"
   ],
   "metadata": {
    "collapsed": false,
    "ExecuteTime": {
     "end_time": "2024-10-24T06:36:49.916120Z",
     "start_time": "2024-10-24T06:36:49.913563Z"
    }
   },
   "id": "1841df22fbe7bfd8",
   "execution_count": 300
  },
  {
   "cell_type": "code",
   "outputs": [],
   "source": [
    "numerical = ['age', 'balance', 'day', 'duration', 'campaign', 'pdays', 'previous']\n",
    "categorical = ['job', 'marital', 'education', 'housing', 'contact', 'month', 'poutcome']"
   ],
   "metadata": {
    "collapsed": false,
    "ExecuteTime": {
     "end_time": "2024-10-24T06:36:49.918168Z",
     "start_time": "2024-10-24T06:36:49.916735Z"
    }
   },
   "id": "bf31efbce2dc5a2a",
   "execution_count": 301
  },
  {
   "cell_type": "code",
   "outputs": [],
   "source": [
    "# Question 1: ROC AUC feature importance\n",
    "# ROC AUC could also be used to evaluate feature importance of numerical variables.\n",
    "# \n",
    "# Let's do that\n",
    "# \n",
    "# For each numerical variable, use it as score (aka prediction) and compute the AUC with the y variable as ground truth.\n",
    "# Use the training dataset for that\n",
    "# If your AUC is < 0.5, invert this variable by putting \"-\" in front\n",
    "# \n",
    "# (e.g. -df_train['engine_hp'])\n",
    "# \n",
    "# AUC can go below 0.5 if the variable is negatively correlated with the target variable. You can change the direction of the correlation by negating this variable - then negative correlation becomes positive.\n",
    "# \n",
    "# Which numerical variable (among the following 4) has the highest AUC?\n",
    "# \n",
    "# balance\n",
    "# day\n",
    "# duration\n",
    "# previous\n"
   ],
   "metadata": {
    "collapsed": false,
    "ExecuteTime": {
     "end_time": "2024-10-24T06:36:49.920505Z",
     "start_time": "2024-10-24T06:36:49.918965Z"
    }
   },
   "id": "9823cbb7d61326b0",
   "execution_count": 302
  },
  {
   "cell_type": "code",
   "outputs": [],
   "source": [
    "def train_logistic_regression(features, df_train, y_train, C=1.0):\n",
    "    dv = DictVectorizer(sparse=False)\n",
    "    dict = df_train[features].to_dict(orient='records')\n",
    "    X_train = dv.fit_transform(dict)\n",
    "    model = LogisticRegression(solver='liblinear', C=C, max_iter=1000)\n",
    "    model.fit(X_train, y_train)\n",
    "    return dv, model"
   ],
   "metadata": {
    "collapsed": false,
    "ExecuteTime": {
     "end_time": "2024-10-24T06:36:49.924643Z",
     "start_time": "2024-10-24T06:36:49.922573Z"
    }
   },
   "id": "8cc952e20f89ac6e",
   "execution_count": 303
  },
  {
   "cell_type": "code",
   "outputs": [],
   "source": [
    "def predict_logistic_regression(features, df, dv, model):\n",
    "    dict = df[features].to_dict(orient='records')\n",
    "    X_val = dv.transform(dict)\n",
    "    y_pred = model.predict_proba(X_val)[:, 1]\n",
    "    return y_pred"
   ],
   "metadata": {
    "collapsed": false,
    "ExecuteTime": {
     "end_time": "2024-10-24T06:36:49.927150Z",
     "start_time": "2024-10-24T06:36:49.925358Z"
    }
   },
   "id": "efccd59a38bb6c0e",
   "execution_count": 304
  },
  {
   "cell_type": "code",
   "outputs": [],
   "source": [
    "y_train = y_train.astype('int')\n",
    "y_val = y_val.astype('int')"
   ],
   "metadata": {
    "collapsed": false,
    "ExecuteTime": {
     "end_time": "2024-10-24T06:36:49.929879Z",
     "start_time": "2024-10-24T06:36:49.927646Z"
    }
   },
   "id": "53c383901d9c6a5a",
   "execution_count": 305
  },
  {
   "cell_type": "code",
   "outputs": [],
   "source": [
    "all_features = categorical + numerical\n",
    "all_without_balance = list(filter(lambda x: 'balance' not in x, all_features))\n",
    "all_without_day = list(filter(lambda x: 'day' not in x, all_features))\n",
    "all_without_duration = list(filter(lambda x: 'duration' not in x, all_features))\n",
    "all_without_previous = list(filter(lambda x: 'previous' not in x, all_features))"
   ],
   "metadata": {
    "collapsed": false,
    "ExecuteTime": {
     "end_time": "2024-10-24T06:36:49.932332Z",
     "start_time": "2024-10-24T06:36:49.930417Z"
    }
   },
   "id": "1007f75332569107",
   "execution_count": 306
  },
  {
   "cell_type": "code",
   "outputs": [
    {
     "data": {
      "text/plain": "np.float64(0.8705406780924718)"
     },
     "execution_count": 307,
     "metadata": {},
     "output_type": "execute_result"
    }
   ],
   "source": [
    "y_train = y_train.astype('int')\n",
    "y_val = y_val.astype('int')\n",
    "features = all_without_balance\n",
    "\n",
    "dv, model = train_logistic_regression(features, df_train, y_train, C=0.001)\n",
    "y_pred = predict_logistic_regression(features, df_val, dv, model)\n",
    "roc_auc_score(y_val, y_pred)"
   ],
   "metadata": {
    "collapsed": false,
    "ExecuteTime": {
     "end_time": "2024-10-24T06:36:50.228293Z",
     "start_time": "2024-10-24T06:36:49.933065Z"
    }
   },
   "id": "df2808ff1f06b056",
   "execution_count": 307
  },
  {
   "cell_type": "code",
   "outputs": [
    {
     "data": {
      "text/plain": "np.float64(0.8723618961654769)"
     },
     "execution_count": 308,
     "metadata": {},
     "output_type": "execute_result"
    }
   ],
   "source": [
    "y_train = y_train.astype('int')\n",
    "y_val = y_val.astype('int')\n",
    "features = all_without_day\n",
    "\n",
    "dv, model = train_logistic_regression(features, df_train, y_train, C=0.001)\n",
    "y_pred = predict_logistic_regression(features, df_val, dv, model)\n",
    "roc_auc_score(y_val, y_pred)"
   ],
   "metadata": {
    "collapsed": false,
    "ExecuteTime": {
     "end_time": "2024-10-24T06:36:50.518096Z",
     "start_time": "2024-10-24T06:36:50.229150Z"
    }
   },
   "id": "a0d67e4cbaa330be",
   "execution_count": 308
  },
  {
   "cell_type": "code",
   "outputs": [
    {
     "data": {
      "text/plain": "np.float64(0.7268139273176828)"
     },
     "execution_count": 309,
     "metadata": {},
     "output_type": "execute_result"
    }
   ],
   "source": [
    "y_train = y_train.astype('int')\n",
    "y_val = y_val.astype('int')\n",
    "features = all_without_duration\n",
    "\n",
    "dv, model = train_logistic_regression(features, df_train, y_train, C=0.001)\n",
    "y_pred = predict_logistic_regression(features, df_val, dv, model)\n",
    "roc_auc_score(y_val, y_pred)"
   ],
   "metadata": {
    "collapsed": false,
    "ExecuteTime": {
     "end_time": "2024-10-24T06:36:50.833848Z",
     "start_time": "2024-10-24T06:36:50.518762Z"
    }
   },
   "id": "c8ffe69dcd819f11",
   "execution_count": 309
  },
  {
   "cell_type": "code",
   "outputs": [
    {
     "data": {
      "text/plain": "np.float64(0.8704997370045363)"
     },
     "execution_count": 310,
     "metadata": {},
     "output_type": "execute_result"
    }
   ],
   "source": [
    "y_train = y_train.astype('int')\n",
    "y_val = y_val.astype('int')\n",
    "features = all_without_previous\n",
    "\n",
    "dv, model = train_logistic_regression(features, df_train, y_train, C=0.001)\n",
    "y_pred = predict_logistic_regression(features, df_val, dv, model)\n",
    "roc_auc_score(y_val, y_pred)"
   ],
   "metadata": {
    "collapsed": false,
    "ExecuteTime": {
     "end_time": "2024-10-24T06:36:51.145383Z",
     "start_time": "2024-10-24T06:36:50.834658Z"
    }
   },
   "id": "a2263dbb39c397fa",
   "execution_count": 310
  },
  {
   "cell_type": "code",
   "outputs": [],
   "source": [
    "# Question 2: Training the model\n",
    "# Apply one-hot-encoding using DictVectorizer and train the logistic regression with these parameters:\n",
    "# \n",
    "# LogisticRegression(solver='liblinear', C=1.0, max_iter=1000)\n",
    "# What's the AUC of this model on the validation dataset? (round to 3 digits)\n",
    "# \n",
    "# 0.69\n",
    "# 0.79\n",
    "# 0.89\n",
    "# 0.99"
   ],
   "metadata": {
    "collapsed": false,
    "ExecuteTime": {
     "end_time": "2024-10-24T06:36:51.147830Z",
     "start_time": "2024-10-24T06:36:51.146017Z"
    }
   },
   "id": "3b7fecbca912c14e",
   "execution_count": 311
  },
  {
   "cell_type": "code",
   "outputs": [
    {
     "data": {
      "text/plain": "np.float64(0.913)"
     },
     "execution_count": 312,
     "metadata": {},
     "output_type": "execute_result"
    }
   ],
   "source": [
    "y_train = y_train.astype('int')\n",
    "y_val = y_val.astype('int')\n",
    "features = all_features\n",
    "\n",
    "dv, model = train_logistic_regression(features, df_train, y_train)\n",
    "y_pred = predict_logistic_regression(features, df_val, dv, model)\n",
    "roc_auc_score(y_val, y_pred).round(3)"
   ],
   "metadata": {
    "collapsed": false,
    "ExecuteTime": {
     "end_time": "2024-10-24T06:36:51.551224Z",
     "start_time": "2024-10-24T06:36:51.148617Z"
    }
   },
   "id": "c6c187f17f0498d4",
   "execution_count": 312
  },
  {
   "cell_type": "code",
   "outputs": [],
   "source": [
    "# Question 3: Precision and Recall\n",
    "# Now let's compute precision and recall for our model.\n",
    "# \n",
    "# Evaluate the model on all thresholds from 0.0 to 1.0 with step 0.01\n",
    "# For each threshold, compute precision and recall\n",
    "# Plot them\n",
    "# At which threshold precision and recall curves intersect?\n",
    "# \n",
    "# 0.265\n",
    "# 0.465\n",
    "# 0.665\n",
    "# 0.865"
   ],
   "metadata": {
    "collapsed": false,
    "ExecuteTime": {
     "end_time": "2024-10-24T06:36:51.553878Z",
     "start_time": "2024-10-24T06:36:51.552155Z"
    }
   },
   "id": "20deae1668789d2f",
   "execution_count": 313
  },
  {
   "cell_type": "code",
   "outputs": [
    {
     "data": {
      "text/plain": "0.90687900906879"
     },
     "execution_count": 314,
     "metadata": {},
     "output_type": "execute_result"
    }
   ],
   "source": [
    "accuracy_score(y_val, y_pred >= 0.5)"
   ],
   "metadata": {
    "collapsed": false,
    "ExecuteTime": {
     "end_time": "2024-10-24T06:36:51.557739Z",
     "start_time": "2024-10-24T06:36:51.554805Z"
    }
   },
   "id": "8d54a25b57fe75a9",
   "execution_count": 314
  },
  {
   "cell_type": "code",
   "outputs": [
    {
     "name": "stdout",
     "output_type": "stream",
     "text": [
      "0.00 0.115\n",
      "0.01 0.226\n",
      "0.02 0.357\n",
      "0.03 0.473\n",
      "0.04 0.570\n",
      "0.05 0.647\n",
      "0.06 0.703\n",
      "0.07 0.743\n",
      "0.08 0.774\n",
      "0.09 0.800\n",
      "0.10 0.818\n",
      "0.11 0.831\n",
      "0.12 0.843\n",
      "0.13 0.853\n",
      "0.14 0.861\n",
      "0.15 0.868\n",
      "0.16 0.874\n",
      "0.17 0.877\n",
      "0.18 0.882\n",
      "0.19 0.884\n",
      "0.20 0.887\n",
      "0.21 0.890\n",
      "0.22 0.893\n",
      "0.23 0.895\n",
      "0.24 0.895\n",
      "0.25 0.897\n",
      "0.26 0.900\n",
      "0.27 0.901\n",
      "0.28 0.902\n",
      "0.29 0.902\n",
      "0.30 0.904\n",
      "0.31 0.905\n",
      "0.32 0.905\n",
      "0.33 0.906\n",
      "0.34 0.906\n",
      "0.35 0.906\n",
      "0.36 0.906\n",
      "0.37 0.906\n",
      "0.38 0.906\n",
      "0.39 0.906\n",
      "0.40 0.906\n",
      "0.41 0.907\n",
      "0.42 0.908\n",
      "0.43 0.907\n",
      "0.44 0.908\n",
      "0.45 0.907\n",
      "0.46 0.907\n",
      "0.47 0.907\n",
      "0.48 0.907\n",
      "0.49 0.907\n",
      "0.51 0.907\n",
      "0.52 0.907\n",
      "0.53 0.906\n",
      "0.54 0.906\n",
      "0.55 0.906\n",
      "0.56 0.905\n",
      "0.57 0.906\n",
      "0.58 0.904\n",
      "0.59 0.904\n",
      "0.60 0.904\n",
      "0.61 0.903\n",
      "0.62 0.903\n",
      "0.63 0.903\n",
      "0.64 0.902\n",
      "0.65 0.902\n",
      "0.66 0.901\n",
      "0.67 0.901\n",
      "0.68 0.900\n",
      "0.69 0.900\n",
      "0.70 0.899\n",
      "0.71 0.899\n",
      "0.72 0.899\n",
      "0.73 0.899\n",
      "0.74 0.898\n",
      "0.75 0.898\n",
      "0.76 0.897\n",
      "0.77 0.897\n",
      "0.78 0.896\n",
      "0.79 0.896\n",
      "0.80 0.895\n",
      "0.81 0.894\n",
      "0.82 0.894\n",
      "0.83 0.894\n",
      "0.84 0.893\n",
      "0.85 0.893\n",
      "0.86 0.892\n",
      "0.87 0.891\n",
      "0.88 0.891\n",
      "0.89 0.891\n",
      "0.90 0.890\n",
      "0.91 0.889\n",
      "0.92 0.889\n",
      "0.93 0.888\n",
      "0.94 0.887\n",
      "0.95 0.886\n",
      "0.96 0.886\n",
      "0.97 0.886\n",
      "0.98 0.886\n",
      "0.99 0.885\n",
      "1.00 0.885\n"
     ]
    }
   ],
   "source": [
    "thresholds = np.linspace(0, 1, 100)\n",
    "\n",
    "scores = []\n",
    "\n",
    "for t in thresholds:\n",
    "    score = accuracy_score(y_val, y_pred >= t)\n",
    "    print('%.2f %.3f' % (t, score))\n",
    "    scores.append(score)"
   ],
   "metadata": {
    "collapsed": false,
    "ExecuteTime": {
     "end_time": "2024-10-24T06:36:51.583728Z",
     "start_time": "2024-10-24T06:36:51.558582Z"
    }
   },
   "id": "80afa647eb6c404a",
   "execution_count": 315
  },
  {
   "cell_type": "code",
   "outputs": [
    {
     "data": {
      "text/plain": "[<matplotlib.lines.Line2D at 0x133a506d0>]"
     },
     "execution_count": 316,
     "metadata": {},
     "output_type": "execute_result"
    },
    {
     "data": {
      "text/plain": "<Figure size 640x480 with 1 Axes>",
      "image/png": "[encoded data removed]"
     },
     "metadata": {},
     "output_type": "display_data"
    }
   ],
   "source": [
    "plt.plot(thresholds, scores)"
   ],
   "metadata": {
    "collapsed": false,
    "ExecuteTime": {
     "end_time": "2024-10-24T06:36:51.636422Z",
     "start_time": "2024-10-24T06:36:51.584482Z"
    }
   },
   "id": "f9dc7b9084653914",
   "execution_count": 316
  },
  {
   "cell_type": "code",
   "outputs": [],
   "source": [
    "t = 0.5\n",
    "predict_positive = (y_pred >= t)\n",
    "predict_negative = (y_pred < t)\n",
    "\n",
    "actual_positive = (y_val == 1)\n",
    "actual_negative = (y_val == 0)\n",
    "\n",
    "tp = (predict_positive & actual_positive).sum()\n",
    "tn = (predict_negative & actual_negative).sum()\n",
    "\n",
    "fp = (predict_positive & actual_negative).sum()\n",
    "fn = (predict_negative & actual_positive).sum()"
   ],
   "metadata": {
    "collapsed": false,
    "ExecuteTime": {
     "end_time": "2024-10-24T06:36:51.639800Z",
     "start_time": "2024-10-24T06:36:51.637146Z"
    }
   },
   "id": "a7946d295f377ba",
   "execution_count": 317
  },
  {
   "cell_type": "code",
   "outputs": [
    {
     "data": {
      "text/plain": "np.float64(0.6695059625212947)"
     },
     "execution_count": 318,
     "metadata": {},
     "output_type": "execute_result"
    }
   ],
   "source": [
    "precision = tp / (tp + fp)\n",
    "precision"
   ],
   "metadata": {
    "collapsed": false,
    "ExecuteTime": {
     "end_time": "2024-10-24T06:36:51.642200Z",
     "start_time": "2024-10-24T06:36:51.640377Z"
    }
   },
   "id": "d1b94fec8fc89601",
   "execution_count": 318
  },
  {
   "cell_type": "code",
   "outputs": [
    {
     "data": {
      "text/plain": "np.float64(0.37752161383285304)"
     },
     "execution_count": 319,
     "metadata": {},
     "output_type": "execute_result"
    }
   ],
   "source": [
    "recall = tp / (tp + fn)\n",
    "recall"
   ],
   "metadata": {
    "collapsed": false,
    "ExecuteTime": {
     "end_time": "2024-10-24T06:36:51.644754Z",
     "start_time": "2024-10-24T06:36:51.642741Z"
    }
   },
   "id": "ba9572dbae8a7805",
   "execution_count": 319
  },
  {
   "cell_type": "code",
   "outputs": [
    {
     "data": {
      "text/plain": "np.float64(0.37752161383285304)"
     },
     "execution_count": 320,
     "metadata": {},
     "output_type": "execute_result"
    }
   ],
   "source": [
    "tpr = tp / (tp + fn)\n",
    "tpr"
   ],
   "metadata": {
    "collapsed": false,
    "ExecuteTime": {
     "end_time": "2024-10-24T06:36:51.647751Z",
     "start_time": "2024-10-24T06:36:51.645532Z"
    }
   },
   "id": "c4c1b1170bcca294",
   "execution_count": 320
  },
  {
   "cell_type": "code",
   "outputs": [
    {
     "data": {
      "text/plain": "np.float64(0.024246969128858892)"
     },
     "execution_count": 321,
     "metadata": {},
     "output_type": "execute_result"
    }
   ],
   "source": [
    "fpr = fp / (fp + tn)\n",
    "fpr"
   ],
   "metadata": {
    "collapsed": false,
    "ExecuteTime": {
     "end_time": "2024-10-24T06:36:51.653513Z",
     "start_time": "2024-10-24T06:36:51.651222Z"
    }
   },
   "id": "8c0f9d0b61f6caee",
   "execution_count": 321
  },
  {
   "cell_type": "code",
   "outputs": [],
   "source": [
    "fpr, tpr, thresholds = roc_curve(y_val, y_pred)"
   ],
   "metadata": {
    "collapsed": false,
    "ExecuteTime": {
     "end_time": "2024-10-24T06:36:51.657295Z",
     "start_time": "2024-10-24T06:36:51.654198Z"
    }
   },
   "id": "826bd63da82dfd58",
   "execution_count": 322
  },
  {
   "cell_type": "code",
   "outputs": [
    {
     "data": {
      "text/plain": "<matplotlib.legend.Legend at 0x136c9e410>"
     },
     "execution_count": 323,
     "metadata": {},
     "output_type": "execute_result"
    },
    {
     "data": {
      "text/plain": "<Figure size 500x500 with 1 Axes>",
      "image/png": "[encoded data removed]"
     },
     "metadata": {},
     "output_type": "display_data"
    }
   ],
   "source": [
    "plt.figure(figsize=(5, 5))\n",
    "\n",
    "plt.plot(fpr, tpr, label='Model')\n",
    "plt.plot([0, 1], [0, 1], label='Random', linestyle='--')\n",
    "\n",
    "plt.xlabel('FPR')\n",
    "plt.ylabel('TPR')\n",
    "\n",
    "plt.legend()"
   ],
   "metadata": {
    "collapsed": false,
    "ExecuteTime": {
     "end_time": "2024-10-24T06:36:51.717175Z",
     "start_time": "2024-10-24T06:36:51.658084Z"
    }
   },
   "id": "63afd438198cf250",
   "execution_count": 323
  },
  {
   "cell_type": "code",
   "outputs": [],
   "source": [],
   "metadata": {
    "collapsed": false,
    "ExecuteTime": {
     "end_time": "2024-10-24T06:36:51.719715Z",
     "start_time": "2024-10-24T06:36:51.718156Z"
    }
   },
   "id": "7d7b6f1341051226",
   "execution_count": 323
  }
 ],
 "metadata": {
  "kernelspec": {
   "display_name": "Python 3",
   "language": "python",
   "name": "python3"
  },
  "language_info": {
   "codemirror_mode": {
    "name": "ipython",
    "version": 2
   },
   "file_extension": ".py",
   "mimetype": "text/x-python",
   "name": "python",
   "nbconvert_exporter": "python",
   "pygments_lexer": "ipython2",
   "version": "2.7.6"
  }
 },
 "nbformat": 4,
 "nbformat_minor": 5
}
