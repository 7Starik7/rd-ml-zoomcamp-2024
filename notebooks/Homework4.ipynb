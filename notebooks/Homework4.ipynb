{
 "cells": [
  {
   "cell_type": "code",
   "execution_count": 610,
   "id": "initial_id",
   "metadata": {
    "collapsed": true,
    "ExecuteTime": {
     "end_time": "2024-10-24T19:20:00.072507Z",
     "start_time": "2024-10-24T19:20:00.014969Z"
    }
   },
   "outputs": [],
   "source": [
    "import pandas as pd\n",
    "import numpy as np\n",
    "import requests\n",
    "import zipfile\n",
    "import os\n",
    "import matplotlib.pyplot as plt\n",
    "\n",
    "from sklearn.model_selection import train_test_split\n",
    "from sklearn.feature_extraction import DictVectorizer\n",
    "from sklearn.linear_model import LogisticRegression\n",
    "from sklearn.metrics import accuracy_score\n",
    "from sklearn.metrics import roc_curve\n",
    "from sklearn.metrics import auc\n",
    "from sklearn.metrics import roc_auc_score\n",
    "from sklearn.model_selection import KFold\n",
    "from tqdm.auto import tqdm"
   ]
  },
  {
   "cell_type": "code",
   "outputs": [],
   "source": [
    "# Getting the data 1\n",
    "url = 'https://archive.ics.uci.edu/static/public/222/bank+marketing.zip'\n",
    "dataset_path = '../datasets/'\n",
    "dataset_file = 'bank+marketing.zip'\n",
    "dataset_full_path = os.path.join(dataset_path, dataset_file)\n",
    "response = requests.get(url)\n",
    "with open(f'{dataset_path}bank+marketing.zip', 'wb') as file:\n",
    "    for chunk in response.iter_content(chunk_size=1024):\n",
    "        file.write(chunk)\n",
    "\n",
    "with zipfile.ZipFile(f'{dataset_path}bank+marketing.zip') as zip_ref:\n",
    "    zip_ref.extractall(f'{dataset_path}/bank+marketing')\n",
    "\n",
    "with zipfile.ZipFile(f'{dataset_path}/bank+marketing/bank.zip') as zip_ref:\n",
    "    zip_ref.extractall(f'{dataset_path}/bank+marketing')"
   ],
   "metadata": {
    "collapsed": false,
    "ExecuteTime": {
     "end_time": "2024-10-24T19:20:01.060365Z",
     "start_time": "2024-10-24T19:20:00.073753Z"
    }
   },
   "id": "29f7f4f14bcd5f90",
   "execution_count": 611
  },
  {
   "cell_type": "code",
   "outputs": [],
   "source": [
    "bank = pd.read_csv(f'{dataset_path}/bank+marketing/bank-full.csv', sep=';')"
   ],
   "metadata": {
    "collapsed": false,
    "ExecuteTime": {
     "end_time": "2024-10-24T19:20:01.118134Z",
     "start_time": "2024-10-24T19:20:01.061443Z"
    }
   },
   "id": "574c9eca78b12121",
   "execution_count": 612
  },
  {
   "cell_type": "code",
   "outputs": [],
   "source": [
    "df = bank[\n",
    "    ['age', 'job', 'marital', 'education', 'balance', 'housing', 'contact', 'day', 'month', 'duration', 'campaign',\n",
    "     'pdays', 'previous', 'poutcome', 'y']]"
   ],
   "metadata": {
    "collapsed": false,
    "ExecuteTime": {
     "end_time": "2024-10-24T19:20:01.126116Z",
     "start_time": "2024-10-24T19:20:01.119523Z"
    }
   },
   "id": "1296ab45dc9c5805",
   "execution_count": 613
  },
  {
   "cell_type": "code",
   "outputs": [],
   "source": [
    "df.loc[:, 'y'] = df['y'].map({'yes': 1, 'no': 0})"
   ],
   "metadata": {
    "collapsed": false,
    "ExecuteTime": {
     "end_time": "2024-10-24T19:20:01.131169Z",
     "start_time": "2024-10-24T19:20:01.126896Z"
    }
   },
   "id": "441d976a9c7247d3",
   "execution_count": 614
  },
  {
   "cell_type": "code",
   "outputs": [
    {
     "data": {
      "text/plain": "(45211, 36169, 27127, 9042, 9042)"
     },
     "execution_count": 615,
     "metadata": {},
     "output_type": "execute_result"
    }
   ],
   "source": [
    "# Split the data into 3 parts: train/validation/test with 60%/20%/20% distribution. Use train_test_split function for that with random_state=1\n",
    "df_full_train, df_test = train_test_split(df, test_size=0.19999, random_state=1)\n",
    "df_train, df_val = train_test_split(df_full_train, test_size=0.24999, random_state=1)\n",
    "len(df), len(df_full_train), len(df_train), len(df_test), len(df_val)"
   ],
   "metadata": {
    "collapsed": false,
    "ExecuteTime": {
     "end_time": "2024-10-24T19:20:01.144956Z",
     "start_time": "2024-10-24T19:20:01.131797Z"
    }
   },
   "id": "98c73e4543e43fb1",
   "execution_count": 615
  },
  {
   "cell_type": "code",
   "outputs": [],
   "source": [
    "df_train = df_train.reset_index(drop=True)\n",
    "df_val = df_val.reset_index(drop=True)\n",
    "df_test = df_test.reset_index(drop=True)"
   ],
   "metadata": {
    "collapsed": false,
    "ExecuteTime": {
     "end_time": "2024-10-24T19:20:01.150446Z",
     "start_time": "2024-10-24T19:20:01.145891Z"
    }
   },
   "id": "b409a31dd820e48f",
   "execution_count": 616
  },
  {
   "cell_type": "code",
   "outputs": [],
   "source": [
    "y_train = df_train.y.values\n",
    "y_val = df_val.y.values\n",
    "y_test = df_test.y.values\n",
    "\n",
    "del df_train['y']\n",
    "del df_val['y']\n",
    "del df_test['y']"
   ],
   "metadata": {
    "collapsed": false,
    "ExecuteTime": {
     "end_time": "2024-10-24T19:20:01.153522Z",
     "start_time": "2024-10-24T19:20:01.151064Z"
    }
   },
   "id": "1841df22fbe7bfd8",
   "execution_count": 617
  },
  {
   "cell_type": "code",
   "outputs": [],
   "source": [
    "numerical = ['age', 'balance', 'day', 'duration', 'campaign', 'pdays', 'previous']\n",
    "categorical = ['job', 'marital', 'education', 'housing', 'contact', 'month', 'poutcome']"
   ],
   "metadata": {
    "collapsed": false,
    "ExecuteTime": {
     "end_time": "2024-10-24T19:20:01.156104Z",
     "start_time": "2024-10-24T19:20:01.154288Z"
    }
   },
   "id": "bf31efbce2dc5a2a",
   "execution_count": 618
  },
  {
   "cell_type": "code",
   "outputs": [],
   "source": [
    "# Question 1: ROC AUC feature importance\n",
    "# ROC AUC could also be used to evaluate feature importance of numerical variables.\n",
    "# \n",
    "# Let's do that\n",
    "# \n",
    "# For each numerical variable, use it as score (aka prediction) and compute the AUC with the y variable as ground truth.\n",
    "# Use the training dataset for that\n",
    "# If your AUC is < 0.5, invert this variable by putting \"-\" in front\n",
    "# \n",
    "# (e.g. -df_train['engine_hp'])\n",
    "# \n",
    "# AUC can go below 0.5 if the variable is negatively correlated with the target variable. You can change the direction of the correlation by negating this variable - then negative correlation becomes positive.\n",
    "# \n",
    "# Which numerical variable (among the following 4) has the highest AUC?\n",
    "# \n",
    "# balance\n",
    "# day\n",
    "# duration\n",
    "# previous\n"
   ],
   "metadata": {
    "collapsed": false,
    "ExecuteTime": {
     "end_time": "2024-10-24T19:20:01.160055Z",
     "start_time": "2024-10-24T19:20:01.158262Z"
    }
   },
   "id": "9823cbb7d61326b0",
   "execution_count": 619
  },
  {
   "cell_type": "code",
   "outputs": [],
   "source": [
    "def train_logistic_regression(features, df_train, y_train, C=1.0):\n",
    "    dv = DictVectorizer(sparse=False)\n",
    "    dict = df_train[features].to_dict(orient='records')\n",
    "    X_train = dv.fit_transform(dict)\n",
    "    model = LogisticRegression(solver='liblinear', C=C, max_iter=1000)\n",
    "    model.fit(X_train, y_train)\n",
    "    return dv, model"
   ],
   "metadata": {
    "collapsed": false,
    "ExecuteTime": {
     "end_time": "2024-10-24T19:20:01.162746Z",
     "start_time": "2024-10-24T19:20:01.160706Z"
    }
   },
   "id": "8cc952e20f89ac6e",
   "execution_count": 620
  },
  {
   "cell_type": "code",
   "outputs": [],
   "source": [
    "def predict_logistic_regression(features, df, dv, model):\n",
    "    dict = df[features].to_dict(orient='records')\n",
    "    X_val = dv.transform(dict)\n",
    "    y_pred = model.predict_proba(X_val)[:, 1]\n",
    "    return y_pred"
   ],
   "metadata": {
    "collapsed": false,
    "ExecuteTime": {
     "end_time": "2024-10-24T19:20:01.165701Z",
     "start_time": "2024-10-24T19:20:01.163733Z"
    }
   },
   "id": "efccd59a38bb6c0e",
   "execution_count": 621
  },
  {
   "cell_type": "code",
   "outputs": [],
   "source": [
    "y_train = y_train.astype('int')\n",
    "y_val = y_val.astype('int')"
   ],
   "metadata": {
    "collapsed": false,
    "ExecuteTime": {
     "end_time": "2024-10-24T19:20:01.168407Z",
     "start_time": "2024-10-24T19:20:01.166248Z"
    }
   },
   "id": "53c383901d9c6a5a",
   "execution_count": 622
  },
  {
   "cell_type": "code",
   "outputs": [],
   "source": [
    "all_features = categorical + numerical\n",
    "all_without_balance = list(filter(lambda x: 'balance' not in x, all_features))\n",
    "all_without_day = list(filter(lambda x: 'day' not in x, all_features))\n",
    "all_without_duration = list(filter(lambda x: 'duration' not in x, all_features))\n",
    "all_without_previous = list(filter(lambda x: 'previous' not in x, all_features))"
   ],
   "metadata": {
    "collapsed": false,
    "ExecuteTime": {
     "end_time": "2024-10-24T19:20:01.171065Z",
     "start_time": "2024-10-24T19:20:01.169034Z"
    }
   },
   "id": "1007f75332569107",
   "execution_count": 623
  },
  {
   "cell_type": "code",
   "outputs": [
    {
     "data": {
      "text/plain": "np.float64(0.8589689245032855)"
     },
     "execution_count": 624,
     "metadata": {},
     "output_type": "execute_result"
    }
   ],
   "source": [
    "y_train = y_train.astype('int')\n",
    "y_val = y_val.astype('int')\n",
    "features = all_without_balance\n",
    "\n",
    "dv, model = train_logistic_regression(features, df_train, y_train, C=0.001)\n",
    "y_pred = predict_logistic_regression(features, df_val, dv, model)\n",
    "roc_auc_score(y_val, y_pred)"
   ],
   "metadata": {
    "collapsed": false,
    "ExecuteTime": {
     "end_time": "2024-10-24T19:20:01.461934Z",
     "start_time": "2024-10-24T19:20:01.171790Z"
    }
   },
   "id": "df2808ff1f06b056",
   "execution_count": 624
  },
  {
   "cell_type": "code",
   "outputs": [
    {
     "data": {
      "text/plain": "np.float64(0.8560180346272586)"
     },
     "execution_count": 625,
     "metadata": {},
     "output_type": "execute_result"
    }
   ],
   "source": [
    "y_train = y_train.astype('int')\n",
    "y_val = y_val.astype('int')\n",
    "features = all_without_day\n",
    "\n",
    "dv, model = train_logistic_regression(features, df_train, y_train, C=0.001)\n",
    "y_pred = predict_logistic_regression(features, df_val, dv, model)\n",
    "roc_auc_score(y_val, y_pred)"
   ],
   "metadata": {
    "collapsed": false,
    "ExecuteTime": {
     "end_time": "2024-10-24T19:20:01.753355Z",
     "start_time": "2024-10-24T19:20:01.462515Z"
    }
   },
   "id": "a0d67e4cbaa330be",
   "execution_count": 625
  },
  {
   "cell_type": "code",
   "outputs": [
    {
     "data": {
      "text/plain": "np.float64(0.7219632194253308)"
     },
     "execution_count": 626,
     "metadata": {},
     "output_type": "execute_result"
    }
   ],
   "source": [
    "y_train = y_train.astype('int')\n",
    "y_val = y_val.astype('int')\n",
    "features = all_without_duration\n",
    "\n",
    "dv, model = train_logistic_regression(features, df_train, y_train, C=0.001)\n",
    "y_pred = predict_logistic_regression(features, df_val, dv, model)\n",
    "roc_auc_score(y_val, y_pred)"
   ],
   "metadata": {
    "collapsed": false,
    "ExecuteTime": {
     "end_time": "2024-10-24T19:20:02.063540Z",
     "start_time": "2024-10-24T19:20:01.754114Z"
    }
   },
   "id": "c8ffe69dcd819f11",
   "execution_count": 626
  },
  {
   "cell_type": "code",
   "outputs": [
    {
     "data": {
      "text/plain": "np.float64(0.8588513389271163)"
     },
     "execution_count": 627,
     "metadata": {},
     "output_type": "execute_result"
    }
   ],
   "source": [
    "y_train = y_train.astype('int')\n",
    "y_val = y_val.astype('int')\n",
    "features = all_without_previous\n",
    "\n",
    "dv, model = train_logistic_regression(features, df_train, y_train, C=0.001)\n",
    "y_pred = predict_logistic_regression(features, df_val, dv, model)\n",
    "roc_auc_score(y_val, y_pred)"
   ],
   "metadata": {
    "collapsed": false,
    "ExecuteTime": {
     "end_time": "2024-10-24T19:20:02.378259Z",
     "start_time": "2024-10-24T19:20:02.064241Z"
    }
   },
   "id": "a2263dbb39c397fa",
   "execution_count": 627
  },
  {
   "cell_type": "code",
   "outputs": [],
   "source": [
    "# Question 2: Training the model\n",
    "# Apply one-hot-encoding using DictVectorizer and train the logistic regression with these parameters:\n",
    "# \n",
    "# LogisticRegression(solver='liblinear', C=1.0, max_iter=1000)\n",
    "# What's the AUC of this model on the validation dataset? (round to 3 digits)\n",
    "# \n",
    "# 0.69\n",
    "# 0.79\n",
    "# 0.89\n",
    "# 0.99"
   ],
   "metadata": {
    "collapsed": false,
    "ExecuteTime": {
     "end_time": "2024-10-24T19:20:02.380911Z",
     "start_time": "2024-10-24T19:20:02.379168Z"
    }
   },
   "id": "3b7fecbca912c14e",
   "execution_count": 628
  },
  {
   "cell_type": "code",
   "outputs": [
    {
     "data": {
      "text/plain": "np.float64(0.904)"
     },
     "execution_count": 629,
     "metadata": {},
     "output_type": "execute_result"
    }
   ],
   "source": [
    "y_train = y_train.astype('int')\n",
    "y_val = y_val.astype('int')\n",
    "features = all_features\n",
    "\n",
    "dv, model = train_logistic_regression(features, df_train, y_train)\n",
    "y_pred = predict_logistic_regression(features, df_val, dv, model)\n",
    "roc_auc_score(y_val, y_pred).round(3)"
   ],
   "metadata": {
    "collapsed": false,
    "ExecuteTime": {
     "end_time": "2024-10-24T19:20:02.823122Z",
     "start_time": "2024-10-24T19:20:02.381483Z"
    }
   },
   "id": "c6c187f17f0498d4",
   "execution_count": 629
  },
  {
   "cell_type": "code",
   "outputs": [],
   "source": [
    "# Question 3: Precision and Recall\n",
    "# Now let's compute precision and recall for our model.\n",
    "# \n",
    "# Evaluate the model on all thresholds from 0.0 to 1.0 with step 0.01\n",
    "# For each threshold, compute precision and recall\n",
    "# Plot them\n",
    "# At which threshold precision and recall curves intersect?\n",
    "# \n",
    "# 0.265\n",
    "# 0.465\n",
    "# 0.665\n",
    "# 0.865"
   ],
   "metadata": {
    "collapsed": false,
    "ExecuteTime": {
     "end_time": "2024-10-24T19:20:02.825600Z",
     "start_time": "2024-10-24T19:20:02.823841Z"
    }
   },
   "id": "20deae1668789d2f",
   "execution_count": 630
  },
  {
   "cell_type": "code",
   "outputs": [],
   "source": [
    "def precision_recall_df(y_true, y_pred):\n",
    "    scores = []\n",
    "    thresholds = np.linspace(0, 1, 101)\n",
    "    for t in thresholds:\n",
    "        predict_positive = (y_pred >= t)\n",
    "        predict_negative = (y_pred < t)\n",
    "        actual_positive = (y_val == 1)\n",
    "        actual_negative = (y_val == 0)\n",
    "\n",
    "        tp = (predict_positive & actual_positive).sum()\n",
    "        tn = (predict_negative & actual_negative).sum()\n",
    "        fp = (predict_positive & actual_negative).sum()\n",
    "        fn = (predict_negative & actual_positive).sum()\n",
    "\n",
    "        precision = tp / (tp + fp) if (tp + fp) > 0 else float('nan')\n",
    "        recall = tp / (tp + fn) if (tp + fn) > 0 else float('nan')\n",
    "        f1 = 2 * ((precision * recall) / (precision + recall))\n",
    "\n",
    "        scores.append((t, tp, fp, tn, fn, precision, recall, f1))\n",
    "\n",
    "    columns = [\"thresholds\", \"tp\", \"fp\", \"tn\", \"fn\", \"precision\", \"recall\", \"f1\"]\n",
    "    df_scores = pd.DataFrame(scores, columns=columns)\n",
    "    return df_scores"
   ],
   "metadata": {
    "collapsed": false,
    "ExecuteTime": {
     "end_time": "2024-10-24T19:20:02.829376Z",
     "start_time": "2024-10-24T19:20:02.826396Z"
    }
   },
   "id": "b246923329bc089e",
   "execution_count": 631
  },
  {
   "cell_type": "code",
   "outputs": [
    {
     "data": {
      "text/plain": "     thresholds    tp    fp    tn    fn  precision    recall        f1\n0          0.00  1032  8010     0     0   0.114134  1.000000  0.204884\n1          0.01  1028  7078   932     4   0.126820  0.996124  0.224995\n2          0.02  1025  5887  2123     7   0.148293  0.993217  0.258056\n3          0.03  1019  4808  3202    13   0.174876  0.987403  0.297128\n4          0.04  1011  3930  4080    21   0.204614  0.979651  0.338523\n..          ...   ...   ...   ...   ...        ...       ...       ...\n96         0.96    23    17  7993  1009   0.575000  0.022287  0.042910\n97         0.97    18    14  7996  1014   0.562500  0.017442  0.033835\n98         0.98    15    10  8000  1017   0.600000  0.014535  0.028382\n99         0.99     6     9  8001  1026   0.400000  0.005814  0.011461\n100        1.00     0     0  8010  1032        NaN  0.000000       NaN\n\n[101 rows x 8 columns]",
      "text/html": "<div>\n<style scoped>\n    .dataframe tbody tr th:only-of-type {\n        vertical-align: middle;\n    }\n\n    .dataframe tbody tr th {\n        vertical-align: top;\n    }\n\n    .dataframe thead th {\n        text-align: right;\n    }\n</style>\n<table border=\"1\" class=\"dataframe\">\n  <thead>\n    <tr style=\"text-align: right;\">\n      <th></th>\n      <th>thresholds</th>\n      <th>tp</th>\n      <th>fp</th>\n      <th>tn</th>\n      <th>fn</th>\n      <th>precision</th>\n      <th>recall</th>\n      <th>f1</th>\n    </tr>\n  </thead>\n  <tbody>\n    <tr>\n      <th>0</th>\n      <td>0.00</td>\n      <td>1032</td>\n      <td>8010</td>\n      <td>0</td>\n      <td>0</td>\n      <td>0.114134</td>\n      <td>1.000000</td>\n      <td>0.204884</td>\n    </tr>\n    <tr>\n      <th>1</th>\n      <td>0.01</td>\n      <td>1028</td>\n      <td>7078</td>\n      <td>932</td>\n      <td>4</td>\n      <td>0.126820</td>\n      <td>0.996124</td>\n      <td>0.224995</td>\n    </tr>\n    <tr>\n      <th>2</th>\n      <td>0.02</td>\n      <td>1025</td>\n      <td>5887</td>\n      <td>2123</td>\n      <td>7</td>\n      <td>0.148293</td>\n      <td>0.993217</td>\n      <td>0.258056</td>\n    </tr>\n    <tr>\n      <th>3</th>\n      <td>0.03</td>\n      <td>1019</td>\n      <td>4808</td>\n      <td>3202</td>\n      <td>13</td>\n      <td>0.174876</td>\n      <td>0.987403</td>\n      <td>0.297128</td>\n    </tr>\n    <tr>\n      <th>4</th>\n      <td>0.04</td>\n      <td>1011</td>\n      <td>3930</td>\n      <td>4080</td>\n      <td>21</td>\n      <td>0.204614</td>\n      <td>0.979651</td>\n      <td>0.338523</td>\n    </tr>\n    <tr>\n      <th>...</th>\n      <td>...</td>\n      <td>...</td>\n      <td>...</td>\n      <td>...</td>\n      <td>...</td>\n      <td>...</td>\n      <td>...</td>\n      <td>...</td>\n    </tr>\n    <tr>\n      <th>96</th>\n      <td>0.96</td>\n      <td>23</td>\n      <td>17</td>\n      <td>7993</td>\n      <td>1009</td>\n      <td>0.575000</td>\n      <td>0.022287</td>\n      <td>0.042910</td>\n    </tr>\n    <tr>\n      <th>97</th>\n      <td>0.97</td>\n      <td>18</td>\n      <td>14</td>\n      <td>7996</td>\n      <td>1014</td>\n      <td>0.562500</td>\n      <td>0.017442</td>\n      <td>0.033835</td>\n    </tr>\n    <tr>\n      <th>98</th>\n      <td>0.98</td>\n      <td>15</td>\n      <td>10</td>\n      <td>8000</td>\n      <td>1017</td>\n      <td>0.600000</td>\n      <td>0.014535</td>\n      <td>0.028382</td>\n    </tr>\n    <tr>\n      <th>99</th>\n      <td>0.99</td>\n      <td>6</td>\n      <td>9</td>\n      <td>8001</td>\n      <td>1026</td>\n      <td>0.400000</td>\n      <td>0.005814</td>\n      <td>0.011461</td>\n    </tr>\n    <tr>\n      <th>100</th>\n      <td>1.00</td>\n      <td>0</td>\n      <td>0</td>\n      <td>8010</td>\n      <td>1032</td>\n      <td>NaN</td>\n      <td>0.000000</td>\n      <td>NaN</td>\n    </tr>\n  </tbody>\n</table>\n<p>101 rows × 8 columns</p>\n</div>"
     },
     "execution_count": 632,
     "metadata": {},
     "output_type": "execute_result"
    }
   ],
   "source": [
    "df_plot = precision_recall_df(y_val, y_pred)\n",
    "df_plot"
   ],
   "metadata": {
    "collapsed": false,
    "ExecuteTime": {
     "end_time": "2024-10-24T19:20:02.838494Z",
     "start_time": "2024-10-24T19:20:02.830187Z"
    }
   },
   "id": "6fd77ef17521a04c",
   "execution_count": 632
  },
  {
   "cell_type": "code",
   "outputs": [
    {
     "data": {
      "text/plain": "<matplotlib.legend.Legend at 0x29688ccd0>"
     },
     "execution_count": 633,
     "metadata": {},
     "output_type": "execute_result"
    },
    {
     "data": {
      "text/plain": "<Figure size 640x480 with 1 Axes>",
      "image/png": "[encoded data removed]"
     },
     "metadata": {},
     "output_type": "display_data"
    }
   ],
   "source": [
    "plt.plot(df_plot.thresholds, df_plot['precision'], label='precision')\n",
    "plt.plot(df_plot.thresholds, df_plot['recall'], label='recall')\n",
    "plt.legend()"
   ],
   "metadata": {
    "collapsed": false,
    "ExecuteTime": {
     "end_time": "2024-10-24T19:20:02.901245Z",
     "start_time": "2024-10-24T19:20:02.839443Z"
    }
   },
   "id": "3d5d8989662bc5df",
   "execution_count": 633
  },
  {
   "cell_type": "code",
   "outputs": [],
   "source": [
    "# Question 4: F1 score\n",
    "# Precision and recall are conflicting - when one grows, the other goes down. That's why they are often combined into the F1 score - a metrics that takes into account both\n",
    "# \n",
    "# At which threshold F1 is maximal?\n",
    "# \n",
    "# 0.02\n",
    "# 0.22\n",
    "# 0.42\n",
    "# 0.62"
   ],
   "metadata": {
    "collapsed": false,
    "ExecuteTime": {
     "end_time": "2024-10-24T19:20:02.903981Z",
     "start_time": "2024-10-24T19:20:02.902075Z"
    }
   },
   "id": "7d7b6f1341051226",
   "execution_count": 634
  },
  {
   "cell_type": "code",
   "outputs": [
    {
     "data": {
      "text/plain": "    thresholds        f1\n19        0.19  0.566221\n20        0.20  0.565740\n18        0.18  0.565235\n22        0.22  0.564726\n21        0.21  0.562925",
      "text/html": "<div>\n<style scoped>\n    .dataframe tbody tr th:only-of-type {\n        vertical-align: middle;\n    }\n\n    .dataframe tbody tr th {\n        vertical-align: top;\n    }\n\n    .dataframe thead th {\n        text-align: right;\n    }\n</style>\n<table border=\"1\" class=\"dataframe\">\n  <thead>\n    <tr style=\"text-align: right;\">\n      <th></th>\n      <th>thresholds</th>\n      <th>f1</th>\n    </tr>\n  </thead>\n  <tbody>\n    <tr>\n      <th>19</th>\n      <td>0.19</td>\n      <td>0.566221</td>\n    </tr>\n    <tr>\n      <th>20</th>\n      <td>0.20</td>\n      <td>0.565740</td>\n    </tr>\n    <tr>\n      <th>18</th>\n      <td>0.18</td>\n      <td>0.565235</td>\n    </tr>\n    <tr>\n      <th>22</th>\n      <td>0.22</td>\n      <td>0.564726</td>\n    </tr>\n    <tr>\n      <th>21</th>\n      <td>0.21</td>\n      <td>0.562925</td>\n    </tr>\n  </tbody>\n</table>\n</div>"
     },
     "execution_count": 635,
     "metadata": {},
     "output_type": "execute_result"
    }
   ],
   "source": [
    "df_plot[['thresholds', 'f1']].sort_values(by='f1', ascending=False, inplace=False).iloc[:5]"
   ],
   "metadata": {
    "collapsed": false,
    "ExecuteTime": {
     "end_time": "2024-10-24T19:20:02.908650Z",
     "start_time": "2024-10-24T19:20:02.904613Z"
    }
   },
   "id": "7f372e4b37f87848",
   "execution_count": 635
  },
  {
   "cell_type": "code",
   "outputs": [],
   "source": [
    "# Question 5: 5-Fold CV\n",
    "# Use the KFold class from Scikit-Learn to evaluate our model on 5 different folds:\n",
    "# \n",
    "# KFold(n_splits=5, shuffle=True, random_state=1)\n",
    "# Iterate over different folds of df_full_train\n",
    "# Split the data into train and validation\n",
    "# Train the model on train with these parameters: LogisticRegression(solver='liblinear', C=1.0, max_iter=1000)\n",
    "# Use AUC to evaluate the model on validation\n",
    "# How large is standard deviation of the scores across different folds?\n",
    "# \n",
    "# 0.0001\n",
    "# 0.006\n",
    "# 0.06\n",
    "# 0.26"
   ],
   "metadata": {
    "collapsed": false,
    "ExecuteTime": {
     "end_time": "2024-10-24T19:20:02.910799Z",
     "start_time": "2024-10-24T19:20:02.909310Z"
    }
   },
   "id": "e1bacd853b87c42c",
   "execution_count": 636
  },
  {
   "cell_type": "code",
   "outputs": [],
   "source": [
    "kfold = KFold(n_splits=5, shuffle=True, random_state=1)"
   ],
   "metadata": {
    "collapsed": false,
    "ExecuteTime": {
     "end_time": "2024-10-24T19:20:02.916051Z",
     "start_time": "2024-10-24T19:20:02.914218Z"
    }
   },
   "id": "eb322720c051c860",
   "execution_count": 637
  },
  {
   "cell_type": "code",
   "outputs": [],
   "source": [
    "def train_logistic_regression1(df_t, y_t, C=1.0):\n",
    "    dv = DictVectorizer(sparse=False)\n",
    "    dict = df_t[categorical + numerical].to_dict(orient='records')\n",
    "    X_train = dv.fit_transform(dict)\n",
    "    model = LogisticRegression(solver='liblinear', C=C, max_iter=1000)\n",
    "    model.fit(X_train, y_t)\n",
    "    return dv, model\n",
    "\n",
    "\n",
    "def predict_logistic_regression1(df, dv, model):\n",
    "    dict = df[categorical + numerical].to_dict(orient='records')\n",
    "    X_val = dv.transform(dict)\n",
    "    y_pred = model.predict_proba(X_val)[:, 1]\n",
    "    return y_pred"
   ],
   "metadata": {
    "collapsed": false,
    "ExecuteTime": {
     "end_time": "2024-10-24T19:23:58.014440Z",
     "start_time": "2024-10-24T19:23:58.011253Z"
    }
   },
   "id": "ac36b1c0d798f295",
   "execution_count": 644
  },
  {
   "cell_type": "code",
   "outputs": [],
   "source": [
    "scores = []\n",
    "\n",
    "for train_idx, val_idx in kfold.split(df_full_train):\n",
    "    df_train1 = df_full_train.iloc[train_idx]\n",
    "    df_val1 = df_full_train.iloc[val_idx]\n",
    "\n",
    "    y_train1 = df_train1.y.values\n",
    "    y_val1 = df_val1.y.values\n",
    "\n",
    "    y_train1 = y_train1.astype('int')\n",
    "    y_val1 = y_val1.astype('int')\n",
    "    # \n",
    "    dv, model = train_logistic_regression1(df_train1, y_train1)\n",
    "    y_pred = predict_logistic_regression1(df_val1, dv, model)\n",
    "    auc = roc_auc_score(y_val1, y_pred)\n",
    "    scores.append(auc)"
   ],
   "metadata": {
    "collapsed": false,
    "ExecuteTime": {
     "end_time": "2024-10-24T19:24:00.748367Z",
     "start_time": "2024-10-24T19:23:58.652509Z"
    }
   },
   "id": "ec154790886c327d",
   "execution_count": 645
  },
  {
   "cell_type": "code",
   "outputs": [
    {
     "data": {
      "text/plain": "[np.float64(0.9050960044828757),\n np.float64(0.9054116036446404),\n np.float64(0.9043435372830548),\n np.float64(0.9067046710994654),\n np.float64(0.9089011200735105)]"
     },
     "execution_count": 646,
     "metadata": {},
     "output_type": "execute_result"
    }
   ],
   "source": [
    "scores"
   ],
   "metadata": {
    "collapsed": false,
    "ExecuteTime": {
     "end_time": "2024-10-24T19:24:01.392097Z",
     "start_time": "2024-10-24T19:24:01.387968Z"
    }
   },
   "id": "79a74172ddaec384",
   "execution_count": 646
  },
  {
   "cell_type": "code",
   "outputs": [
    {
     "name": "stdout",
     "output_type": "stream",
     "text": [
      "0.906 +- 0.002\n"
     ]
    }
   ],
   "source": [
    "np.mean(scores), np.std(scores)\n",
    "print('%.3f +- %.3f' % (np.mean(scores), np.std(scores)))"
   ],
   "metadata": {
    "collapsed": false,
    "ExecuteTime": {
     "end_time": "2024-10-24T19:24:03.200735Z",
     "start_time": "2024-10-24T19:24:03.197347Z"
    }
   },
   "id": "251a640ef56a362e",
   "execution_count": 647
  },
  {
   "cell_type": "code",
   "outputs": [],
   "source": [
    "# Question 6: Hyperparameter Tuning\n",
    "# Now let's use 5-Fold cross-validation to find the best parameter C\n",
    "# \n",
    "# Iterate over the following C values: [0.000001, 0.001, 1]\n",
    "# Initialize KFold with the same parameters as previously\n",
    "# Use these parameters for the model: LogisticRegression(solver='liblinear', C=C, max_iter=1000)\n",
    "# Compute the mean score as well as the std (round the mean and std to 3 decimal digits)\n",
    "# Which C leads to the best mean score?\n",
    "# \n",
    "# 0.000001\n",
    "# 0.001\n",
    "# 1\n"
   ],
   "metadata": {
    "collapsed": false,
    "ExecuteTime": {
     "end_time": "2024-10-24T19:24:04.574690Z",
     "start_time": "2024-10-24T19:24:04.572564Z"
    }
   },
   "id": "ab271d6d46b44eb8",
   "execution_count": 648
  },
  {
   "cell_type": "code",
   "outputs": [
    {
     "data": {
      "text/plain": "  0%|          | 0/3 [00:00<?, ?it/s]",
      "application/vnd.jupyter.widget-view+json": {
       "version_major": 2,
       "version_minor": 0,
       "model_id": "0dbcf6add6ee49c4820fd4aad724a19f"
      }
     },
     "metadata": {},
     "output_type": "display_data"
    },
    {
     "name": "stdout",
     "output_type": "stream",
     "text": [
      "C=1e-06 0.701 +- 0.011\n",
      "C=0.001 0.861 +- 0.005\n",
      "C=1 0.906 +- 0.002\n"
     ]
    }
   ],
   "source": [
    "\n",
    "for C in tqdm([0.000001, 0.001, 1]):\n",
    "    kfold = KFold(n_splits=5, shuffle=True, random_state=1)\n",
    "    scores = []\n",
    "    for train_idx, val_idx in kfold.split(df_full_train):\n",
    "        df_train1 = df_full_train.iloc[train_idx]\n",
    "        df_val1 = df_full_train.iloc[val_idx]\n",
    "\n",
    "        y_train1 = df_train1.y.values\n",
    "        y_val1 = df_val1.y.values\n",
    "\n",
    "        y_train1 = y_train1.astype('int')\n",
    "        y_val1 = y_val1.astype('int')\n",
    "        # \n",
    "        dv, model = train_logistic_regression1(df_train1, y_train1, C)\n",
    "        y_pred = predict_logistic_regression1(df_val1, dv, model)\n",
    "        auc = roc_auc_score(y_val1, y_pred)\n",
    "        scores.append(auc)\n",
    "    print('C=%s %.3f +- %.3f' % (C, np.mean(scores), np.std(scores)))"
   ],
   "metadata": {
    "collapsed": false,
    "ExecuteTime": {
     "end_time": "2024-10-24T19:24:33.954816Z",
     "start_time": "2024-10-24T19:24:28.615450Z"
    }
   },
   "id": "9bd113a6ab39e7e4",
   "execution_count": 649
  },
  {
   "cell_type": "code",
   "outputs": [],
   "source": [],
   "metadata": {
    "collapsed": false
   },
   "id": "dde2397d65e81566"
  }
 ],
 "metadata": {
  "kernelspec": {
   "display_name": "Python 3",
   "language": "python",
   "name": "python3"
  },
  "language_info": {
   "codemirror_mode": {
    "name": "ipython",
    "version": 2
   },
   "file_extension": ".py",
   "mimetype": "text/x-python",
   "name": "python",
   "nbconvert_exporter": "python",
   "pygments_lexer": "ipython2",
   "version": "2.7.6"
  }
 },
 "nbformat": 4,
 "nbformat_minor": 5
}
