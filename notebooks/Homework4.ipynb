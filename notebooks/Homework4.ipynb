{
 "cells": [
  {
   "cell_type": "code",
   "execution_count": 207,
   "id": "initial_id",
   "metadata": {
    "collapsed": true,
    "ExecuteTime": {
     "end_time": "2024-10-24T05:54:01.902945Z",
     "start_time": "2024-10-24T05:54:01.899724Z"
    }
   },
   "outputs": [],
   "source": [
    "import pandas as pd\n",
    "import requests\n",
    "import zipfile\n",
    "import os\n",
    "from sklearn.model_selection import train_test_split\n",
    "from sklearn.feature_extraction import DictVectorizer\n",
    "from sklearn.linear_model import LogisticRegression\n",
    "from sklearn.metrics import accuracy_score\n",
    "from sklearn.metrics import roc_curve\n",
    "from sklearn.metrics import auc\n",
    "from sklearn.metrics import roc_auc_score"
   ]
  },
  {
   "cell_type": "code",
   "outputs": [],
   "source": [
    "# Getting the data 1\n",
    "url = 'https://archive.ics.uci.edu/static/public/222/bank+marketing.zip'\n",
    "dataset_path = '../datasets/'\n",
    "dataset_file = 'bank+marketing.zip'\n",
    "dataset_full_path = os.path.join(dataset_path, dataset_file)\n",
    "response = requests.get(url)\n",
    "with open(f'{dataset_path}bank+marketing.zip', 'wb') as file:\n",
    "    for chunk in response.iter_content(chunk_size=1024):\n",
    "        file.write(chunk)\n",
    "\n",
    "with zipfile.ZipFile(f'{dataset_path}bank+marketing.zip') as zip_ref:\n",
    "    zip_ref.extractall(f'{dataset_path}/bank+marketing')\n",
    "\n",
    "with zipfile.ZipFile(f'{dataset_path}/bank+marketing/bank.zip') as zip_ref:\n",
    "    zip_ref.extractall(f'{dataset_path}/bank+marketing')"
   ],
   "metadata": {
    "collapsed": false,
    "ExecuteTime": {
     "end_time": "2024-10-24T05:54:05.609750Z",
     "start_time": "2024-10-24T05:54:01.932002Z"
    }
   },
   "id": "29f7f4f14bcd5f90",
   "execution_count": 208
  },
  {
   "cell_type": "code",
   "outputs": [],
   "source": [
    "bank = pd.read_csv(f'{dataset_path}/bank+marketing/bank-full.csv', sep=';')"
   ],
   "metadata": {
    "collapsed": false,
    "ExecuteTime": {
     "end_time": "2024-10-24T05:54:05.663749Z",
     "start_time": "2024-10-24T05:54:05.611117Z"
    }
   },
   "id": "574c9eca78b12121",
   "execution_count": 209
  },
  {
   "cell_type": "code",
   "outputs": [],
   "source": [
    "df = bank[\n",
    "    ['age', 'job', 'marital', 'education', 'balance', 'housing', 'contact', 'day', 'month', 'duration', 'campaign',\n",
    "     'pdays', 'previous', 'poutcome', 'y']]"
   ],
   "metadata": {
    "collapsed": false,
    "ExecuteTime": {
     "end_time": "2024-10-24T05:54:05.670289Z",
     "start_time": "2024-10-24T05:54:05.664375Z"
    }
   },
   "id": "1296ab45dc9c5805",
   "execution_count": 210
  },
  {
   "cell_type": "code",
   "outputs": [],
   "source": [
    "df.loc[:, 'y'] = df['y'].map({'yes': 1, 'no': 0})"
   ],
   "metadata": {
    "collapsed": false,
    "ExecuteTime": {
     "end_time": "2024-10-24T05:54:05.675441Z",
     "start_time": "2024-10-24T05:54:05.671561Z"
    }
   },
   "id": "441d976a9c7247d3",
   "execution_count": 211
  },
  {
   "cell_type": "code",
   "outputs": [
    {
     "data": {
      "text/plain": "(45211, 27127, 9042, 9042)"
     },
     "execution_count": 212,
     "metadata": {},
     "output_type": "execute_result"
    }
   ],
   "source": [
    "# Split the data into 3 parts: train/validation/test with 60%/20%/20% distribution. Use train_test_split function for that with random_state=1\n",
    "df_test, df_train = train_test_split(df, test_size=0.6, random_state=1)\n",
    "df_val, df_test = train_test_split(df_test, test_size=0.5, random_state=1)\n",
    "len(df), len(df_train), len(df_test), len(df_val)"
   ],
   "metadata": {
    "collapsed": false,
    "ExecuteTime": {
     "end_time": "2024-10-24T05:54:05.685124Z",
     "start_time": "2024-10-24T05:54:05.676056Z"
    }
   },
   "id": "98c73e4543e43fb1",
   "execution_count": 212
  },
  {
   "cell_type": "code",
   "outputs": [],
   "source": [
    "df_train = df_train.reset_index(drop=True)\n",
    "df_val = df_val.reset_index(drop=True)\n",
    "df_test = df_test.reset_index(drop=True)"
   ],
   "metadata": {
    "collapsed": false,
    "ExecuteTime": {
     "end_time": "2024-10-24T05:54:05.690591Z",
     "start_time": "2024-10-24T05:54:05.685834Z"
    }
   },
   "id": "b409a31dd820e48f",
   "execution_count": 213
  },
  {
   "cell_type": "code",
   "outputs": [],
   "source": [
    "y_train = df_train.y.values\n",
    "y_val = df_val.y.values\n",
    "y_test = df_test.y.values\n",
    "\n",
    "del df_train['y']\n",
    "del df_val['y']\n",
    "del df_test['y']"
   ],
   "metadata": {
    "collapsed": false,
    "ExecuteTime": {
     "end_time": "2024-10-24T05:54:05.694021Z",
     "start_time": "2024-10-24T05:54:05.691198Z"
    }
   },
   "id": "1841df22fbe7bfd8",
   "execution_count": 214
  },
  {
   "cell_type": "code",
   "outputs": [],
   "source": [
    "numerical = ['age', 'balance', 'day', 'duration', 'campaign', 'pdays', 'previous']\n",
    "categorical = ['job', 'marital', 'education', 'housing', 'contact', 'month', 'poutcome']"
   ],
   "metadata": {
    "collapsed": false,
    "ExecuteTime": {
     "end_time": "2024-10-24T05:54:05.696424Z",
     "start_time": "2024-10-24T05:54:05.694678Z"
    }
   },
   "id": "bf31efbce2dc5a2a",
   "execution_count": 215
  },
  {
   "cell_type": "code",
   "outputs": [],
   "source": [
    "# Question 1: ROC AUC feature importance\n",
    "# ROC AUC could also be used to evaluate feature importance of numerical variables.\n",
    "# \n",
    "# Let's do that\n",
    "# \n",
    "# For each numerical variable, use it as score (aka prediction) and compute the AUC with the y variable as ground truth.\n",
    "# Use the training dataset for that\n",
    "# If your AUC is < 0.5, invert this variable by putting \"-\" in front\n",
    "# \n",
    "# (e.g. -df_train['engine_hp'])\n",
    "# \n",
    "# AUC can go below 0.5 if the variable is negatively correlated with the target variable. You can change the direction of the correlation by negating this variable - then negative correlation becomes positive.\n",
    "# \n",
    "# Which numerical variable (among the following 4) has the highest AUC?\n",
    "# \n",
    "# balance\n",
    "# day\n",
    "# duration\n",
    "# previous\n"
   ],
   "metadata": {
    "collapsed": false,
    "ExecuteTime": {
     "end_time": "2024-10-24T05:54:05.698638Z",
     "start_time": "2024-10-24T05:54:05.697141Z"
    }
   },
   "id": "9823cbb7d61326b0",
   "execution_count": 216
  },
  {
   "cell_type": "code",
   "outputs": [],
   "source": [
    "def train_logistic_regression(features, df_train, y_train, C=1.0):\n",
    "    dv = DictVectorizer(sparse=False)\n",
    "    dict = df_train[features].to_dict(orient='records')\n",
    "    X_train = dv.fit_transform(dict)\n",
    "    model = LogisticRegression(solver='liblinear', C=C, max_iter=1000)\n",
    "    model.fit(X_train, y_train)\n",
    "    return dv, model"
   ],
   "metadata": {
    "collapsed": false,
    "ExecuteTime": {
     "end_time": "2024-10-24T06:01:39.713757Z",
     "start_time": "2024-10-24T06:01:39.711193Z"
    }
   },
   "id": "8cc952e20f89ac6e",
   "execution_count": 243
  },
  {
   "cell_type": "code",
   "outputs": [],
   "source": [
    "def predict_logistic_regression(features, df, dv, model):\n",
    "    dict = df[features].to_dict(orient='records')\n",
    "    X_val = dv.transform(dict)\n",
    "    y_pred = model.predict_proba(X_val)[:, 1]\n",
    "    return y_pred"
   ],
   "metadata": {
    "collapsed": false,
    "ExecuteTime": {
     "end_time": "2024-10-24T06:01:40.392498Z",
     "start_time": "2024-10-24T06:01:40.390243Z"
    }
   },
   "id": "efccd59a38bb6c0e",
   "execution_count": 244
  },
  {
   "cell_type": "code",
   "outputs": [],
   "source": [
    "y_train = y_train.astype('int')\n",
    "y_val = y_val.astype('int')"
   ],
   "metadata": {
    "collapsed": false,
    "ExecuteTime": {
     "end_time": "2024-10-24T06:01:41.202008Z",
     "start_time": "2024-10-24T06:01:41.199605Z"
    }
   },
   "id": "53c383901d9c6a5a",
   "execution_count": 245
  },
  {
   "cell_type": "code",
   "outputs": [],
   "source": [
    "all_features = categorical + numerical\n",
    "all_without_balance = list(filter(lambda x: 'balance' not in x, all_features))\n",
    "all_without_day = list(filter(lambda x: 'day' not in x, all_features))\n",
    "all_without_duration = list(filter(lambda x: 'duration' not in x, all_features))\n",
    "all_without_previous = list(filter(lambda x: 'previous' not in x, all_features))"
   ],
   "metadata": {
    "collapsed": false,
    "ExecuteTime": {
     "end_time": "2024-10-24T06:01:42.767919Z",
     "start_time": "2024-10-24T06:01:42.765597Z"
    }
   },
   "id": "1007f75332569107",
   "execution_count": 246
  },
  {
   "cell_type": "code",
   "outputs": [
    {
     "data": {
      "text/plain": "np.float64(0.8705406780924718)"
     },
     "execution_count": 251,
     "metadata": {},
     "output_type": "execute_result"
    }
   ],
   "source": [
    "y_train = y_train.astype('int')\n",
    "y_val = y_val.astype('int')\n",
    "features = all_without_balance\n",
    "\n",
    "dv, model = train_logistic_regression(features, df_train, y_train, C=0.001)\n",
    "y_pred = predict_logistic_regression(features, df_val, dv, model)\n",
    "roc_auc_score(y_val, y_pred)"
   ],
   "metadata": {
    "collapsed": false,
    "ExecuteTime": {
     "end_time": "2024-10-24T06:02:47.354582Z",
     "start_time": "2024-10-24T06:02:47.062221Z"
    }
   },
   "id": "df2808ff1f06b056",
   "execution_count": 251
  },
  {
   "cell_type": "code",
   "outputs": [
    {
     "data": {
      "text/plain": "np.float64(0.8723618961654769)"
     },
     "execution_count": 252,
     "metadata": {},
     "output_type": "execute_result"
    }
   ],
   "source": [
    "y_train = y_train.astype('int')\n",
    "y_val = y_val.astype('int')\n",
    "features = all_without_day\n",
    "\n",
    "dv, model = train_logistic_regression(features, df_train, y_train, C=0.001)\n",
    "y_pred = predict_logistic_regression(features, df_val, dv, model)\n",
    "roc_auc_score(y_val, y_pred)"
   ],
   "metadata": {
    "collapsed": false,
    "ExecuteTime": {
     "end_time": "2024-10-24T06:02:48.388675Z",
     "start_time": "2024-10-24T06:02:48.098847Z"
    }
   },
   "id": "a0d67e4cbaa330be",
   "execution_count": 252
  },
  {
   "cell_type": "code",
   "outputs": [
    {
     "data": {
      "text/plain": "np.float64(0.7268139273176828)"
     },
     "execution_count": 249,
     "metadata": {},
     "output_type": "execute_result"
    }
   ],
   "source": [
    "y_train = y_train.astype('int')\n",
    "y_val = y_val.astype('int')\n",
    "features = all_without_duration\n",
    "\n",
    "dv, model = train_logistic_regression(features, df_train, y_train, C=0.001)\n",
    "y_pred = predict_logistic_regression(features, df_val, dv, model)\n",
    "roc_auc_score(y_val, y_pred)"
   ],
   "metadata": {
    "collapsed": false,
    "ExecuteTime": {
     "end_time": "2024-10-24T06:02:01.516333Z",
     "start_time": "2024-10-24T06:02:01.129370Z"
    }
   },
   "id": "c8ffe69dcd819f11",
   "execution_count": 249
  },
  {
   "cell_type": "code",
   "outputs": [
    {
     "data": {
      "text/plain": "np.float64(0.8704997370045363)"
     },
     "execution_count": 250,
     "metadata": {},
     "output_type": "execute_result"
    }
   ],
   "source": [
    "y_train = y_train.astype('int')\n",
    "y_val = y_val.astype('int')\n",
    "features = all_without_previous\n",
    "\n",
    "dv, model = train_logistic_regression(features, df_train, y_train, C=0.001)\n",
    "y_pred = predict_logistic_regression(features, df_val, dv, model)\n",
    "roc_auc_score(y_val, y_pred)"
   ],
   "metadata": {
    "collapsed": false,
    "ExecuteTime": {
     "end_time": "2024-10-24T06:02:03.679467Z",
     "start_time": "2024-10-24T06:02:03.249588Z"
    }
   },
   "id": "a2263dbb39c397fa",
   "execution_count": 250
  },
  {
   "cell_type": "code",
   "outputs": [],
   "source": [
    "# Question 2: Training the model\n",
    "# Apply one-hot-encoding using DictVectorizer and train the logistic regression with these parameters:\n",
    "# \n",
    "# LogisticRegression(solver='liblinear', C=1.0, max_iter=1000)\n",
    "# What's the AUC of this model on the validation dataset? (round to 3 digits)\n",
    "# \n",
    "# 0.69\n",
    "# 0.79\n",
    "# 0.89\n",
    "# 0.99"
   ],
   "metadata": {
    "collapsed": false
   },
   "id": "3b7fecbca912c14e"
  },
  {
   "cell_type": "code",
   "outputs": [
    {
     "data": {
      "text/plain": "np.float64(0.913)"
     },
     "execution_count": 254,
     "metadata": {},
     "output_type": "execute_result"
    }
   ],
   "source": [
    "y_train = y_train.astype('int')\n",
    "y_val = y_val.astype('int')\n",
    "features = all_features\n",
    "\n",
    "dv, model = train_logistic_regression(features, df_train, y_train)\n",
    "y_pred = predict_logistic_regression(features, df_val, dv, model)\n",
    "roc_auc_score(y_val, y_pred).round(3)"
   ],
   "metadata": {
    "collapsed": false,
    "ExecuteTime": {
     "end_time": "2024-10-24T06:05:32.916333Z",
     "start_time": "2024-10-24T06:05:32.419539Z"
    }
   },
   "id": "c6c187f17f0498d4",
   "execution_count": 254
  },
  {
   "cell_type": "code",
   "outputs": [],
   "source": [
    "# Question 3: Precision and Recall\n",
    "# Now let's compute precision and recall for our model.\n",
    "# \n",
    "# Evaluate the model on all thresholds from 0.0 to 1.0 with step 0.01\n",
    "# For each threshold, compute precision and recall\n",
    "# Plot them\n",
    "# At which threshold precision and recall curves intersect?\n",
    "# \n",
    "# 0.265\n",
    "# 0.465\n",
    "# 0.665\n",
    "# 0.865"
   ],
   "metadata": {
    "collapsed": false,
    "ExecuteTime": {
     "end_time": "2024-10-24T05:57:32.476134Z",
     "start_time": "2024-10-24T05:57:32.473484Z"
    }
   },
   "id": "20deae1668789d2f",
   "execution_count": 238
  },
  {
   "cell_type": "code",
   "outputs": [],
   "source": [],
   "metadata": {
    "collapsed": false
   },
   "id": "f9dc7b9084653914"
  },
  {
   "cell_type": "code",
   "outputs": [
    {
     "data": {
      "text/plain": "np.float64(0.8927228489272285)"
     },
     "execution_count": 219,
     "metadata": {},
     "output_type": "execute_result"
    }
   ],
   "source": [
    "y_pred = model.predict_proba(X_val)[:, 1]\n",
    "decision = (y_pred >= 0.5).astype(int)\n",
    "(y_val == decision).mean()"
   ],
   "metadata": {
    "collapsed": false
   },
   "id": "80afa647eb6c404a",
   "execution_count": 219
  },
  {
   "cell_type": "code",
   "outputs": [
    {
     "data": {
      "text/plain": "0.8927228489272285"
     },
     "execution_count": 220,
     "metadata": {},
     "output_type": "execute_result"
    }
   ],
   "source": [
    "accuracy_score(y_val, decision)"
   ],
   "metadata": {
    "collapsed": false,
    "ExecuteTime": {
     "end_time": "2024-10-24T05:54:06.058997Z",
     "start_time": "2024-10-24T05:54:06.056454Z"
    }
   },
   "id": "da4020713490f8f3",
   "execution_count": 220
  },
  {
   "cell_type": "code",
   "outputs": [],
   "source": [
    "t = 0.5\n",
    "predict_positive = (y_pred >= t)\n",
    "predict_negative = (y_pred < t)\n",
    "\n",
    "actual_positive = (y_val == 1)\n",
    "actual_negative = (y_val == 0)\n",
    "\n",
    "tp = (predict_positive & actual_positive).sum()\n",
    "tn = (predict_negative & actual_negative).sum()\n",
    "\n",
    "fp = (predict_positive & actual_negative).sum()\n",
    "fn = (predict_negative & actual_positive).sum()"
   ],
   "metadata": {
    "collapsed": false,
    "ExecuteTime": {
     "end_time": "2024-10-24T05:54:06.062085Z",
     "start_time": "2024-10-24T05:54:06.059728Z"
    }
   },
   "id": "a7946d295f377ba",
   "execution_count": 221
  },
  {
   "cell_type": "code",
   "outputs": [
    {
     "data": {
      "text/plain": "np.float64(0.17002881844380405)"
     },
     "execution_count": 222,
     "metadata": {},
     "output_type": "execute_result"
    }
   ],
   "source": [
    "tpr = tp / (tp + fn)\n",
    "tpr"
   ],
   "metadata": {
    "collapsed": false,
    "ExecuteTime": {
     "end_time": "2024-10-24T05:54:06.064914Z",
     "start_time": "2024-10-24T05:54:06.062617Z"
    }
   },
   "id": "c4c1b1170bcca294",
   "execution_count": 222
  },
  {
   "cell_type": "code",
   "outputs": [
    {
     "data": {
      "text/plain": "np.float64(0.013248343957005373)"
     },
     "execution_count": 223,
     "metadata": {},
     "output_type": "execute_result"
    }
   ],
   "source": [
    "fpr = fp / (fp + tn)\n",
    "fpr"
   ],
   "metadata": {
    "collapsed": false,
    "ExecuteTime": {
     "end_time": "2024-10-24T05:54:06.067479Z",
     "start_time": "2024-10-24T05:54:06.065532Z"
    }
   },
   "id": "8c0f9d0b61f6caee",
   "execution_count": 223
  },
  {
   "cell_type": "code",
   "outputs": [],
   "source": [
    "fpr, tpr, thresholds = roc_curve(y_val, y_pred)"
   ],
   "metadata": {
    "collapsed": false,
    "ExecuteTime": {
     "end_time": "2024-10-24T05:54:06.070975Z",
     "start_time": "2024-10-24T05:54:06.068093Z"
    }
   },
   "id": "826bd63da82dfd58",
   "execution_count": 224
  },
  {
   "cell_type": "code",
   "outputs": [
    {
     "data": {
      "text/plain": "np.float64(0.8557011545506858)"
     },
     "execution_count": 225,
     "metadata": {},
     "output_type": "execute_result"
    }
   ],
   "source": [
    "auc(fpr, tpr)"
   ],
   "metadata": {
    "collapsed": false,
    "ExecuteTime": {
     "end_time": "2024-10-24T05:54:06.073592Z",
     "start_time": "2024-10-24T05:54:06.071589Z"
    }
   },
   "id": "ed301d35e25166af",
   "execution_count": 225
  },
  {
   "cell_type": "code",
   "outputs": [
    {
     "data": {
      "text/plain": "np.float64(0.8557011545506858)"
     },
     "execution_count": 226,
     "metadata": {},
     "output_type": "execute_result"
    }
   ],
   "source": [
    "roc_auc_score(y_val, y_pred)"
   ],
   "metadata": {
    "collapsed": false,
    "ExecuteTime": {
     "end_time": "2024-10-24T05:54:06.078064Z",
     "start_time": "2024-10-24T05:54:06.074138Z"
    }
   },
   "id": "9e7bd233bc6a4a2a",
   "execution_count": 226
  },
  {
   "cell_type": "code",
   "outputs": [],
   "source": [],
   "metadata": {
    "collapsed": false
   },
   "id": "4f1fb3424f5f6f03"
  }
 ],
 "metadata": {
  "kernelspec": {
   "display_name": "Python 3",
   "language": "python",
   "name": "python3"
  },
  "language_info": {
   "codemirror_mode": {
    "name": "ipython",
    "version": 2
   },
   "file_extension": ".py",
   "mimetype": "text/x-python",
   "name": "python",
   "nbconvert_exporter": "python",
   "pygments_lexer": "ipython2",
   "version": "2.7.6"
  }
 },
 "nbformat": 4,
 "nbformat_minor": 5
}
